{
 "cells": [
  {
   "cell_type": "markdown",
   "metadata": {},
   "source": [
    "# Validate results of SuperLearner(R version)\n",
    "\n",
    "This script can parse results of SuperLearner(R version) and calculate AUROC and AUPRC for mortality prediction tasks."
   ]
  },
  {
   "cell_type": "code",
   "execution_count": 60,
   "metadata": {
    "collapsed": true
   },
   "outputs": [],
   "source": [
    "import rpy2.robjects as robjects\n",
    "from rpy2.robjects import pandas2ri\n",
    "import pandas as pd\n",
    "import numpy as np\n",
    "import matplotlib.pyplot as plt\n",
    "%matplotlib inline"
   ]
  },
  {
   "cell_type": "code",
   "execution_count": 34,
   "metadata": {},
   "outputs": [
    {
     "data": {
      "text/plain": [
       "R object with classes: ('list',) mapped to:\n",
       "<ListVector - Python:0x7fdf7a370d48 / R:0x3337310>\n",
       "[ListVec..., ListVec..., ListVec..., ListVec..., ListVec...]\n",
       "R object with classes: ('list',) mapped to:\n",
       "<ListVector - Python:0x7fdf7a370d48 / R:0x3337310>\n",
       "[ListVec..., ListVec..., ListVec..., ListVec..., ListVec...]\n",
       "R object with classes: ('list',) mapped to:\n",
       "<ListVector - Python:0x7fdf7a370d48 / R:0x3337310>\n",
       "[ListVec..., ListVec..., ListVec..., ListVec..., ListVec...]\n",
       "R object with classes: ('list',) mapped to:\n",
       "<ListVector - Python:0x7fdf7a370d48 / R:0x3337310>\n",
       "[ListVec..., ListVec..., ListVec..., ListVec..., ListVec...]\n",
       "R object with classes: ('list',) mapped to:\n",
       "<ListVector - Python:0x7fdf7a370d48 / R:0x3337310>\n",
       "[ListVec..., ListVec..., ListVec..., ListVec..., ListVec...]\n",
       "R object with classes: ('list',) mapped to:\n",
       "<ListVector - Python:0x7fdf7a370d48 / R:0x3337310>\n",
       "[ListVec..., ListVec..., ListVec..., ListVec..., ListVec...]"
      ]
     },
     "execution_count": 34,
     "metadata": {},
     "output_type": "execute_result"
    }
   ],
   "source": [
    "readRDS = robjects.r['readRDS']\n",
    "df = readRDS('../../Data/admdata_17f/24hrs/non_series/folds/results.rds')\n",
    "df = pandas2ri.ri2py(df)\n",
    "df"
   ]
  },
  {
   "cell_type": "markdown",
   "metadata": {},
   "source": [
    "## Validate base algorithms\n",
    "\n",
    "Print the CV-risk(L2-loss) and standard error of each base algorithm."
   ]
  },
  {
   "cell_type": "code",
   "execution_count": 59,
   "metadata": {},
   "outputs": [
    {
     "name": "stdout",
     "output_type": "stream",
     "text": [
      "SL.glmnet \t 0.0789181979508 \t 0.00058032165225 \t 0.0780703275993 \t 0.079584740411\n",
      "SL.glm \t 0.0789085017996 \t 0.000572876436936 \t 0.0780530370011 \t 0.0795823207954\n",
      "SL.stepAIC \t 0.0791729602856 \t 0.000624771427007 \t 0.0782237105261 \t 0.0798916121732\n",
      "SL.nnet \t 0.104890978324 \t 5.81086532791e-05 \t 0.104812684159 \t 0.104938271605\n",
      "SL.polymars \t 0.0734823284579 \t 0.000815350011958 \t 0.0727448182204 \t 0.0750185779391\n",
      "SL.randomForest \t 0.0712115299574 \t 0.000535206849987 \t 0.070345869492 \t 0.0718999433142\n",
      "SL.gam \t 0.0753410601999 \t 0.000592153601054 \t 0.0746027013681 \t 0.075920569666\n",
      "SL.rpartPrune \t 0.0841251451507 \t 0.00117644820509 \t 0.0830697712855 \t 0.0863265457073\n",
      "SL.bayesglm \t 0.0789079489949 \t 0.000571725767163 \t 0.078056034438 \t 0.0795820001946\n",
      "SL \t 0.0707180066549 \t 0.000412352902597 \t 0.0699364069682 \t 0.071162789567\n",
      "SL.glmnet \t 0.997512362986 \t 6.75472029772e-24\n",
      "SL.glm \t 0.997646559524 \t 2.22044604925e-16\n",
      "SL.stepAIC \t 0.999057746987 \t 2.22044604925e-16\n",
      "SL.nnet \t 0.0 \t 0.0\n",
      "SL.polymars \t 0.999999856761 \t 2.34378182529e-07\n",
      "SL.randomForest \t 0.877 \t 0.0\n",
      "SL.gam \t 0.991842697275 \t 0.000487936520515\n",
      "SL.rpartPrune \t 1.0 \t 0.0\n",
      "SL.bayesglm \t 0.997638655067 \t 2.22044604925e-16\n"
     ]
    }
   ],
   "source": [
    "from collections import OrderedDict\n",
    "\n",
    "algonames = [\"SL.glmnet\",\"SL.glm\",\"SL.stepAIC\",\"SL.nnet\",\"SL.polymars\",\"SL.randomForest\",\"SL.gam\",\"SL.rpartPrune\", \"SL.bayesglm\"]\n",
    "cvrisks = {}\n",
    "SLrisks = []\n",
    "for dfone in df:\n",
    "    libpredict = pandas2ri.ri2py(dfone[2])\n",
    "    ylabel = pandas2ri.ri2py(dfone[0]).astype(np.float64)\n",
    "    for an in range(libpredict.shape[1]):\n",
    "        ypred = libpredict[:,an].flatten()\n",
    "        ydiff = ypred - ylabel\n",
    "        n2risk = np.dot(ydiff, ydiff) / ydiff.shape[0]\n",
    "        try:\n",
    "            cvrisks[algonames[an]].append(n2risk)\n",
    "        except KeyError:\n",
    "            cvrisks[algonames[an]] = [n2risk]\n",
    "    slpred = pandas2ri.ri2py(dfone[1]).astype(np.float64).flatten()\n",
    "    sldiff = slpred - ylabel\n",
    "    slrisk = np.dot(sldiff, sldiff) / sldiff.shape[0]\n",
    "    SLrisks.append(slrisk)\n",
    "            \n",
    "for key, value in cvrisks.items():\n",
    "    print(key, '\\t', np.mean(value), '\\t', np.std(value), '\\t', np.min(value), '\\t', np.max(value))\n",
    "print('SL', '\\t', np.mean(SLrisks), '\\t', np.std(SLrisks), '\\t', np.min(SLrisks), '\\t', np.max(SLrisks))\n",
    "    \n",
    "for an in range(len(algonames)):\n",
    "    predicts = np.concatenate([pandas2ri.ri2py(dfone[2])[:,an] for dfone in df])\n",
    "    print(algonames[an], '\\t', np.max(predicts), '\\t', np.min(predicts))"
   ]
  },
  {
   "cell_type": "code",
   "execution_count": 56,
   "metadata": {},
   "outputs": [
    {
     "name": "stdout",
     "output_type": "stream",
     "text": [
      "[ 0.00113743  0.00112284  0.00122455  0.00159809  0.00104901  0.00116062\n",
      "  0.00230584  0.00112058  0.00104901  0.00080821]\n"
     ]
    },
    {
     "data": {
      "image/png": "[encoded data removed]",
      "text/plain": [
       "<matplotlib.figure.Figure at 0x7fdf7a5be908>"
      ]
     },
     "metadata": {},
     "output_type": "display_data"
    }
   ],
   "source": [
    "algoname_labels = []\n",
    "means = []\n",
    "stds = []\n",
    "for key, value in cvrisks.items():\n",
    "    if key == 'SL.nnet':\n",
    "        continue\n",
    "    algoname_labels.append(key)\n",
    "    means.append(np.mean(value))\n",
    "    stds.append(np.std(value))\n",
    "    \n",
    "algoname_labels.append('SL.discrete')\n",
    "argmin = np.argmin(means)\n",
    "means.append(means[argmin])\n",
    "stds.append(stds[argmin])\n",
    "\n",
    "algoname_labels.append('SL')\n",
    "means.append(np.mean(SLrisks))\n",
    "stds.append(np.std(SLrisks))\n",
    "\n",
    "error = 1.96 * np.array(stds)\n",
    "print(error)\n",
    "fig, ax0 = plt.subplots()\n",
    "ax0.errorbar(means, np.arange(len(means)), xerr=error, fmt='o')\n",
    "ax0.set_yticks(np.arange(len(algoname_labels)))\n",
    "ax0.set_yticklabels(algoname_labels)\n",
    "ax0.set_xlabel('5-fold CV Risk Estimate')\n",
    "ax0.set_ylabel('Method')\n",
    "ax0.set_title('variable, symmetric error')\n",
    "\n",
    "plt.show()"
   ]
  },
  {
   "cell_type": "markdown",
   "metadata": {},
   "source": [
    "## Calculate metrics\n",
    "\n",
    "Calculate AUPRC (or AUROC) from saved results."
   ]
  },
  {
   "cell_type": "code",
   "execution_count": 79,
   "metadata": {},
   "outputs": [
    {
     "name": "stdout",
     "output_type": "stream",
     "text": [
      "0.473168799978 0.00852069522563\n"
     ]
    }
   ],
   "source": [
    "import rpy2.robjects as robjects\n",
    "from rpy2.robjects import pandas2ri\n",
    "import pandas as pd\n",
    "import numpy as np\n",
    "import matplotlib.pyplot as plt\n",
    "%matplotlib inline\n",
    "\n",
    "from sklearn.metrics import roc_auc_score, average_precision_score\n",
    "\n",
    "readRDS = robjects.r['readRDS']\n",
    "df = readRDS('../../Data/admdata_99p/24hrs_raw/non_series/results.rds')\n",
    "df = pandas2ri.ri2py(df)\n",
    "\n",
    "ress = []\n",
    "\n",
    "for dfone in df:\n",
    "    ypredict = pandas2ri.ri2py(dfone[1]).astype(np.float64)\n",
    "    ylabel = pandas2ri.ri2py(dfone[0]).astype(np.float64)\n",
    "    if np.all(~np.isnan(ypredict)):\n",
    "        ress.append(average_precision_score(ylabel, ypredict))\n",
    "print(np.mean(ress), np.std(ress))"
   ]
  }
 ],
 "metadata": {
  "kernelspec": {
   "display_name": "Python 3",
   "language": "python",
   "name": "python3"
  },
  "language_info": {
   "codemirror_mode": {
    "name": "ipython",
    "version": 3
   },
   "file_extension": ".py",
   "mimetype": "text/x-python",
   "name": "python",
   "nbconvert_exporter": "python",
   "pygments_lexer": "ipython3",
   "version": "3.6.2"
  }
 },
 "nbformat": 4,
 "nbformat_minor": 2
}
