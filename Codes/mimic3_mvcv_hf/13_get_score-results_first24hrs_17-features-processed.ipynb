{
 "cells": [
  {
   "cell_type": "markdown",
   "metadata": {},
   "source": [
    "# Evaluate the performance of score methods\n",
    "\n",
    "This script evaluates the performance of score methods(SAPS-II, modified SAPS-II and SOFA) on mortality prediction tasks."
   ]
  },
  {
   "cell_type": "code",
   "execution_count": 1,
   "metadata": {
    "collapsed": true
   },
   "outputs": [],
   "source": [
    "from __future__ import print_function\n",
    "\n",
    "import psycopg2\n",
    "import datetime\n",
    "import sys\n",
    "from operator import itemgetter, attrgetter, methodcaller\n",
    "import numpy as np\n",
    "import itertools\n",
    "import os.path\n",
    "import matplotlib.pyplot as plt\n",
    "import math\n",
    "from multiprocessing import Pool, cpu_count\n",
    "import re\n",
    "import traceback\n",
    "import random\n",
    "import shutil\n",
    "\n",
    "from utils import getConnection\n",
    "from utils import parseUnitsMap\n",
    "from utils import parseNum\n",
    "from utils import sparsify\n",
    "\n",
    "%matplotlib inline"
   ]
  },
  {
   "cell_type": "markdown",
   "metadata": {},
   "source": [
    "## Calculate metrics of performance\n",
    "\n",
    "scorefunc is the metrics, we can switch it between AUROC(roc_auc_score) and AUPRC(average_precision_score)."
   ]
  },
  {
   "cell_type": "code",
   "execution_count": 3,
   "metadata": {
    "collapsed": true
   },
   "outputs": [],
   "source": [
    "from sklearn.model_selection import StratifiedShuffleSplit\n",
    "from sklearn.metrics import roc_auc_score, roc_curve, average_precision_score\n",
    "from scipy import stats\n",
    "\n",
    "# scorefunc = roc_auc_score\n",
    "scorefunc = average_precision_score\n",
    "\n",
    "def get_auc_score(X, y, labelname, labeln, y_pred=None, model=None, foldpath=None, scorefunc=scorefunc):\n",
    "    aucs = []\n",
    "    foldsres = np.load(foldpath)[labelname][labeln][0]\n",
    "    for train, valid, test in foldsres:\n",
    "        train = np.concatenate((train, valid))\n",
    "        Xtrain, Xtest = X[train,:], X[test,:]\n",
    "        ytrain, ytest = y[train], y[test]\n",
    "        if y_pred is not None:\n",
    "            y_pred_test = y_pred[test]\n",
    "            aucs.append(scorefunc(ytest, y_pred_test))\n",
    "        elif model is not None:\n",
    "            model.fit(Xtrain, ytrain)\n",
    "            y_pred_test = model.predict_proba(Xtest)[:,1]\n",
    "            aucs.append(scorefunc(ytest, y_pred_test))\n",
    "#         print(roc_curve(ytest, y_pred_test))\n",
    "    aucmean = np.mean(aucs)\n",
    "    aucstd = np.std(aucs)\n",
    "    dist = 1.96 * aucstd\n",
    "    return aucmean, aucstd, [aucmean-dist, aucmean+dist] # http://biostats.bepress.com/cgi/viewcontent.cgi?article=1307&context=ucbbiostat"
   ]
  },
  {
   "cell_type": "markdown",
   "metadata": {},
   "source": [
    "## Print the metrics of performance of methods\n",
    "\n",
    "We print the metrics of performance of 3 methods mentioned above, including mean, standard error and credible interval."
   ]
  },
  {
   "cell_type": "code",
   "execution_count": 5,
   "metadata": {
    "scrolled": true
   },
   "outputs": [
    {
     "name": "stdout",
     "output_type": "stream",
     "text": [
      "0\n",
      "0:00:00.699072\n",
      "0.358635826925 0.0051616056917 [0.34851907976964519, 0.36875257408110879]\n",
      "0.398930603806 0.0120224811145 [0.37536654082121784, 0.42249466678991826]\n",
      "0.319120543843 0.00851908762023 [0.3024231321071208, 0.33581795557842853]\n",
      "0.362481065185 0.00652850750031 [0.34968519048422431, 0.3752769398854382]\n",
      "0.403664261923 0.00690255915632 [0.39013524597622989, 0.41719327786899635]\n",
      "0.327331566464 0.00674421464022 [0.3141129057696509, 0.34055022715932315]\n",
      "\n",
      "\n",
      "\n",
      "2\n",
      "0:00:00.050566\n",
      "0.136097586693 0.0153290837308 [0.10605258258082959, 0.16614259080570057]\n",
      "0.158718017566 0.0225631317659 [0.11449427930446827, 0.20294175582695378]\n",
      "0.102733740209 0.0277561810112 [0.048331625426594103, 0.15713585499041538]\n",
      "0.119047668948 0.0216778655276 [0.07655905251395545, 0.1615362853820605]\n",
      "0.136780433646 0.0281294438591 [0.081646723681773406, 0.19191414360941622]\n",
      "0.0881368475984 0.00866452086003 [0.071154386712732554, 0.1051193084840697]\n",
      "\n",
      "\n",
      "\n",
      "3\n",
      "0:00:00.034013\n",
      "0.172997666265 0.0213739070552 [0.13110480843675182, 0.21489052409315107]\n",
      "0.191901074498 0.023388993527 [0.1460586471851032, 0.23774350181090126]\n",
      "0.137315018211 0.0201082841175 [0.097902781340336448, 0.17672725508111878]\n",
      "0.160907818382 0.0123719710252 [0.1366587551729368, 0.18515688159174887]\n",
      "0.175306412813 0.0111335161931 [0.15348472107408306, 0.19712810455109825]\n",
      "0.13383624968 0.023695910427 [0.087392265243006639, 0.18028023411677602]\n",
      "\n",
      "\n",
      "\n",
      "4\n",
      "0:00:00.044435\n",
      "0.414013362319 0.0131202411113 [0.38829768974109224, 0.43972903489738591]\n",
      "0.458941932405 0.0124881692835 [0.43446512060944364, 0.48341874420087194]\n",
      "0.349703892352 0.0166957289893 [0.31698026353334025, 0.38242752117134154]\n",
      "0.418248343487 0.0110728887908 [0.3965454814566266, 0.43995120551655231]\n",
      "0.466529957018 0.017209765629 [0.43279881638520212, 0.50026109765095117]\n",
      "0.358889367214 0.0172655688791 [0.3250488522109149, 0.39272988221700295]\n",
      "\n",
      "\n",
      "\n",
      "5\n",
      "0:00:00.037066\n",
      "0.508386208548 0.0154312524068 [0.47814095383040928, 0.53863146326506794]\n",
      "0.577809311255 0.0108533161007 [0.55653681169775504, 0.59908181081259293]\n",
      "0.417615472805 0.00883308489702 [0.40030262640718711, 0.43492831920352476]\n",
      "0.529535815912 0.0232539590795 [0.48395805611604453, 0.5751135757077086]\n",
      "0.599840316958 0.0264559647097 [0.54798662612747706, 0.65169400778944886]\n",
      "0.438095394351 0.0129470559558 [0.4127191646774519, 0.46347162402433523]\n",
      "\n",
      "\n",
      "\n"
     ]
    }
   ],
   "source": [
    "HRS = 24\n",
    "WD = '../../Data/admdata_17f/%dhrs/non_series' % HRS\n",
    "foldpath = '../../Data/admdata_17f/%dhrs/series/5-folds.npz' % HRS\n",
    "foldcvpath = '../../Data/admdata_17f/%dhrs/series/cv/5-folds.npz' % HRS\n",
    "\n",
    "mv_flag = np.array(np.load(os.path.join(WD, 'mv_flag.npy')).tolist())\n",
    "sapsii = np.array(np.load(os.path.join(WD, 'sapsii.npz'))['sapsii'])\n",
    "sofax = np.load(os.path.join(WD, 'sofa.npz'))['sofa'].reshape(-1, 1)\n",
    "yall = np.genfromtxt(os.path.join(WD, 'output.csv'), delimiter=',')\n",
    "sapsii_pred = sapsii[:, 4]\n",
    "sapsii_score = sapsii[:, 5:].astype(np.float64)\n",
    "sapsii_score[np.isnan(sapsii_score)] = 0.0\n",
    "\n",
    "from sklearn.linear_model import LogisticRegression\n",
    "\n",
    "for mp in [0,2,3,4,5]:\n",
    "    y = yall[:, mp]\n",
    "    sofam = LogisticRegression()\n",
    "    print(mp)\n",
    "    # cv sapsii\n",
    "    t1 = datetime.datetime.now()\n",
    "    cv_sapsii_res = get_auc_score(sapsii_score[~mv_flag], y[~mv_flag], labelname='folds_ep_mor', labeln=mp, y_pred=sapsii_pred[~mv_flag], model=None, foldpath=foldcvpath)\n",
    "    t2 = datetime.datetime.now()\n",
    "    print(t2-t1)\n",
    "    # cv sapsii refitted\n",
    "    cv_sapsii_refitted_res = get_auc_score(sapsii_score[~mv_flag], y[~mv_flag], labelname='folds_ep_mor', labeln=mp, y_pred=None, model=LogisticRegression(), foldpath=foldcvpath)\n",
    "    # cv sofa\n",
    "    cv_sofa_res = get_auc_score(sofax[~mv_flag].reshape(-1,1), y[~mv_flag], labelname='folds_ep_mor', labeln=mp, y_pred=None, model=LogisticRegression(), foldpath=foldcvpath)\n",
    "    # # mv sapsii\n",
    "    # print('mv sapsii:', get_auc_score(sapsii_score[mv_flag], y[mv_flag], 10, y_pred=sapsii_pred[mv_flag], model=None))\n",
    "    # # mv sofa\n",
    "    # print('mv sofa:', get_auc_score(sofax[mv_flag].reshape(-1,1), y[mv_flag], 10, y_pred=None, model=LogisticRegression()))\n",
    "    # # mv sapsii refitted\n",
    "    # print('mv sapsii refitted:', get_auc_score(sapsii_score[mv_flag], y[mv_flag], 10, y_pred=None, model=LogisticRegression()))\n",
    "    # all sapsii\n",
    "    all_sapsii_res = get_auc_score(sapsii_score, y, labelname='folds_ep_mor', labeln=mp, y_pred=sapsii_pred, model=None, foldpath=foldpath)\n",
    "    # all sapsii refitted\n",
    "    all_sapsii_refitted_res = get_auc_score(sapsii_score, y, labelname='folds_ep_mor', labeln=mp, y_pred=None, model=LogisticRegression(), foldpath=foldpath)\n",
    "    # all sofa\n",
    "    all_sofa_res = get_auc_score(sofax.reshape(-1,1), y, labelname='folds_ep_mor', labeln=mp, y_pred=None, model=LogisticRegression(), foldpath=foldpath)\n",
    "    for t in [all_sapsii_res, all_sapsii_refitted_res, all_sofa_res, cv_sapsii_res, cv_sapsii_refitted_res, cv_sofa_res]:\n",
    "        print(t[0], t[1], t[2])\n",
    "    print('\\n\\n')"
   ]
  },
  {
   "cell_type": "code",
   "execution_count": 4,
   "metadata": {},
   "outputs": [
    {
     "name": "stdout",
     "output_type": "stream",
     "text": [
      "[[58526 100001 275225 ..., 0 0 6]\n",
      " [9895 100006 291788 ..., 0 10 6]\n",
      " [23018 100007 217937 ..., 0 0 8]\n",
      " ..., \n",
      " [19412 199995 255092 ..., 0 0 8]\n",
      " [27200 199998 293589 ..., 0 0 8]\n",
      " [40370 199999 211153 ..., 0 0 6]]\n"
     ]
    }
   ],
   "source": [
    "print(sapsii)"
   ]
  }
 ],
 "metadata": {
  "kernelspec": {
   "display_name": "Python 3",
   "language": "python",
   "name": "python3"
  },
  "language_info": {
   "codemirror_mode": {
    "name": "ipython",
    "version": 3
   },
   "file_extension": ".py",
   "mimetype": "text/x-python",
   "name": "python",
   "nbconvert_exporter": "python",
   "pygments_lexer": "ipython3",
   "version": "3.6.2"
  }
 },
 "nbformat": 4,
 "nbformat_minor": 2
}
