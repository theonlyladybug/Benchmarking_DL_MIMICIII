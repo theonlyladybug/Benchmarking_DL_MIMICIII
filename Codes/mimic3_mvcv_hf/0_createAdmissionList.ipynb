{
 "cells": [
  {
   "cell_type": "markdown",
   "metadata": {},
   "source": [
    "# Create Admission List\n",
    "\n",
    "This script is used for creating a list of admission ids. We only keep admissions that are the first admissions of their patients."
   ]
  },
  {
   "cell_type": "markdown",
   "metadata": {},
   "source": [
    "All output correct"
   ]
  },
  {
   "cell_type": "code",
   "execution_count": 9,
   "metadata": {},
   "outputs": [],
   "source": [
    "from __future__ import print_function\n",
    "\n",
    "import psycopg2\n",
    "import datetime\n",
    "import sys\n",
    "from operator import itemgetter, attrgetter, methodcaller\n",
    "import numpy as np\n",
    "import itertools\n",
    "import os.path\n",
    "import matplotlib.pyplot as plt\n",
    "import math\n",
    "\n",
    "from utils import getConnection\n",
    "\n",
    "%matplotlib inline"
   ]
  },
  {
   "cell_type": "code",
   "execution_count": 10,
   "metadata": {},
   "outputs": [],
   "source": [
    "res_dir = \"/media/data/mimic/res\""
   ]
  },
  {
   "cell_type": "code",
   "execution_count": 11,
   "metadata": {},
   "outputs": [
    {
     "name": "stdout",
     "output_type": "stream",
     "text": [
      "Connected to Postgre Database!\n"
     ]
    }
   ],
   "source": [
    "try:\n",
    "    conn = getConnection()\n",
    "    print('Connected to Postgre Database!')\n",
    "except:\n",
    "    print('Fail to connect!')"
   ]
  },
  {
   "cell_type": "markdown",
   "metadata": {},
   "source": [
    "## Select all admissions\n",
    "\n",
    "We collect all admission_ids from TABLE ICUSTAYS and TABLE TRANSFERS"
   ]
  },
  {
   "cell_type": "code",
   "execution_count": 12,
   "metadata": {},
   "outputs": [
    {
     "ename": "InvalidTableDefinition",
     "evalue": "multiple primary keys for table \"admission_ids\" are not allowed\n",
     "output_type": "error",
     "traceback": [
      "\u001b[0;31m---------------------------------------------------------------------------\u001b[0m",
      "\u001b[0;31mInvalidTableDefinition\u001b[0m                    Traceback (most recent call last)",
      "\u001b[0;32m<ipython-input-12-ce14f5849c5d>\u001b[0m in \u001b[0;36m<module>\u001b[0;34m\u001b[0m\n\u001b[1;32m      5\u001b[0m \u001b[0;34m\u001b[0m\u001b[0m\n\u001b[1;32m      6\u001b[0m \u001b[0mcur\u001b[0m \u001b[0;34m=\u001b[0m \u001b[0mconn\u001b[0m\u001b[0;34m.\u001b[0m\u001b[0mcursor\u001b[0m\u001b[0;34m(\u001b[0m\u001b[0;34m)\u001b[0m\u001b[0;34m\u001b[0m\u001b[0;34m\u001b[0m\u001b[0m\n\u001b[0;32m----> 7\u001b[0;31m \u001b[0mcur\u001b[0m\u001b[0;34m.\u001b[0m\u001b[0mexecute\u001b[0m\u001b[0;34m(\u001b[0m\u001b[0;34m'ALTER TABLE admission_ids ADD CONSTRAINT hadm_id PRIMARY KEY (hadm_id)'\u001b[0m\u001b[0;34m)\u001b[0m\u001b[0;34m\u001b[0m\u001b[0;34m\u001b[0m\u001b[0m\n\u001b[0m\u001b[1;32m      8\u001b[0m \u001b[0mconn\u001b[0m\u001b[0;34m.\u001b[0m\u001b[0mcommit\u001b[0m\u001b[0;34m(\u001b[0m\u001b[0;34m)\u001b[0m\u001b[0;34m\u001b[0m\u001b[0;34m\u001b[0m\u001b[0m\n\u001b[1;32m      9\u001b[0m \u001b[0;34m\u001b[0m\u001b[0m\n",
      "\u001b[0;31mInvalidTableDefinition\u001b[0m: multiple primary keys for table \"admission_ids\" are not allowed\n"
     ]
    }
   ],
   "source": [
    "# Select from icustay and transfer table\n",
    "cur = conn.cursor()\n",
    "cur.execute('create table if not exists admission_ids as (select distinct hadm_id from mimiciii.icustays union select distinct hadm_id from mimiciii.transfers)')\n",
    "conn.commit()\n",
    "\n",
    "cur = conn.cursor()\n",
    "cur.execute('ALTER TABLE admission_ids ADD CONSTRAINT hadm_id PRIMARY KEY (hadm_id)')\n",
    "conn.commit()\n",
    "\n",
    "cur = conn.cursor()\n",
    "cur.execute('select * from admission_ids')\n",
    "res = cur.fetchall()\n",
    "\n",
    "admission_ids = [r[0] for r in res]\n",
    "admission_ids_txt = ','.join(map(str, admission_ids))"
   ]
  },
  {
   "cell_type": "code",
   "execution_count": 13,
   "metadata": {},
   "outputs": [
    {
     "name": "stdout",
     "output_type": "stream",
     "text": [
      "len(admission_ids) =  58976\n"
     ]
    }
   ],
   "source": [
    "# number of admission id\n",
    "print('len(admission_ids) = ', len(admission_ids))"
   ]
  },
  {
   "cell_type": "code",
   "execution_count": 14,
   "metadata": {},
   "outputs": [],
   "source": [
    "if not os.path.exists(f'{res_dir}'):\n",
    "    os.makedirs(f'{res_dir}')\n",
    "# save to admission_ids.npy\n",
    "tosave = {'admission_ids':admission_ids, 'admission_ids_txt': admission_ids_txt}\n",
    "np.save(f'{res_dir}/admission_ids.npy',tosave)"
   ]
  },
  {
   "cell_type": "markdown",
   "metadata": {},
   "source": [
    "Make sure that there is no duplication in admission_ids."
   ]
  },
  {
   "cell_type": "code",
   "execution_count": 15,
   "metadata": {},
   "outputs": [
    {
     "name": "stdout",
     "output_type": "stream",
     "text": [
      "58976 58976\n"
     ]
    }
   ],
   "source": [
    "print(len(admission_ids), len(set(admission_ids)))"
   ]
  },
  {
   "cell_type": "markdown",
   "metadata": {},
   "source": [
    "## Remove non-first admissions\n",
    "\n",
    "We remove all admissions which are not the first admissions of some patients in order to prevent possible information leakage, which will happen when multiple admissions of the same patient occur in training set and test set simultaneously."
   ]
  },
  {
   "cell_type": "code",
   "execution_count": 16,
   "metadata": {},
   "outputs": [
    {
     "name": "stdout",
     "output_type": "stream",
     "text": [
      "46520\n"
     ]
    }
   ],
   "source": [
    "# get the list of admission ids which is the first admission of the subject\n",
    "conn = getConnection()\n",
    "cur = conn.cursor()\n",
    "\n",
    "# fixed by https://github.com/USC-Melady/Benchmarking_DL_MIMICIII/issues/12#issuecomment-680422181 to ensure that \"distinct\" retrives the first admission\n",
    "#     cur.execute('select hadm_id from admission_ids where hadm_id in (select distinct on (subject_id) hadm_id from (select * from mimiciii.admissions order by admittime) tt)')\n",
    "cur.execute('select hadm_id from admission_ids where hadm_id in (select distinct on (subject_id) hadm_id from mimiciii.admissions order by subject_id,admittime)')\n",
    "\n",
    "res = cur.fetchall()\n",
    "\n",
    "admission_first_ids = [r[0] for r in res]\n",
    "admission_first_ids_txt = ','.join(list(map(str, admission_first_ids)))\n",
    "tosave = {'admission_ids': admission_first_ids, 'admission_ids_txt': admission_first_ids_txt}\n",
    "np.save(f'{res_dir}/admission_first_ids.npy', tosave)\n",
    "print(len(admission_first_ids))"
   ]
  }
 ],
 "metadata": {
  "kernelspec": {
   "display_name": "Python 3",
   "language": "python",
   "name": "python3"
  },
  "language_info": {
   "codemirror_mode": {
    "name": "ipython",
    "version": 3
   },
   "file_extension": ".py",
   "mimetype": "text/x-python",
   "name": "python",
   "nbconvert_exporter": "python",
   "pygments_lexer": "ipython3",
   "version": "3.8.5"
  }
 },
 "nbformat": 4,
 "nbformat_minor": 1
}
