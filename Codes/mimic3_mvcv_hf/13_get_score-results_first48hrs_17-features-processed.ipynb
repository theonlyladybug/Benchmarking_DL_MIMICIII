{
 "cells": [
  {
   "cell_type": "code",
   "execution_count": 1,
   "metadata": {
    "collapsed": true
   },
   "outputs": [],
   "source": [
    "from __future__ import print_function\n",
    "\n",
    "import psycopg2\n",
    "import datetime\n",
    "import sys\n",
    "from operator import itemgetter, attrgetter, methodcaller\n",
    "import numpy as np\n",
    "import itertools\n",
    "import os.path\n",
    "import matplotlib.pyplot as plt\n",
    "import math\n",
    "from multiprocessing import Pool, cpu_count\n",
    "import re\n",
    "import traceback\n",
    "import random\n",
    "import shutil\n",
    "\n",
    "from utils import getConnection\n",
    "from utils import parseUnitsMap\n",
    "from utils import parseNum\n",
    "from utils import sparsify\n",
    "\n",
    "%matplotlib inline"
   ]
  },
  {
   "cell_type": "code",
   "execution_count": 6,
   "metadata": {
    "collapsed": true
   },
   "outputs": [],
   "source": [
    "from sklearn.model_selection import StratifiedShuffleSplit\n",
    "from sklearn.metrics import roc_auc_score, roc_curve, average_precision_score\n",
    "from scipy import stats\n",
    "\n",
    "# scorefunc = roc_auc_score\n",
    "scorefunc = average_precision_score\n",
    "\n",
    "def get_auc_score(X, y, labelname, labeln, y_pred=None, model=None, foldpath=None, scorefunc=scorefunc):\n",
    "    aucs = []\n",
    "    foldsres = np.load(foldpath)[labelname][labeln][0]\n",
    "    for train, valid, test in foldsres:\n",
    "        train = np.concatenate((train, valid))\n",
    "        Xtrain, Xtest = X[train,:], X[test,:]\n",
    "        ytrain, ytest = y[train], y[test]\n",
    "        if y_pred is not None:\n",
    "            y_pred_test = y_pred[test]\n",
    "            aucs.append(scorefunc(ytest, y_pred_test))\n",
    "        elif model is not None:\n",
    "            model.fit(Xtrain, ytrain)\n",
    "            y_pred_test = model.predict_proba(Xtest)[:,1]\n",
    "            aucs.append(scorefunc(ytest, y_pred_test))\n",
    "#         print(roc_curve(ytest, y_pred_test))\n",
    "    aucmean = np.mean(aucs)\n",
    "    aucstd = np.std(aucs)\n",
    "    dist = 1.96 * aucstd\n",
    "    return aucmean, aucstd, [aucmean-dist, aucmean+dist] # http://biostats.bepress.com/cgi/viewcontent.cgi?article=1307&context=ucbbiostat"
   ]
  },
  {
   "cell_type": "code",
   "execution_count": 7,
   "metadata": {
    "scrolled": true
   },
   "outputs": [
    {
     "name": "stdout",
     "output_type": "stream",
     "text": [
      "0\n",
      "0.337253187878 0.0141062270055 [0.3096049829473555, 0.36490139280872824]\n",
      "0.382287972382 0.0119101363115 [0.35894410521120745, 0.40563183955234527]\n",
      "0.285203375656 0.0166588829012 [0.25255196516933676, 0.31785478614206342]\n",
      "0.344764184729 0.0218634430793 [0.3019118362936612, 0.38761653316443517]\n",
      "0.387335790291 0.016335924444 [0.35531737838084371, 0.41935420220147496]\n",
      "0.299606146697 0.0199214866546 [0.2605600328542475, 0.33865226054019354]\n",
      "\n",
      "\n",
      "\n",
      "2\n",
      "0.0320093891458 0.0182593007607 [-0.0037788403451989097, 0.067797618636744272]\n",
      "0.0688547267418 0.0301407609658 [0.009778835248918108, 0.12793061823473756]\n",
      "0.0120158650931 0.00403500875016 [0.0041072479427466616, 0.019924482243386117]\n",
      "0.0339239935245 0.0342945215603 [-0.033293268733723728, 0.10114125578265082]\n",
      "0.0214946698183 0.0137632879142 [-0.0054813744934384713, 0.048470714130049136]\n",
      "0.00609384559675 0.00417460864394 [-0.0020883873453780922, 0.014276078538876181]\n",
      "\n",
      "\n",
      "\n",
      "3\n",
      "0.108211835256 0.0150314182488 [0.078750255488773652, 0.13767341502421923]\n",
      "0.130698975005 0.0225256650258 [0.086548671554281836, 0.17484927845547529]\n",
      "0.0662517866392 0.00917748274173 [0.048263920465434089, 0.084239652813030585]\n",
      "0.102025948042 0.0178156975468 [0.067107180850670689, 0.13694471523424806]\n",
      "0.103443647704 0.0196067197758 [0.065014476943373978, 0.141872818464369]\n",
      "0.0809541817976 0.0318589896864 [0.018510562012259778, 0.14339780158302085]\n",
      "\n",
      "\n",
      "\n",
      "4\n",
      "0.384923760515 0.011809369271 [0.36177739674418063, 0.40807012428653078]\n",
      "0.434222826988 0.0119315215368 [0.41083704477589983, 0.45760860920016017]\n",
      "0.315551095532 0.0143374765323 [0.28744964152905533, 0.34365254953562524]\n",
      "0.393423932814 0.0253602243582 [0.34371789307242551, 0.44312997255639874]\n",
      "0.445894817733 0.0236174509216 [0.39960461392695507, 0.49218502153975757]\n",
      "0.327891320188 0.0208612333641 [0.28700330279447078, 0.36877933758186304]\n",
      "\n",
      "\n",
      "\n",
      "5\n",
      "0.484496582467 0.00915927239151 [0.46654440857945023, 0.50244875635418351]\n",
      "0.564661526127 0.00904892886417 [0.546925625553357, 0.58239742670091821]\n",
      "0.38975992266 0.0114606887485 [0.36729697271304518, 0.41222287260715318]\n",
      "0.508696801044 0.00959189949141 [0.48989667804123505, 0.52749692404755399]\n",
      "0.588780384816 0.0110312500386 [0.56715913473991941, 0.61040163489139054]\n",
      "0.41414601263 0.0104195020581 [0.39372378859628832, 0.43456823666398103]\n",
      "\n",
      "\n",
      "\n"
     ]
    }
   ],
   "source": [
    "HRS = 48\n",
    "WD = '../../Data/admdata_17f/%dhrs/non_series' % HRS\n",
    "foldpath = '../../Data/admdata_17f/%dhrs/series/5-folds.npz' % HRS\n",
    "foldcvpath = '../../Data/admdata_17f/%dhrs/series/cv/5-folds.npz' % HRS\n",
    "\n",
    "mv_flag = np.array(np.load(os.path.join(WD, 'mv_flag.npy')).tolist())\n",
    "sapsii = np.array(np.load(os.path.join(WD, 'sapsii.npz'))['sapsii'])\n",
    "sofax = np.load(os.path.join(WD, 'sofa.npz'))['sofa'].reshape(-1, 1)\n",
    "yall = np.genfromtxt(os.path.join(WD, 'output.csv'), delimiter=',')\n",
    "sapsii_pred = sapsii[:, 4]\n",
    "sapsii_score = sapsii[:, 5:].astype(np.float64)\n",
    "sapsii_score[np.isnan(sapsii_score)] = 0.0\n",
    "\n",
    "from sklearn.linear_model import LogisticRegression\n",
    "\n",
    "for mp in [0,2,3,4,5]:\n",
    "    y = yall[:, mp]\n",
    "    sofam = LogisticRegression()\n",
    "    print(mp)\n",
    "    # cv sapsii\n",
    "    cv_sapsii_res = get_auc_score(sapsii_score[~mv_flag], y[~mv_flag], labelname='folds_ep_mor', labeln=mp, y_pred=sapsii_pred[~mv_flag], model=None, foldpath=foldcvpath)\n",
    "    # cv sapsii refitted\n",
    "    cv_sapsii_refitted_res = get_auc_score(sapsii_score[~mv_flag], y[~mv_flag], labelname='folds_ep_mor', labeln=mp, y_pred=None, model=LogisticRegression(), foldpath=foldcvpath)\n",
    "    # cv sofa\n",
    "    cv_sofa_res = get_auc_score(sofax[~mv_flag].reshape(-1,1), y[~mv_flag], labelname='folds_ep_mor', labeln=mp, y_pred=None, model=LogisticRegression(), foldpath=foldcvpath)\n",
    "    # # mv sapsii\n",
    "    # print('mv sapsii:', get_auc_score(sapsii_score[mv_flag], y[mv_flag], 10, y_pred=sapsii_pred[mv_flag], model=None))\n",
    "    # # mv sofa\n",
    "    # print('mv sofa:', get_auc_score(sofax[mv_flag].reshape(-1,1), y[mv_flag], 10, y_pred=None, model=LogisticRegression()))\n",
    "    # # mv sapsii refitted\n",
    "    # print('mv sapsii refitted:', get_auc_score(sapsii_score[mv_flag], y[mv_flag], 10, y_pred=None, model=LogisticRegression()))\n",
    "    # all sapsii\n",
    "    all_sapsii_res = get_auc_score(sapsii_score, y, labelname='folds_ep_mor', labeln=mp, y_pred=sapsii_pred, model=None, foldpath=foldpath)\n",
    "    # all sapsii refitted\n",
    "    all_sapsii_refitted_res = get_auc_score(sapsii_score, y, labelname='folds_ep_mor', labeln=mp, y_pred=None, model=LogisticRegression(), foldpath=foldpath)\n",
    "    # all sofa\n",
    "    all_sofa_res = get_auc_score(sofax.reshape(-1,1), y, labelname='folds_ep_mor', labeln=mp, y_pred=None, model=LogisticRegression(), foldpath=foldpath)\n",
    "    for t in [all_sapsii_res, all_sapsii_refitted_res, all_sofa_res, cv_sapsii_res, cv_sapsii_refitted_res, cv_sofa_res]:\n",
    "        print(t[0], t[1], t[2])\n",
    "    print('\\n\\n')"
   ]
  },
  {
   "cell_type": "code",
   "execution_count": 4,
   "metadata": {},
   "outputs": [
    {
     "name": "stdout",
     "output_type": "stream",
     "text": [
      "[[58526 100001 275225 ..., 0 0 6]\n",
      " [9895 100006 291788 ..., 0 10 6]\n",
      " [23018 100007 217937 ..., 0 0 8]\n",
      " ..., \n",
      " [19412 199995 255092 ..., 0 0 8]\n",
      " [27200 199998 293589 ..., 0 0 8]\n",
      " [40370 199999 211153 ..., 0 0 6]]\n"
     ]
    }
   ],
   "source": [
    "print(sapsii)"
   ]
  }
 ],
 "metadata": {
  "kernelspec": {
   "display_name": "Python 3",
   "language": "python",
   "name": "python3"
  },
  "language_info": {
   "codemirror_mode": {
    "name": "ipython",
    "version": 3
   },
   "file_extension": ".py",
   "mimetype": "text/x-python",
   "name": "python",
   "nbconvert_exporter": "python",
   "pygments_lexer": "ipython3",
   "version": "3.6.1"
  }
 },
 "nbformat": 4,
 "nbformat_minor": 2
}
