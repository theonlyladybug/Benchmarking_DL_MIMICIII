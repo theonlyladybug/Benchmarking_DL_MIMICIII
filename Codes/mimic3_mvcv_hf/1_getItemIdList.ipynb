{
 "cells": [
  {
   "cell_type": "markdown",
   "metadata": {},
   "source": [
    "# Get Itemid List\n",
    "\n",
    "This script is used for collecting all itemids in the database. Itemids are ids of features.\n",
    "\n",
    "In this task we only collect itemids from the following tables:\n",
    "- inputevents\n",
    "- outputevents\n",
    "- chartevents\n",
    "- labevents\n",
    "- microbiologyevents\n",
    "- prescriptions"
   ]
  },
  {
   "cell_type": "code",
   "execution_count": 1,
   "metadata": {},
   "outputs": [],
   "source": [
    "from __future__ import print_function\n",
    "\n",
    "import psycopg2\n",
    "import datetime\n",
    "import sys\n",
    "from operator import itemgetter, attrgetter, methodcaller\n",
    "import numpy as np\n",
    "import itertools\n",
    "import os.path\n",
    "import matplotlib.pyplot as plt\n",
    "import math\n",
    "from multiprocessing import Pool, Process, Lock, cpu_count\n",
    "from multiprocessing.sharedctypes import Value, Array\n",
    "from ctypes import Structure, c_double, c_int\n",
    "from tqdm import tqdm_notebook as tqdm\n",
    "import sys\n",
    "\n",
    "from utils import getConnection\n",
    "\n",
    "%matplotlib inline"
   ]
  },
  {
   "cell_type": "code",
   "execution_count": 2,
   "metadata": {},
   "outputs": [],
   "source": [
    "res_dir = '/media/data/mimic/res'"
   ]
  },
  {
   "cell_type": "code",
   "execution_count": 3,
   "metadata": {},
   "outputs": [
    {
     "name": "stdout",
     "output_type": "stream",
     "text": [
      "Connected to Postgre Database!\n"
     ]
    }
   ],
   "source": [
    "try:\n",
    "    conn = getConnection()\n",
    "    print('Connected to Postgre Database!')\n",
    "except:\n",
    "    print('Fail to connect!')"
   ]
  },
  {
   "cell_type": "code",
   "execution_count": 4,
   "metadata": {},
   "outputs": [],
   "source": [
    "# load admission_ids\n",
    "_adm = np.load(f'{res_dir}/admission_ids.npy', allow_pickle=True).tolist()\n",
    "admission_ids = _adm['admission_ids']\n",
    "admission_ids_txt = _adm['admission_ids_txt']"
   ]
  },
  {
   "cell_type": "markdown",
   "metadata": {},
   "source": [
    "## Itemids from inputevents\n",
    "\n",
    "Data from Carevue and Metavision is separately stored in TABLE INPUTEVENTS_CV and TABLE INPUTEVENTS_MV. Inputevents from Metavision have itemids >= 200000, and those from Carevue have itemids in [30000, 49999]."
   ]
  },
  {
   "cell_type": "code",
   "execution_count": 5,
   "metadata": {},
   "outputs": [
    {
     "name": "stdout",
     "output_type": "stream",
     "text": [
      "len(input_itemid) =  3216\n"
     ]
    }
   ],
   "source": [
    "# itemid from inputevents\n",
    "# sql = 'select distinct itemid from mimiciii.inputevents_cv where itemid >= 30000 and itemid <= 49999'\n",
    "sql = '''\n",
    "with inputitemids as (\n",
    "        select distinct itemid from mimiciii.inputevents_mv where itemid >= 200000\n",
    "        union\n",
    "        select distinct itemid from mimiciii.inputevents_cv where itemid >= 30000 and itemid <= 49999\n",
    "    )\n",
    "select distinct itemid from inputitemids\n",
    "'''\n",
    "cur = conn.cursor()\n",
    "cur.execute(sql)\n",
    "res = cur.fetchall()\n",
    "input_itemid = [r[0] for r in res]\n",
    "input_itemid_txt = ','.join(map(str, input_itemid))\n",
    "\n",
    "print(\"len(input_itemid) = \", len(input_itemid))"
   ]
  },
  {
   "cell_type": "markdown",
   "metadata": {},
   "source": [
    "## Itemids from outputevents\n",
    "\n",
    "We only need to collect all distinct itemids in TABLE OUTPUTEVENTS."
   ]
  },
  {
   "cell_type": "code",
   "execution_count": 6,
   "metadata": {},
   "outputs": [
    {
     "name": "stdout",
     "output_type": "stream",
     "text": [
      "len(output_itemid) =  1155\n"
     ]
    }
   ],
   "source": [
    "# itemid from outputevents\n",
    "# sql = 'select distinct itemid from mimiciii.outputevents where itemid >= 30000 and itemid <= 49999'\n",
    "sql = 'select distinct itemid from mimiciii.outputevents'\n",
    "cur = conn.cursor()\n",
    "cur.execute(sql)\n",
    "res = cur.fetchall()\n",
    "output_itemid = [r[0] for r in res]\n",
    "output_itemid_txt = ','.join(map(str, output_itemid))\n",
    "\n",
    "print(\"len(output_itemid) = \", len(output_itemid))"
   ]
  },
  {
   "cell_type": "markdown",
   "metadata": {},
   "source": [
    "## Itemids from chartevents\n",
    "\n",
    "We only need to collect all distinct itemids in TABLE CHARTEVENTS."
   ]
  },
  {
   "cell_type": "code",
   "execution_count": 7,
   "metadata": {},
   "outputs": [
    {
     "name": "stdout",
     "output_type": "stream",
     "text": [
      "len(chart_itemid) =  6463\n"
     ]
    }
   ],
   "source": [
    "# itemid from chartevents, should collect all ids <= 49999\n",
    "# sql = 'select distinct itemid from mimiciii.chartevents where itemid <= 49999'\n",
    "sql = 'select distinct itemid from mimiciii.chartevents'\n",
    "cur = conn.cursor()\n",
    "cur.execute(sql)\n",
    "res = cur.fetchall()\n",
    "chart_itemid = [r[0] for r in res]\n",
    "chart_itemid_txt = ','.join(map(str, chart_itemid))\n",
    "\n",
    "print(\"len(chart_itemid) = \", len(chart_itemid))"
   ]
  },
  {
   "cell_type": "markdown",
   "metadata": {},
   "source": [
    "## Itemids from labevents\n",
    "\n",
    "We only need to collect all distinct itemids in TABLE LABEVENTS."
   ]
  },
  {
   "cell_type": "code",
   "execution_count": 8,
   "metadata": {},
   "outputs": [
    {
     "name": "stdout",
     "output_type": "stream",
     "text": [
      "len(lab_itemid) =  726\n"
     ]
    }
   ],
   "source": [
    "# itemid from labevenets\n",
    "sql = 'select distinct itemid from mimiciii.labevents'\n",
    "cur = conn.cursor()\n",
    "cur.execute(sql)\n",
    "res = cur.fetchall()\n",
    "lab_itemid = [r[0] for r in res]\n",
    "lab_itemid_txt = ','.join(map(str, lab_itemid))\n",
    "\n",
    "print(\"len(lab_itemid) = \", len(lab_itemid))"
   ]
  },
  {
   "cell_type": "markdown",
   "metadata": {},
   "source": [
    "## Itemids from microbiologyevents\n",
    "\n",
    "We need to collect 4 kinds of itemids:\n",
    "- spec_itemid\n",
    "- org_itemid\n",
    "- ab_itemid\n",
    "- tuple of all above"
   ]
  },
  {
   "cell_type": "code",
   "execution_count": 9,
   "metadata": {},
   "outputs": [
    {
     "name": "stdout",
     "output_type": "stream",
     "text": [
      "len(microbio_itemid) =  9154\n"
     ]
    }
   ],
   "source": [
    "# itemid from microbiologyevents\n",
    "sql = 'select distinct (spec_itemid,org_itemid,ab_itemid),spec_itemid,org_itemid,ab_itemid from mimiciii.microbiologyevents'\n",
    "cur = conn.cursor()\n",
    "cur.execute(sql)\n",
    "res = cur.fetchall()\n",
    "microbio_itemid = []\n",
    "for r in res:\n",
    "    ele = r[0][1:-1].split(',')\n",
    "    for t in range(len(ele)):\n",
    "        try:\n",
    "            ele[t] = int(ele[t])\n",
    "        except:\n",
    "            ele[t] = None\n",
    "    microbio_itemid.append(tuple(ele))\n",
    "\n",
    "print(\"len(microbio_itemid) = \", len(microbio_itemid))"
   ]
  },
  {
   "cell_type": "markdown",
   "metadata": {},
   "source": [
    "## Itemids from prescriptions\n",
    "\n",
    "We only need to collect all distinct itemids in TABLE PRESCRIPTIONS."
   ]
  },
  {
   "cell_type": "code",
   "execution_count": 10,
   "metadata": {},
   "outputs": [
    {
     "name": "stdout",
     "output_type": "stream",
     "text": [
      "len(prescript_itemid) =  3268\n"
     ]
    }
   ],
   "source": [
    "# itemid from prescriptions\n",
    "sql = 'select distinct formulary_drug_cd from mimiciii.prescriptions'\n",
    "cur = conn.cursor()\n",
    "cur.execute(sql)\n",
    "res = cur.fetchall()\n",
    "prescript_itemid = [r[0] for r in res]\n",
    "\n",
    "print(\"len(prescript_itemid) = \", len(prescript_itemid))"
   ]
  },
  {
   "cell_type": "code",
   "execution_count": 11,
   "metadata": {
    "scrolled": true
   },
   "outputs": [
    {
     "name": "stdout",
     "output_type": "stream",
     "text": [
      "saved!\n"
     ]
    }
   ],
   "source": [
    "database = {'input':input_itemid,\n",
    "            'output':output_itemid,\n",
    "            'chart':chart_itemid,\n",
    "            'lab':lab_itemid,\n",
    "            'microbio':microbio_itemid,\n",
    "            'prescript':prescript_itemid}\n",
    "np.save(f'{res_dir}/itemids.npy',database);\n",
    "print('saved!')"
   ]
  },
  {
   "cell_type": "markdown",
   "metadata": {},
   "source": [
    "## Histograms of itemids\n",
    "\n",
    "For each table we draw the histogram showing the number of admissions which have any record of each itemid."
   ]
  },
  {
   "cell_type": "code",
   "execution_count": 21,
   "metadata": {},
   "outputs": [],
   "source": [
    "def getConnect():\n",
    "    return getConnection()\n",
    "\n",
    "\n",
    "# function to execute a sql and store result to specific location of an array, used for parallel query\n",
    "\n",
    "def queryAndStoreSql(sqls_itemids):\n",
    "    tconn = getConnect()\n",
    "    subresults = []\n",
    "    for sql, itemid in tqdm(sqls_itemids):\n",
    "        tcur = tconn.cursor()\n",
    "        tcur.execute(sql)\n",
    "        r2 = tcur.fetchall()\n",
    "        subresults.append((itemid, int(r2[0][0])))\n",
    "    tconn.close()\n",
    "    return subresults\n",
    "\n",
    "def getNumberOfAdmissionThatUseStatId(sql, itemids, admission_ids_txt, savefile, numworkers=cpu_count() // 2):\n",
    "    starttime = datetime.datetime.now()\n",
    "    p = Pool(numworkers)\n",
    "#     numberOfAdmissionThatUseItemid = [(0, 0) for t in range(len(itemids))]\n",
    "    numberOfAdmissionThatUseItemid = []\n",
    "    sqls_itemids = []\n",
    "    for t, itemid in enumerate(itemids):\n",
    "        itemidstr = '= {0}'.format(itemid)\n",
    "        if itemid is None:\n",
    "            itemidstr = 'is null'\n",
    "        sqls_itemids.append((sql.format(itemidstr), itemid))\n",
    "    sqls_itemids_units = np.array_split(sqls_itemids, numworkers)\n",
    "    for sqls_itemids_unit in sqls_itemids_units:\n",
    "        numberOfAdmissionThatUseItemid.append(p.apply_async(queryAndStoreSql,\n",
    "                                                          args=(sqls_itemids_unit,)))\n",
    "    p.close()\n",
    "    p.join()\n",
    "\n",
    "    numberOfAdmissionThatUseItemid = [t.get() for t in numberOfAdmissionThatUseItemid]\n",
    "    numberOfAdmissionThatUseItemid = list(itertools.chain.from_iterable(numberOfAdmissionThatUseItemid))\n",
    "    numberOfAdmissionThatUseItemid = sorted(numberOfAdmissionThatUseItemid, key=lambda tup: tup[1])\n",
    "    numberOfAdmissionThatUseItemid.reverse()\n",
    "    print(len(numberOfAdmissionThatUseItemid))\n",
    "    sys.stdout.flush()\n",
    "    np.save(savefile, numberOfAdmissionThatUseItemid)\n",
    "\n",
    "def getNumberOfAdmissionThatUseStatIdBio(itemids, admission_ids_txt, savefile, numworkers=cpu_count() // 2):\n",
    "    starttime = datetime.datetime.now()\n",
    "    p = Pool(numworkers)\n",
    "    numberOfAdmissionThatUseItemid = []\n",
    "    sqls_itemids = []\n",
    "    for t, itemid in enumerate(itemids):\n",
    "        sql = 'select count(distinct hadm_id) from mimiciii.microbiologyevents where hadm_id in (select * from admission_ids)'\n",
    "        if (itemid[0] != None):\n",
    "            sql += ' and spec_itemid=' + str(itemid[0])\n",
    "        else:\n",
    "            sql += ' and spec_itemid is null'\n",
    "        if (itemid[1] != None):\n",
    "            sql += ' and org_itemid=' + str(itemid[1])\n",
    "        else:\n",
    "            sql += ' and org_itemid is null'\n",
    "        if (itemid[2] != None):\n",
    "            sql += ' and ab_itemid=' + str(itemid[2])\n",
    "        else:\n",
    "            sql += ' and ab_itemid is null'\n",
    "        sqls_itemids.append((sql, itemid))\n",
    "    sqls_itemids_units = np.array_split(sqls_itemids, numworkers)\n",
    "    for sqls_itemids_unit in sqls_itemids_units:\n",
    "        numberOfAdmissionThatUseItemid.append(p.apply_async(queryAndStoreSql,\n",
    "                                                          args=(sqls_itemids_unit,)))\n",
    "    p.close()\n",
    "    p.join()\n",
    "\n",
    "    numberOfAdmissionThatUseItemid = [t.get() for t in numberOfAdmissionThatUseItemid]\n",
    "    numberOfAdmissionThatUseItemid = list(itertools.chain.from_iterable(numberOfAdmissionThatUseItemid))\n",
    "    numberOfAdmissionThatUseItemid = sorted(numberOfAdmissionThatUseItemid, key=lambda tup: tup[1])\n",
    "    numberOfAdmissionThatUseItemid.reverse()\n",
    "    print(len(numberOfAdmissionThatUseItemid))\n",
    "    np.save(savefile, numberOfAdmissionThatUseItemid)\n",
    "\n",
    "def getNumberOfAdmissionThatUseStatIdPrescript(sql, itemids, admission_ids_txt, savefile, numworkers=cpu_count() // 2):\n",
    "    starttime = datetime.datetime.now()\n",
    "    p = Pool(numworkers)\n",
    "    numberOfAdmissionThatUseItemid = []\n",
    "    sqls_itemids = []\n",
    "    for t, itemid in enumerate(itemids):\n",
    "        itemidstr = '= \\'{0}\\''.format(itemid)\n",
    "        if itemid is None:\n",
    "            itemidstr = 'is null'\n",
    "        sqls_itemids.append((sql.format(itemidstr), itemid))\n",
    "    sqls_itemids_units = np.array_split(sqls_itemids, numworkers)\n",
    "    for sqls_itemids_unit in sqls_itemids_units:\n",
    "        numberOfAdmissionThatUseItemid.append(p.apply_async(queryAndStoreSql,\n",
    "                                                          args=(sqls_itemids_unit,)))\n",
    "    p.close()\n",
    "    p.join()\n",
    "\n",
    "    numberOfAdmissionThatUseItemid = [t.get() for t in numberOfAdmissionThatUseItemid]\n",
    "    numberOfAdmissionThatUseItemid = list(itertools.chain.from_iterable(numberOfAdmissionThatUseItemid))\n",
    "    numberOfAdmissionThatUseItemid = sorted(numberOfAdmissionThatUseItemid, key=lambda tup: tup[1])\n",
    "    numberOfAdmissionThatUseItemid.reverse()\n",
    "    print(numberOfAdmissionThatUseItemid)\n",
    "    sys.stdout.flush()\n",
    "    np.save(savefile, numberOfAdmissionThatUseItemid)\n",
    "    \n",
    "# load itemids\n",
    "itemids = np.load(f'{res_dir}/itemids.npy', allow_pickle=True).tolist()\n",
    "\n",
    "\n"
   ]
  },
  {
   "cell_type": "code",
   "execution_count": 24,
   "metadata": {},
   "outputs": [],
   "source": [
    "print(sys.stdout)"
   ]
  },
  {
   "cell_type": "code",
   "execution_count": 15,
   "metadata": {},
   "outputs": [
    {
     "name": "stderr",
     "output_type": "stream",
     "text": [
      "<ipython-input-14-52f1a67f9f28>:10: TqdmDeprecationWarning: This function will be removed in tqdm==5.0.0\n",
      "Please use `tqdm.notebook.tqdm` instead of `tqdm.tqdm_notebook`\n",
      "  for sql, itemid in tqdm(sqls_itemids):\n",
      "<ipython-input-14-52f1a67f9f28>:10: TqdmDeprecationWarning: This function will be removed in tqdm==5.0.0\n",
      "Please use `tqdm.notebook.tqdm` instead of `tqdm.tqdm_notebook`\n",
      "  for sql, itemid in tqdm(sqls_itemids):\n",
      "<ipython-input-14-52f1a67f9f28>:10: TqdmDeprecationWarning: This function will be removed in tqdm==5.0.0\n",
      "Please use `tqdm.notebook.tqdm` instead of `tqdm.tqdm_notebook`\n",
      "  for sql, itemid in tqdm(sqls_itemids):\n",
      "<ipython-input-14-52f1a67f9f28>:10: TqdmDeprecationWarning: This function will be removed in tqdm==5.0.0\n",
      "Please use `tqdm.notebook.tqdm` instead of `tqdm.tqdm_notebook`\n",
      "  for sql, itemid in tqdm(sqls_itemids):\n",
      "<ipython-input-14-52f1a67f9f28>:10: TqdmDeprecationWarning: This function will be removed in tqdm==5.0.0\n",
      "Please use `tqdm.notebook.tqdm` instead of `tqdm.tqdm_notebook`\n",
      "  for sql, itemid in tqdm(sqls_itemids):\n",
      "<ipython-input-14-52f1a67f9f28>:10: TqdmDeprecationWarning: This function will be removed in tqdm==5.0.0\n",
      "Please use `tqdm.notebook.tqdm` instead of `tqdm.tqdm_notebook`\n",
      "  for sql, itemid in tqdm(sqls_itemids):\n",
      "<ipython-input-14-52f1a67f9f28>:10: TqdmDeprecationWarning: This function will be removed in tqdm==5.0.0\n",
      "Please use `tqdm.notebook.tqdm` instead of `tqdm.tqdm_notebook`\n",
      "  for sql, itemid in tqdm(sqls_itemids):\n",
      "<ipython-input-14-52f1a67f9f28>:10: TqdmDeprecationWarning: This function will be removed in tqdm==5.0.0\n",
      "Please use `tqdm.notebook.tqdm` instead of `tqdm.tqdm_notebook`\n",
      "  for sql, itemid in tqdm(sqls_itemids):\n",
      "<ipython-input-14-52f1a67f9f28>:10: TqdmDeprecationWarning: This function will be removed in tqdm==5.0.0\n",
      "Please use `tqdm.notebook.tqdm` instead of `tqdm.tqdm_notebook`\n",
      "  for sql, itemid in tqdm(sqls_itemids):\n",
      "<ipython-input-14-52f1a67f9f28>:10: TqdmDeprecationWarning: This function will be removed in tqdm==5.0.0\n",
      "Please use `tqdm.notebook.tqdm` instead of `tqdm.tqdm_notebook`\n",
      "  for sql, itemid in tqdm(sqls_itemids):\n",
      "<ipython-input-14-52f1a67f9f28>:10: TqdmDeprecationWarning: This function will be removed in tqdm==5.0.0\n",
      "Please use `tqdm.notebook.tqdm` instead of `tqdm.tqdm_notebook`\n",
      "  for sql, itemid in tqdm(sqls_itemids):\n",
      "<ipython-input-14-52f1a67f9f28>:10: TqdmDeprecationWarning: This function will be removed in tqdm==5.0.0\n",
      "Please use `tqdm.notebook.tqdm` instead of `tqdm.tqdm_notebook`\n",
      "  for sql, itemid in tqdm(sqls_itemids):\n",
      "<ipython-input-14-52f1a67f9f28>:10: TqdmDeprecationWarning: This function will be removed in tqdm==5.0.0\n",
      "Please use `tqdm.notebook.tqdm` instead of `tqdm.tqdm_notebook`\n",
      "  for sql, itemid in tqdm(sqls_itemids):\n",
      "<ipython-input-14-52f1a67f9f28>:10: TqdmDeprecationWarning: This function will be removed in tqdm==5.0.0\n",
      "Please use `tqdm.notebook.tqdm` instead of `tqdm.tqdm_notebook`\n",
      "  for sql, itemid in tqdm(sqls_itemids):\n",
      "<ipython-input-14-52f1a67f9f28>:10: TqdmDeprecationWarning: This function will be removed in tqdm==5.0.0\n",
      "Please use `tqdm.notebook.tqdm` instead of `tqdm.tqdm_notebook`\n",
      "  for sql, itemid in tqdm(sqls_itemids):\n",
      "<ipython-input-14-52f1a67f9f28>:10: TqdmDeprecationWarning: This function will be removed in tqdm==5.0.0\n",
      "Please use `tqdm.notebook.tqdm` instead of `tqdm.tqdm_notebook`\n",
      "  for sql, itemid in tqdm(sqls_itemids):\n",
      "<ipython-input-14-52f1a67f9f28>:10: TqdmDeprecationWarning: This function will be removed in tqdm==5.0.0\n",
      "Please use `tqdm.notebook.tqdm` instead of `tqdm.tqdm_notebook`\n",
      "  for sql, itemid in tqdm(sqls_itemids):\n",
      "<ipython-input-14-52f1a67f9f28>:10: TqdmDeprecationWarning: This function will be removed in tqdm==5.0.0\n",
      "Please use `tqdm.notebook.tqdm` instead of `tqdm.tqdm_notebook`\n",
      "  for sql, itemid in tqdm(sqls_itemids):\n",
      "<ipython-input-14-52f1a67f9f28>:10: TqdmDeprecationWarning: This function will be removed in tqdm==5.0.0\n",
      "Please use `tqdm.notebook.tqdm` instead of `tqdm.tqdm_notebook`\n",
      "  for sql, itemid in tqdm(sqls_itemids):\n",
      "<ipython-input-14-52f1a67f9f28>:10: TqdmDeprecationWarning: This function will be removed in tqdm==5.0.0\n",
      "Please use `tqdm.notebook.tqdm` instead of `tqdm.tqdm_notebook`\n",
      "  for sql, itemid in tqdm(sqls_itemids):\n",
      "<ipython-input-14-52f1a67f9f28>:10: TqdmDeprecationWarning: This function will be removed in tqdm==5.0.0\n",
      "Please use `tqdm.notebook.tqdm` instead of `tqdm.tqdm_notebook`\n",
      "  for sql, itemid in tqdm(sqls_itemids):\n",
      "<ipython-input-14-52f1a67f9f28>:10: TqdmDeprecationWarning: This function will be removed in tqdm==5.0.0\n",
      "Please use `tqdm.notebook.tqdm` instead of `tqdm.tqdm_notebook`\n",
      "  for sql, itemid in tqdm(sqls_itemids):\n",
      "<ipython-input-14-52f1a67f9f28>:10: TqdmDeprecationWarning: This function will be removed in tqdm==5.0.0\n",
      "Please use `tqdm.notebook.tqdm` instead of `tqdm.tqdm_notebook`\n",
      "  for sql, itemid in tqdm(sqls_itemids):\n",
      "<ipython-input-14-52f1a67f9f28>:10: TqdmDeprecationWarning: This function will be removed in tqdm==5.0.0\n",
      "Please use `tqdm.notebook.tqdm` instead of `tqdm.tqdm_notebook`\n",
      "  for sql, itemid in tqdm(sqls_itemids):\n",
      "<ipython-input-14-52f1a67f9f28>:10: TqdmDeprecationWarning: This function will be removed in tqdm==5.0.0\n",
      "Please use `tqdm.notebook.tqdm` instead of `tqdm.tqdm_notebook`\n",
      "  for sql, itemid in tqdm(sqls_itemids):\n",
      "<ipython-input-14-52f1a67f9f28>:10: TqdmDeprecationWarning: This function will be removed in tqdm==5.0.0\n",
      "Please use `tqdm.notebook.tqdm` instead of `tqdm.tqdm_notebook`\n",
      "  for sql, itemid in tqdm(sqls_itemids):\n",
      "<ipython-input-14-52f1a67f9f28>:10: TqdmDeprecationWarning: This function will be removed in tqdm==5.0.0\n",
      "Please use `tqdm.notebook.tqdm` instead of `tqdm.tqdm_notebook`\n",
      "  for sql, itemid in tqdm(sqls_itemids):\n",
      "<ipython-input-14-52f1a67f9f28>:10: TqdmDeprecationWarning: This function will be removed in tqdm==5.0.0\n",
      "Please use `tqdm.notebook.tqdm` instead of `tqdm.tqdm_notebook`\n",
      "  for sql, itemid in tqdm(sqls_itemids):\n",
      "<ipython-input-14-52f1a67f9f28>:10: TqdmDeprecationWarning: This function will be removed in tqdm==5.0.0\n",
      "Please use `tqdm.notebook.tqdm` instead of `tqdm.tqdm_notebook`\n",
      "  for sql, itemid in tqdm(sqls_itemids):\n",
      "<ipython-input-14-52f1a67f9f28>:10: TqdmDeprecationWarning: This function will be removed in tqdm==5.0.0\n",
      "Please use `tqdm.notebook.tqdm` instead of `tqdm.tqdm_notebook`\n",
      "  for sql, itemid in tqdm(sqls_itemids):\n",
      "<ipython-input-14-52f1a67f9f28>:10: TqdmDeprecationWarning: This function will be removed in tqdm==5.0.0\n",
      "Please use `tqdm.notebook.tqdm` instead of `tqdm.tqdm_notebook`\n",
      "  for sql, itemid in tqdm(sqls_itemids):\n",
      "<ipython-input-14-52f1a67f9f28>:10: TqdmDeprecationWarning: This function will be removed in tqdm==5.0.0\n",
      "Please use `tqdm.notebook.tqdm` instead of `tqdm.tqdm_notebook`\n",
      "  for sql, itemid in tqdm(sqls_itemids):\n",
      "<ipython-input-14-52f1a67f9f28>:10: TqdmDeprecationWarning: This function will be removed in tqdm==5.0.0\n",
      "Please use `tqdm.notebook.tqdm` instead of `tqdm.tqdm_notebook`\n",
      "  for sql, itemid in tqdm(sqls_itemids):\n",
      "<ipython-input-14-52f1a67f9f28>:10: TqdmDeprecationWarning: This function will be removed in tqdm==5.0.0\n",
      "Please use `tqdm.notebook.tqdm` instead of `tqdm.tqdm_notebook`\n",
      "  for sql, itemid in tqdm(sqls_itemids):\n",
      "<ipython-input-14-52f1a67f9f28>:10: TqdmDeprecationWarning: This function will be removed in tqdm==5.0.0\n",
      "Please use `tqdm.notebook.tqdm` instead of `tqdm.tqdm_notebook`\n",
      "  for sql, itemid in tqdm(sqls_itemids):\n",
      "<ipython-input-14-52f1a67f9f28>:10: TqdmDeprecationWarning: This function will be removed in tqdm==5.0.0\n",
      "Please use `tqdm.notebook.tqdm` instead of `tqdm.tqdm_notebook`\n",
      "  for sql, itemid in tqdm(sqls_itemids):\n",
      "<ipython-input-14-52f1a67f9f28>:10: TqdmDeprecationWarning: This function will be removed in tqdm==5.0.0\n",
      "Please use `tqdm.notebook.tqdm` instead of `tqdm.tqdm_notebook`\n",
      "  for sql, itemid in tqdm(sqls_itemids):\n"
     ]
    },
    {
     "data": {
      "application/vnd.jupyter.widget-view+json": {
       "model_id": "7aeaf41071984d93a5443603641ead53",
       "version_major": 2,
       "version_minor": 0
      },
      "text/plain": [
       "  0%|          | 0/17 [00:00<?, ?it/s]"
      ]
     },
     "metadata": {},
     "output_type": "display_data"
    },
    {
     "data": {
      "application/vnd.jupyter.widget-view+json": {
       "model_id": "04404f054bff4630bccb8e711a36cc47",
       "version_major": 2,
       "version_minor": 0
      },
      "text/plain": [
       "  0%|          | 0/17 [00:00<?, ?it/s]"
      ]
     },
     "metadata": {},
     "output_type": "display_data"
    },
    {
     "name": "stderr",
     "output_type": "stream",
     "text": [
      "<ipython-input-14-52f1a67f9f28>:10: TqdmDeprecationWarning: This function will be removed in tqdm==5.0.0\n",
      "Please use `tqdm.notebook.tqdm` instead of `tqdm.tqdm_notebook`\n",
      "  for sql, itemid in tqdm(sqls_itemids):\n",
      "<ipython-input-14-52f1a67f9f28>:10: TqdmDeprecationWarning: This function will be removed in tqdm==5.0.0\n",
      "Please use `tqdm.notebook.tqdm` instead of `tqdm.tqdm_notebook`\n",
      "  for sql, itemid in tqdm(sqls_itemids):\n",
      "<ipython-input-14-52f1a67f9f28>:10: TqdmDeprecationWarning: This function will be removed in tqdm==5.0.0\n",
      "Please use `tqdm.notebook.tqdm` instead of `tqdm.tqdm_notebook`\n",
      "  for sql, itemid in tqdm(sqls_itemids):\n"
     ]
    },
    {
     "data": {
      "application/vnd.jupyter.widget-view+json": {
       "model_id": "60fc542b9e824176b6aa459ceba420b3",
       "version_major": 2,
       "version_minor": 0
      },
      "text/plain": [
       "  0%|          | 0/17 [00:00<?, ?it/s]"
      ]
     },
     "metadata": {},
     "output_type": "display_data"
    },
    {
     "name": "stderr",
     "output_type": "stream",
     "text": [
      "<ipython-input-14-52f1a67f9f28>:10: TqdmDeprecationWarning: This function will be removed in tqdm==5.0.0\n",
      "Please use `tqdm.notebook.tqdm` instead of `tqdm.tqdm_notebook`\n",
      "  for sql, itemid in tqdm(sqls_itemids):\n"
     ]
    },
    {
     "data": {
      "application/vnd.jupyter.widget-view+json": {
       "model_id": "e93bb67722a64267959da5428048a572",
       "version_major": 2,
       "version_minor": 0
      },
      "text/plain": [
       "  0%|          | 0/17 [00:00<?, ?it/s]"
      ]
     },
     "metadata": {},
     "output_type": "display_data"
    },
    {
     "data": {
      "application/vnd.jupyter.widget-view+json": {
       "model_id": "7c16dda381ca42948a1c3729bb4d7839",
       "version_major": 2,
       "version_minor": 0
      },
      "text/plain": [
       "  0%|          | 0/17 [00:00<?, ?it/s]"
      ]
     },
     "metadata": {},
     "output_type": "display_data"
    },
    {
     "name": "stderr",
     "output_type": "stream",
     "text": [
      "<ipython-input-14-52f1a67f9f28>:10: TqdmDeprecationWarning: This function will be removed in tqdm==5.0.0\n",
      "Please use `tqdm.notebook.tqdm` instead of `tqdm.tqdm_notebook`\n",
      "  for sql, itemid in tqdm(sqls_itemids):\n"
     ]
    },
    {
     "data": {
      "application/vnd.jupyter.widget-view+json": {
       "model_id": "dbb79d9da233457fac6a2becfec9c118",
       "version_major": 2,
       "version_minor": 0
      },
      "text/plain": [
       "  0%|          | 0/17 [00:00<?, ?it/s]"
      ]
     },
     "metadata": {},
     "output_type": "display_data"
    },
    {
     "name": "stderr",
     "output_type": "stream",
     "text": [
      "<ipython-input-14-52f1a67f9f28>:10: TqdmDeprecationWarning: This function will be removed in tqdm==5.0.0\n",
      "Please use `tqdm.notebook.tqdm` instead of `tqdm.tqdm_notebook`\n",
      "  for sql, itemid in tqdm(sqls_itemids):\n"
     ]
    },
    {
     "data": {
      "application/vnd.jupyter.widget-view+json": {
       "model_id": "04dcbbeb6369441395f8a57d3ec4e2f8",
       "version_major": 2,
       "version_minor": 0
      },
      "text/plain": [
       "  0%|          | 0/16 [00:00<?, ?it/s]"
      ]
     },
     "metadata": {},
     "output_type": "display_data"
    },
    {
     "data": {
      "application/vnd.jupyter.widget-view+json": {
       "model_id": "0cb10998a7164d88a9d3a219e74575f5",
       "version_major": 2,
       "version_minor": 0
      },
      "text/plain": [
       "  0%|          | 0/17 [00:00<?, ?it/s]"
      ]
     },
     "metadata": {},
     "output_type": "display_data"
    },
    {
     "data": {
      "application/vnd.jupyter.widget-view+json": {
       "model_id": "22619cbdd5604caabd76cd3543dfd1dd",
       "version_major": 2,
       "version_minor": 0
      },
      "text/plain": [
       "  0%|          | 0/17 [00:00<?, ?it/s]"
      ]
     },
     "metadata": {},
     "output_type": "display_data"
    },
    {
     "name": "stderr",
     "output_type": "stream",
     "text": [
      "<ipython-input-14-52f1a67f9f28>:10: TqdmDeprecationWarning: This function will be removed in tqdm==5.0.0\n",
      "Please use `tqdm.notebook.tqdm` instead of `tqdm.tqdm_notebook`\n",
      "  for sql, itemid in tqdm(sqls_itemids):\n"
     ]
    },
    {
     "data": {
      "application/vnd.jupyter.widget-view+json": {
       "model_id": "b87be25d89274eff97b640c2c11537f2",
       "version_major": 2,
       "version_minor": 0
      },
      "text/plain": [
       "  0%|          | 0/17 [00:00<?, ?it/s]"
      ]
     },
     "metadata": {},
     "output_type": "display_data"
    },
    {
     "data": {
      "application/vnd.jupyter.widget-view+json": {
       "model_id": "d0f06dbb163f4c3ab8b046cab4f379f4",
       "version_major": 2,
       "version_minor": 0
      },
      "text/plain": [
       "  0%|          | 0/16 [00:00<?, ?it/s]"
      ]
     },
     "metadata": {},
     "output_type": "display_data"
    },
    {
     "data": {
      "application/vnd.jupyter.widget-view+json": {
       "model_id": "6942534320ca419db0ce61e688263d8c",
       "version_major": 2,
       "version_minor": 0
      },
      "text/plain": [
       "  0%|          | 0/16 [00:00<?, ?it/s]"
      ]
     },
     "metadata": {},
     "output_type": "display_data"
    },
    {
     "data": {
      "application/vnd.jupyter.widget-view+json": {
       "model_id": "f16df7fcb0a54cbda2ad3dd27d6668d4",
       "version_major": 2,
       "version_minor": 0
      },
      "text/plain": [
       "  0%|          | 0/17 [00:00<?, ?it/s]"
      ]
     },
     "metadata": {},
     "output_type": "display_data"
    },
    {
     "data": {
      "application/vnd.jupyter.widget-view+json": {
       "model_id": "bdd754b20a3b4ba0a5678b4fee3e5312",
       "version_major": 2,
       "version_minor": 0
      },
      "text/plain": [
       "  0%|          | 0/17 [00:00<?, ?it/s]"
      ]
     },
     "metadata": {},
     "output_type": "display_data"
    },
    {
     "data": {
      "application/vnd.jupyter.widget-view+json": {
       "model_id": "6f7d203d764b43e693c7177a7e16c36c",
       "version_major": 2,
       "version_minor": 0
      },
      "text/plain": [
       "  0%|          | 0/16 [00:00<?, ?it/s]"
      ]
     },
     "metadata": {},
     "output_type": "display_data"
    },
    {
     "data": {
      "application/vnd.jupyter.widget-view+json": {
       "model_id": "4cbd83cbd6db4eb89bdd6f545b16e65a",
       "version_major": 2,
       "version_minor": 0
      },
      "text/plain": [
       "  0%|          | 0/17 [00:00<?, ?it/s]"
      ]
     },
     "metadata": {},
     "output_type": "display_data"
    },
    {
     "data": {
      "application/vnd.jupyter.widget-view+json": {
       "model_id": "4dc684e6bfcd442ab2bc9709fd953d32",
       "version_major": 2,
       "version_minor": 0
      },
      "text/plain": [
       "  0%|          | 0/17 [00:00<?, ?it/s]"
      ]
     },
     "metadata": {},
     "output_type": "display_data"
    },
    {
     "data": {
      "application/vnd.jupyter.widget-view+json": {
       "model_id": "9d8303f1b73b4a4794a7e8010b99c5eb",
       "version_major": 2,
       "version_minor": 0
      },
      "text/plain": [
       "  0%|          | 0/16 [00:00<?, ?it/s]"
      ]
     },
     "metadata": {},
     "output_type": "display_data"
    },
    {
     "data": {
      "application/vnd.jupyter.widget-view+json": {
       "model_id": "0d53d5cefbd149098ae7593bdc6bb438",
       "version_major": 2,
       "version_minor": 0
      },
      "text/plain": [
       "  0%|          | 0/16 [00:00<?, ?it/s]"
      ]
     },
     "metadata": {},
     "output_type": "display_data"
    },
    {
     "data": {
      "application/vnd.jupyter.widget-view+json": {
       "model_id": "c6c1c38a903049d18468aae6504aea5a",
       "version_major": 2,
       "version_minor": 0
      },
      "text/plain": [
       "  0%|          | 0/16 [00:00<?, ?it/s]"
      ]
     },
     "metadata": {},
     "output_type": "display_data"
    },
    {
     "data": {
      "application/vnd.jupyter.widget-view+json": {
       "model_id": "6e5926c57351459aa1a02ed2d848e733",
       "version_major": 2,
       "version_minor": 0
      },
      "text/plain": [
       "  0%|          | 0/16 [00:00<?, ?it/s]"
      ]
     },
     "metadata": {},
     "output_type": "display_data"
    },
    {
     "data": {
      "application/vnd.jupyter.widget-view+json": {
       "model_id": "987ae8232b9541119a2094e9b5c76417",
       "version_major": 2,
       "version_minor": 0
      },
      "text/plain": [
       "  0%|          | 0/17 [00:00<?, ?it/s]"
      ]
     },
     "metadata": {},
     "output_type": "display_data"
    },
    {
     "data": {
      "application/vnd.jupyter.widget-view+json": {
       "model_id": "637b9dc9320045dc91e5c9dc1d3bffbe",
       "version_major": 2,
       "version_minor": 0
      },
      "text/plain": [
       "  0%|          | 0/16 [00:00<?, ?it/s]"
      ]
     },
     "metadata": {},
     "output_type": "display_data"
    },
    {
     "data": {
      "application/vnd.jupyter.widget-view+json": {
       "model_id": "d2b61507eb4745b29a2873d4a3d58b7e",
       "version_major": 2,
       "version_minor": 0
      },
      "text/plain": [
       "  0%|          | 0/16 [00:00<?, ?it/s]"
      ]
     },
     "metadata": {},
     "output_type": "display_data"
    },
    {
     "data": {
      "application/vnd.jupyter.widget-view+json": {
       "model_id": "52f9b68dd3234e49b5d061c51f23b4fa",
       "version_major": 2,
       "version_minor": 0
      },
      "text/plain": [
       "  0%|          | 0/17 [00:00<?, ?it/s]"
      ]
     },
     "metadata": {},
     "output_type": "display_data"
    },
    {
     "data": {
      "application/vnd.jupyter.widget-view+json": {
       "model_id": "093e260fa17d41d49165765881a79a75",
       "version_major": 2,
       "version_minor": 0
      },
      "text/plain": [
       "  0%|          | 0/17 [00:00<?, ?it/s]"
      ]
     },
     "metadata": {},
     "output_type": "display_data"
    },
    {
     "data": {
      "application/vnd.jupyter.widget-view+json": {
       "model_id": "50eb0352af7947608d57cbb3560804de",
       "version_major": 2,
       "version_minor": 0
      },
      "text/plain": [
       "  0%|          | 0/16 [00:00<?, ?it/s]"
      ]
     },
     "metadata": {},
     "output_type": "display_data"
    },
    {
     "data": {
      "application/vnd.jupyter.widget-view+json": {
       "model_id": "b9fb022cd9174a63b716710b31778869",
       "version_major": 2,
       "version_minor": 0
      },
      "text/plain": [
       "  0%|          | 0/16 [00:00<?, ?it/s]"
      ]
     },
     "metadata": {},
     "output_type": "display_data"
    },
    {
     "data": {
      "application/vnd.jupyter.widget-view+json": {
       "model_id": "14f04553117d4935be08a1d45679e7b5",
       "version_major": 2,
       "version_minor": 0
      },
      "text/plain": [
       "  0%|          | 0/17 [00:00<?, ?it/s]"
      ]
     },
     "metadata": {},
     "output_type": "display_data"
    },
    {
     "data": {
      "application/vnd.jupyter.widget-view+json": {
       "model_id": "87919daf917245869d068e8f478924ba",
       "version_major": 2,
       "version_minor": 0
      },
      "text/plain": [
       "  0%|          | 0/17 [00:00<?, ?it/s]"
      ]
     },
     "metadata": {},
     "output_type": "display_data"
    },
    {
     "data": {
      "application/vnd.jupyter.widget-view+json": {
       "model_id": "037d671867414a028569b198e908dd1d",
       "version_major": 2,
       "version_minor": 0
      },
      "text/plain": [
       "  0%|          | 0/17 [00:00<?, ?it/s]"
      ]
     },
     "metadata": {},
     "output_type": "display_data"
    },
    {
     "data": {
      "application/vnd.jupyter.widget-view+json": {
       "model_id": "6e3c3b366cf243bba2aff6075e7b6ff5",
       "version_major": 2,
       "version_minor": 0
      },
      "text/plain": [
       "  0%|          | 0/16 [00:00<?, ?it/s]"
      ]
     },
     "metadata": {},
     "output_type": "display_data"
    },
    {
     "data": {
      "application/vnd.jupyter.widget-view+json": {
       "model_id": "6faa0d43b7a34b79b6a5dfb1bc0e92e5",
       "version_major": 2,
       "version_minor": 0
      },
      "text/plain": [
       "  0%|          | 0/17 [00:00<?, ?it/s]"
      ]
     },
     "metadata": {},
     "output_type": "display_data"
    },
    {
     "data": {
      "application/vnd.jupyter.widget-view+json": {
       "model_id": "18dfa2b9513f4016addfddc0f450aa22",
       "version_major": 2,
       "version_minor": 0
      },
      "text/plain": [
       "  0%|          | 0/16 [00:00<?, ?it/s]"
      ]
     },
     "metadata": {},
     "output_type": "display_data"
    },
    {
     "data": {
      "application/vnd.jupyter.widget-view+json": {
       "model_id": "2dd752eb327740a2a98042ae99685c8a",
       "version_major": 2,
       "version_minor": 0
      },
      "text/plain": [
       "  0%|          | 0/16 [00:00<?, ?it/s]"
      ]
     },
     "metadata": {},
     "output_type": "display_data"
    },
    {
     "data": {
      "application/vnd.jupyter.widget-view+json": {
       "model_id": "040cfc963b834d15afa378a3979fc145",
       "version_major": 2,
       "version_minor": 0
      },
      "text/plain": [
       "  0%|          | 0/16 [00:00<?, ?it/s]"
      ]
     },
     "metadata": {},
     "output_type": "display_data"
    },
    {
     "data": {
      "application/vnd.jupyter.widget-view+json": {
       "model_id": "bfe373d4fa43425690090a5b648c608a",
       "version_major": 2,
       "version_minor": 0
      },
      "text/plain": [
       "  0%|          | 0/17 [00:00<?, ?it/s]"
      ]
     },
     "metadata": {},
     "output_type": "display_data"
    },
    {
     "data": {
      "application/vnd.jupyter.widget-view+json": {
       "model_id": "234789548c7147e29d9b762d377e363e",
       "version_major": 2,
       "version_minor": 0
      },
      "text/plain": [
       "  0%|          | 0/16 [00:00<?, ?it/s]"
      ]
     },
     "metadata": {},
     "output_type": "display_data"
    },
    {
     "data": {
      "application/vnd.jupyter.widget-view+json": {
       "model_id": "b302314bde9742ff8127990890efa6e4",
       "version_major": 2,
       "version_minor": 0
      },
      "text/plain": [
       "  0%|          | 0/16 [00:00<?, ?it/s]"
      ]
     },
     "metadata": {},
     "output_type": "display_data"
    },
    {
     "data": {
      "application/vnd.jupyter.widget-view+json": {
       "model_id": "33e47451f89945b59bdeaac8c2b8c659",
       "version_major": 2,
       "version_minor": 0
      },
      "text/plain": [
       "  0%|          | 0/17 [00:00<?, ?it/s]"
      ]
     },
     "metadata": {},
     "output_type": "display_data"
    },
    {
     "data": {
      "application/vnd.jupyter.widget-view+json": {
       "model_id": "fcf8300ccbd04ceb93474763321ffd6b",
       "version_major": 2,
       "version_minor": 0
      },
      "text/plain": [
       "  0%|          | 0/16 [00:00<?, ?it/s]"
      ]
     },
     "metadata": {},
     "output_type": "display_data"
    },
    {
     "data": {
      "application/vnd.jupyter.widget-view+json": {
       "model_id": "cf33ffa997974f988792162b4051b7bf",
       "version_major": 2,
       "version_minor": 0
      },
      "text/plain": [
       "  0%|          | 0/16 [00:00<?, ?it/s]"
      ]
     },
     "metadata": {},
     "output_type": "display_data"
    },
    {
     "data": {
      "application/vnd.jupyter.widget-view+json": {
       "model_id": "cfe86bde3c6e48d2a93537bf207f6cd4",
       "version_major": 2,
       "version_minor": 0
      },
      "text/plain": [
       "  0%|          | 0/16 [00:00<?, ?it/s]"
      ]
     },
     "metadata": {},
     "output_type": "display_data"
    },
    {
     "data": {
      "application/vnd.jupyter.widget-view+json": {
       "model_id": "671aa6840e524e31a12ac8c2fdf36462",
       "version_major": 2,
       "version_minor": 0
      },
      "text/plain": [
       "  0%|          | 0/16 [00:00<?, ?it/s]"
      ]
     },
     "metadata": {},
     "output_type": "display_data"
    },
    {
     "name": "stdout",
     "output_type": "stream",
     "text": [
      "726\n"
     ]
    }
   ],
   "source": [
    "# labevent histogram\n",
    "# print(itemids['lab'])\n",
    "sql = 'select count(distinct hadm_id) from mimiciii.labevents where itemid {0} AND hadm_id in (select * from admission_ids)'\n",
    "getNumberOfAdmissionThatUseStatId(sql, itemids['lab'], admission_ids_txt,\n",
    "                                  f'{res_dir}/labevent_numberOfAdmissionThatUseItemid.npy')"
   ]
  },
  {
   "cell_type": "code",
   "execution_count": 22,
   "metadata": {},
   "outputs": [],
   "source": [
    "# microbio histogram\n",
    "# print(itemids['microbio'])\n",
    "getNumberOfAdmissionThatUseStatIdBio(itemids['microbio'], admission_ids_txt,\n",
    "                                  f'{res_dir}/microbio_numberOfAdmissionThatUseItemid.npy')\n",
    "\n"
   ]
  },
  {
   "cell_type": "code",
   "execution_count": 18,
   "metadata": {},
   "outputs": [],
   "source": [
    "# prescript histogram\n",
    "# print(itemids['prescript'])\n",
    "sql = 'select count(distinct hadm_id) from mimiciii.prescriptions where formulary_drug_cd {0} and hadm_id in (select * from admission_ids)'\n",
    "getNumberOfAdmissionThatUseStatIdPrescript(sql, itemids['prescript'], admission_ids_txt,\n",
    "                                  f'{res_dir}/prescript_numberOfAdmissionThatUseItemid.npy')"
   ]
  },
  {
   "cell_type": "code",
   "execution_count": 3,
   "metadata": {},
   "outputs": [
    {
     "name": "stdout",
     "output_type": "stream",
     "text": [
      "726\n"
     ]
    },
    {
     "data": {
      "text/plain": [
       "Text(0, 0.5, 'number of admissions using this feature')"
      ]
     },
     "execution_count": 3,
     "metadata": {},
     "output_type": "execute_result"
    },
    {
     "data": {
      "image/png": "[encoded data removed]",
      "text/plain": [
       "<Figure size 720x360 with 1 Axes>"
      ]
     },
     "metadata": {
      "needs_background": "light"
     },
     "output_type": "display_data"
    }
   ],
   "source": [
    "# finish stats in seperate py file for the convenience of multi-processing\n",
    "labevent_histo = np.load(f'{res_dir}/labevent_numberOfAdmissionThatUseItemid.npy', allow_pickle=True).tolist()\n",
    "print(len(labevent_histo))\n",
    "plt.figure(figsize=(10,5))\n",
    "plt.bar([i for i in range(len(labevent_histo))],[int(r[1]) for r in labevent_histo])\n",
    "plt.title('Number of Admission That Use Itemid: labevent')\n",
    "plt.xlabel('the rank of feature, ordered by number of admissions using this feature desc')\n",
    "plt.ylabel('number of admissions using this feature')"
   ]
  },
  {
   "cell_type": "code",
   "execution_count": 20,
   "metadata": {},
   "outputs": [],
   "source": [
    "print(len(labevent_histo))"
   ]
  },
  {
   "cell_type": "code",
   "execution_count": 4,
   "metadata": {
    "scrolled": false
   },
   "outputs": [
    {
     "name": "stdout",
     "output_type": "stream",
     "text": [
      "9154\n"
     ]
    },
    {
     "data": {
      "text/plain": [
       "Text(0, 0.5, 'number of admissions using this feature')"
      ]
     },
     "execution_count": 4,
     "metadata": {},
     "output_type": "execute_result"
    },
    {
     "data": {
      "image/png": "[encoded data removed]",
      "text/plain": [
       "<Figure size 720x360 with 1 Axes>"
      ]
     },
     "metadata": {
      "needs_background": "light"
     },
     "output_type": "display_data"
    }
   ],
   "source": [
    "microbio_histo = np.load(f'{res_dir}/microbio_numberOfAdmissionThatUseItemid.npy', allow_pickle=True).tolist()\n",
    "print(len(microbio_histo))\n",
    "plt.figure(figsize=(10,5))\n",
    "plt.bar([i for i in range(len(microbio_histo))],[int(r[1]) for r in microbio_histo])\n",
    "plt.title('Number of Admission That Use Itemid: microbioevent')\n",
    "plt.xlabel('the rank of feature, ordered by number of admissions using this feature desc')\n",
    "plt.ylabel('number of admissions using this feature')"
   ]
  },
  {
   "cell_type": "code",
   "execution_count": 5,
   "metadata": {},
   "outputs": [
    {
     "data": {
      "text/plain": [
       "Text(0, 0.5, 'number of admissions using this feature')"
      ]
     },
     "execution_count": 5,
     "metadata": {},
     "output_type": "execute_result"
    },
    {
     "data": {
      "image/png": "[encoded data removed]",
      "text/plain": [
       "<Figure size 720x360 with 1 Axes>"
      ]
     },
     "metadata": {
      "needs_background": "light"
     },
     "output_type": "display_data"
    }
   ],
   "source": [
    "microbio_histo[:200]\n",
    "plt.figure(figsize=(10,5))\n",
    "plt.bar([i for i in range(len(microbio_histo[:200]))],[int(r[1]) for r in microbio_histo[:200]])\n",
    "plt.title('Number of Admission That Use Itemid: microbioevent(top 200)')\n",
    "plt.xlabel('the rank of feature, ordered by number of admissions using this feature desc')\n",
    "plt.ylabel('number of admissions using this feature')"
   ]
  },
  {
   "cell_type": "code",
   "execution_count": 7,
   "metadata": {},
   "outputs": [
    {
     "name": "stdout",
     "output_type": "stream",
     "text": [
      "3268\n"
     ]
    },
    {
     "data": {
      "text/plain": [
       "Text(0, 0.5, 'number of admissions using this feature')"
      ]
     },
     "execution_count": 7,
     "metadata": {},
     "output_type": "execute_result"
    },
    {
     "data": {
      "image/png": "[encoded data removed]",
      "text/plain": [
       "<Figure size 720x360 with 1 Axes>"
      ]
     },
     "metadata": {
      "needs_background": "light"
     },
     "output_type": "display_data"
    }
   ],
   "source": [
    "prescript_histo = np.load(f'{res_dir}/prescript_numberOfAdmissionThatUseItemid.npy', allow_pickle=True).tolist()\n",
    "print(len(prescript_histo))\n",
    "plt.figure(figsize=(10,5))\n",
    "plt.bar([i for i in range(len(prescript_histo))],[int(r[1]) for r in prescript_histo])\n",
    "plt.title('Number of Admission That Use Itemid: prescriptionevent')\n",
    "plt.xlabel('the rank of feature, ordered by number of admissions using this feature desc')\n",
    "plt.ylabel('number of admissions using this feature')"
   ]
  },
  {
   "cell_type": "code",
   "execution_count": 16,
   "metadata": {},
   "outputs": [
    {
     "name": "stdout",
     "output_type": "stream",
     "text": [
      "[225936, 30044, 46770, 42596, 44526, 43038, 40327, 225883, 43829, 43750, 225931, 43007, 40743, 30001, 43744, 41390, 30138, 45865, 46057, 44064, 46387, 222051, 45915, 44407, 43081, 45333, 42576, 46583, 45929, 46630, 45640, 42456, 44539, 45090, 43764, 46496, 46362, 45741, 44673, 45803, 46564, 45505, 225991, 42344, 30320, 41358, 45166, 41776, 45270, 43023, 44605, 41357, 30332, 44061, 43474, 40645, 44690, 30119, 44945, 42575, 46101, 41712, 45771, 221456, 46002, 225876, 44505, 46264, 30166, 42999, 45073, 45787, 46026, 44610, 45838, 45125, 44292, 42083, 225860, 46218, 42554, 227535, 41194, 43087, 46040, 45802, 30148, 42438, 42629, 44112, 45214, 40880, 45683, 44054, 44527, 45688, 44818, 45912, 45675, 45182, 45863, 45114, 45458, 42429, 30375, 46330, 41216, 45588, 45871, 30399, 45275, 41356, 41913, 45230, 44144, 45587, 46093, 46419, 225973, 40030, 42674, 45956, 221319, 44795, 43845, 45317, 44182, 41449, 42065, 43835, 45627, 43957, 42230, 45187, 46643, 44696, 46610, 42208, 45765, 41094, 40850, 45580, 42415, 46196, 228003, 45667, 45743, 30024, 45326, 42935, 45954, 46618, 41002, 44202, 42163, 42797, 46593, 30336, 44397, 42480, 41474, 221207, 225996, 45687, 44011, 46169, 45693, 45724, 45766, 45150, 45179, 45660, 46094, 45433, 46636, 42273, 46284, 226021, 45537, 30022, 46248, 45423, 45133, 41516, 43632, 30309, 41983, 44552, 45429, 227975, 45024, 30048, 45608, 30114, 45492, 42994, 42916, 45386, 41064, 45013, 45426, 45213, 41461, 40872, 41747, 43975, 44447, 44777, 226367, 44098, 46428, 41532, 43746, 43539, 46662, 44885, 44126, 43883, 42116, 45719, 45164, 46155, 40471, 46453, 30011, 42342, 44934, 43126, 44500, 44915, 45271, 42396, 225148, 42921, 46460, 30391, 42239, 40752, 225859, 225843, 44954, 42915, 41520, 41583, 42512, 226044, 46173, 40749, 226363, 44877, 43229, 43063, 40954, 225174, 30199, 30129, 45595, 43588, 41798, 43357, 46427, 45389, 45940, 46412, 45629, 41121, 46296, 45224, 40283, 46665, 45447, 44088, 30149, 30248, 225825, 30018, 45079, 42109, 43147, 44675, 41771, 43708, 43763, 45953, 225877, 40632, 41084, 30026, 42680, 44294, 225903, 46211, 43062, 43974, 46032, 44960, 45035, 45445, 41611, 46105, 43044, 45305, 41175, 46594, 42108, 44948, 46597, 45748, 41183, 43940, 225823, 45226, 227692, 45534, 46483, 30265, 44128, 42453, 44077, 45503, 41814, 44511, 41865, 227973, 46632, 42324, 45156, 43033, 220949, 46008, 225871, 43426, 43228, 44621, 41582, 30371, 41916, 30106, 43598, 41695, 45355, 42899, 45661, 42956, 226377, 43440, 46226, 42274, 45329, 30374, 45830, 40788, 46654, 225916, 30181, 45962, 42269, 42213, 43823, 45311, 225797, 44424, 46314, 30326, 41733, 45564, 225845, 42031, 44130, 43077, 44749, 42613, 46511, 30122, 45630, 45315, 42548, 42028, 225151, 45988, 44491, 45641, 42648, 225935, 46538, 42391, 45050, 42146, 45989, 45220, 46470, 42959, 45169, 44122, 40404, 41709, 42026, 44244, 30135, 42764, 222151, 42211, 43080, 44603, 30090, 43032, 46582, 46671, 42658, 46322, 45713, 43139, 225799, 220970, 30133, 30324, 44876, 45934, 30117, 44861, 41415, 43008, 30214, 30322, 42090, 46332, 44760, 46690, 46698, 45769, 46436, 44602, 44966, 42192, 44115, 45455, 46162, 41902, 44980, 42301, 30227, 42947, 30405, 30103, 225934, 41432, 46714, 46494, 45944, 45948, 41759, 44688, 45346, 44116, 46762, 225895, 44203, 45165, 45004, 42724, 41622, 46590, 41307, 42698, 42329, 41067, 46251, 42574, 43590, 30347, 42039, 45398, 30379, 42481, 45371, 46750, 43235, 44738, 45003, 40865, 45574, 43661, 42345, 30378, 42414, 46687, 45103, 42933, 45293, 44404, 42831, 221744, 40833, 41076, 45160, 44917, 46311, 44697, 45488, 45282, 42387, 44139, 42064, 225893, 40503, 44207, 42948, 42866, 41745, 44653, 30384, 45779, 46352, 43901, 43900, 43521, 46064, 225869, 223259, 30178, 42423, 46517, 45820, 46498, 45569, 42876, 225884, 30307, 46625, 45370, 44399, 44396, 44560, 44101, 42514, 43238, 42488, 44383, 42297, 42359, 45294, 44679, 225844, 41188, 41721, 43473, 30109, 42745, 44517, 44109, 42715, 42954, 42804, 228367, 222011, 225795, 44311, 46524, 225889, 40551, 30125, 45880, 46361, 42577, 44607, 41694, 45173, 30065, 44438, 42062, 45958, 46017, 43619, 45362, 46717, 46214, 227072, 44000, 30104, 44667, 45237, 44430, 30017, 46589, 225840, 45947, 46686, 228315, 225917, 45732, 41538, 43909, 43757, 45930, 42506, 44440, 30159, 45200, 43765, 221289, 44833, 228316, 42413, 44591, 45599, 30200, 30397, 43869, 43584, 30174, 222042, 225147, 42749, 46518, 40908, 45177, 30232, 44789, 46679, 42352, 42024, 46078, 45189, 42375, 43509, 42657, 44976, 42989, 30121, 45634, 46559, 42041, 45896, 45659, 30058, 41609, 41780, 45745, 30049, 45821, 45444, 42833, 225975, 43826, 44553, 44423, 45928, 42561, 45443, 44345, 45490, 42030, 225842, 30333, 42244, 42897, 41619, 46639, 42088, 45908, 45159, 43866, 30077, 43759, 46163, 44118, 30266, 42739, 46781, 42451, 43798, 46041, 30230, 44559, 45163, 42848, 41568, 44741, 45810, 30170, 46423, 46069, 41808, 46765, 30118, 46036, 225158, 30353, 46104, 45395, 46432, 44634, 225875, 42855, 43740, 30271, 226370, 41246, 40952, 226030, 44516, 44608, 45728, 45134, 42259, 46688, 41220, 43921, 42365, 43487, 225154, 45507, 42521, 42382, 44573, 46683, 46600, 44871, 45400, 41458, 42998, 42448, 40953, 44630, 45680, 228134, 42277, 225828, 46392, 30256, 227977, 43683, 44503, 41610, 44547, 30186, 45314, 45313, 42177, 30086, 41859, 43951, 227979, 43418, 227974, 30025, 43599, 227525, 30207, 46267, 44326, 42638, 40423, 43125, 225863, 221824, 44850, 44206, 46508, 46758, 45900, 41381, 45935, 45377, 42785, 44902, 225912, 30401, 42027, 42233, 45773, 46789, 30291, 40585, 45875, 42664, 44056, 45584, 223260, 42732, 42628, 42857, 42134, 41741, 227070, 225873, 44965, 42691, 45646, 225909, 42358, 45057, 30173, 44743, 46684, 42949, 30143, 46720, 46457, 45162, 46653, 42063, 46340, 45668, 46273, 45203, 41367, 45471, 45856, 41179, 30342, 45885, 45982, 30357, 45185, 44580, 42409, 228133, 46802, 43923, 45902, 46574, 43089, 225913, 41086, 43973, 42975, 44583, 45964, 30055, 30146, 43838, 45319, 227524, 45384, 45945, 44381, 45041, 46075, 43049, 45756, 43693, 43813, 42768, 41429, 46602, 221385, 30111, 44265, 46421, 42282, 42161, 30383, 42858, 46011, 42050, 30340, 46668, 46410, 45184, 46229, 45826, 45784, 43555, 42234, 46174, 43354, 42566, 44111, 41028, 42361, 43880, 226038, 41237, 30120, 42112, 45390, 41557, 40550, 44264, 44479, 44627, 44772, 42045, 45354, 46596, 41701, 45882, 46567, 42762, 43472, 44437, 41493, 44076, 222190, 30032, 42723, 45772, 225888, 44751, 43865, 42389, 30080, 42580, 225881, 45288, 42202, 42187, 45543, 44529, 30087, 43366, 30021, 43855, 46167, 42599, 44341, 46777, 43747, 30167, 43076, 46754, 42783, 41416, 46222, 42416, 227523, 45206, 42757, 228383, 45969, 40586, 30175, 41688, 44699, 40452, 30096, 30264, 44330, 228142, 46083, 42942, 46430, 44033, 43457, 42763, 30088, 30306, 45388, 43444, 42728, 226051, 42372, 45721, 45287, 42562, 220952, 42932, 46697, 45191, 43776, 43674, 222318, 42079, 42845, 45854, 42385, 223261, 45699, 40726, 44377, 46111, 44554, 44451, 44435, 44784, 44117, 30124, 43997, 221833, 44486, 45469, 46085, 41217, 45397, 42223, 44999, 225906, 41014, 43088, 44335, 45350, 44950, 46175, 45876, 43036, 46042, 42522, 41451, 42007, 46548, 45382, 44852, 45567, 227696, 46554, 45762, 46707, 44242, 42334, 45566, 45632, 45881, 42902, 42639, 30209, 30040, 225948, 46448, 45776, 41371, 42534, 45959, 40777, 42360, 45998, 42779, 42306, 43631, 40692, 44615, 43488, 43532, 42697, 41652, 40989, 42706, 41668, 45241, 43515, 30334, 42568, 41368, 43320, 45542, 30063, 41575, 42692, 225850, 44302, 46549, 42721, 40635, 44498, 225907, 225942, 30300, 46333, 43657, 225930, 225166, 30361, 44387, 43639, 42025, 45236, 45886, 44100, 43678, 30179, 46547, 42898, 45497, 46084, 45983, 41193, 43713, 41413, 46700, 46585, 41697, 44783, 45663, 42985, 44986, 42117, 45186, 41410, 43014, 225855, 227533, 44446, 42364, 44632, 43928, 42618, 45430, 226031, 45481, 42221, 41518, 46493, 42374, 45689, 45780, 44830, 44635, 42955, 42725, 43889, 30364, 44460, 30325, 30282, 41391, 42406, 227091, 44900, 226016, 30150, 45375, 45950, 42668, 40929, 46172, 42923, 41742, 225944, 45709, 45676, 30323, 42323, 30097, 30254, 46363, 41677, 225969, 41068, 46122, 42801, 44175, 41176, 42284, 44702, 42793, 44628, 44043, 45387, 223262, 45274, 41810, 30008, 46536, 221623, 45734, 30053, 45893, 30404, 45981, 220862, 42492, 43720, 45757, 46254, 45979, 44519, 228339, 43471, 45540, 42337, 225847, 30339, 45990, 44616, 43872, 45330, 43810, 41218, 30346, 43140, 41864, 30198, 45096, 43707, 226875, 42203, 42878, 46206, 46243, 45598, 44057, 44952, 45644, 45589, 42623, 41693, 42503, 46221, 46404, 30377, 46308, 44224, 41389, 30239, 45718, 45310, 46120, 41492, 42495, 45171, 43232, 42786, 43998, 45466, 44723, 42646, 44578, 30352, 42440, 44361, 30202, 46522, 44897, 227691, 43109, 30359, 43047, 42291, 46247, 41322, 30316, 44038, 44047, 42570, 45777, 226028, 46634, 41460, 40548, 41163, 42240, 30308, 42792, 44312, 44779, 44190, 44894, 30004, 42814, 226019, 46256, 43425, 44797, 42839, 45131, 45427, 43979, 44305, 46366, 42887, 44962, 46217, 46617, 225910, 42204, 45369, 44601, 46783, 46458, 44822, 42888, 44469, 42188, 46106, 46258, 45633, 41556, 44125, 41895, 46115, 45498, 42493, 42758, 30303, 42308, 45621, 45168, 44990, 225890, 44123, 46013, 43039, 43664, 221429, 225994, 30083, 46769, 41823, 41896, 45302, 44937, 45513, 42292, 45383, 44289, 44323, 30023, 41427, 45128, 46236, 42087, 45628, 43508, 46157, 41915, 42246, 43466, 43461, 45414, 225920, 43704, 40964, 46420, 220950, 45286, 42813, 42408, 45938, 43132, 45155, 43240, 227976, 41380, 43041, 42468, 228341, 45399, 45943, 226361, 45515, 46515, 40864, 44570, 46651, 41087, 42979, 45374, 30233, 42176, 42224, 45819, 41063, 30317, 30105, 44825, 42490, 45119, 46342, 44927, 45157, 46160, 42865, 44050, 42926, 221892, 44804, 43852, 46275, 30161, 46031, 42489, 45901, 43353, 43969, 41457, 46318, 225928, 46010, 44971, 46192, 30101, 42053, 30020, 46725, 225943, 227698, 45483, 44049, 42791, 45410, 45434, 45403, 42641, 225879, 43234, 42373, 45610, 41089, 30190, 225865, 45424, 30165, 44059, 44870, 44376, 45775, 30310, 45966, 46411, 44983, 30045, 30108, 41110, 45151, 46316, 46726, 43470, 44856, 44695, 46109, 45960, 45303, 46139, 221712, 44855, 46692, 44279, 44413, 42755, 44431, 44823, 30082, 45720, 44949, 46338, 45048, 44963, 42238, 30184, 46413, 46197, 225801, 46749, 46736, 46407, 45045, 46014, 30396, 30237, 45600, 43021, 44484, 46356, 40998, 44179, 42369, 42281, 45643, 46699, 44441, 45923, 46771, 43356, 45725, 42322, 45216, 46294, 30027, 45986, 45939, 44414, 228356, 30066, 45648, 43677, 43986, 45428, 42186, 44240, 45746, 43169, 46570, 226050, 30144, 42194, 45809, 46561, 46166, 46038, 43423, 44439, 44010, 46158, 221036, 45606, 46438, 43370, 43497, 225851, 45519, 45978, 30034, 42241, 30312, 45393, 45452, 43346, 225929, 227532, 45053, 42136, 45225, 45292, 40780, 44631, 41689, 46151, 40489, 43017, 46103, 30278, 46355, 46499, 44668, 220864, 44508, 42250, 45352, 44219, 41981, 46261, 46603, 45108, 46100, 41710, 30356, 44582, 42384, 46313, 43547, 42920, 46209, 226880, 42307, 45678, 46244, 42288, 227370, 42299, 45476, 43725, 42266, 46312, 45575, 46440, 43990, 45609, 42185, 46354, 42082, 40598, 227520, 44425, 42614, 46441, 41835, 44037, 44873, 228348, 45684, 46540, 41083, 40504, 45325, 45511, 45963, 30069, 44544, 225886, 30012, 42976, 40468, 45500, 41760, 41048, 45499, 44728, 45736, 45320, 44023, 42841, 46358, 43572, 222037, 46669, 45137, 30272, 42439, 46301, 225970, 46048, 45372, 45446, 30115, 44912, 41788, 44523, 45891, 42483, 44863, 42811, 45592, 45761, 226453, 41807, 42243, 45894, 42526, 46680, 42060, 46693, 45502, 45764, 45331, 41446, 46046, 45253, 46599, 46152, 44324, 46133, 30042, 45727, 225150, 42573, 41643, 46007, 41597, 46624, 42099, 41000, 45176, 41850, 42679, 45208, 42471, 45170, 46291, 45132, 44994, 40957, 44070, 44366, 43073, 46228, 41651, 41459, 30338, 30052, 41732, 45336, 228132, 44036, 46492, 44020, 43875, 43097, 42709, 42981, 42251, 42325, 46572, 46277, 46434, 42917, 30295, 41752, 30100, 221733, 45126, 44150, 46077, 41234, 44102, 45839, 41092, 30367, 30392, 46417, 40744, 46406, 45021, 43929, 30061, 42074, 30276, 44156, 42404, 46472, 42563, 225159, 228351, 42864, 45265, 41409, 226036, 43242, 42675, 42100, 43982, 45149, 45673, 45472, 40583, 45767, 40907, 42110, 46319, 41579, 40863, 40794, 45647, 44590, 44633, 43364, 46390, 45146, 45681, 41591, 41792, 30099, 30287, 42908, 30093, 45364, 45359, 221347, 30006, 45872, 43112, 42931, 41746, 30172, 46262, 44277, 44827, 45717, 41122, 45032, 41485, 46302, 226365, 30047, 43091, 42154, 46747, 45268, 44793, 44217, 45016, 226026, 30238, 30299, 45937, 45002, 45807, 46015, 46641, 46323, 46776, 44310, 30335, 42730, 41962, 30249, 46516, 43141, 42380, 42402, 30141, 44091, 42742, 42215, 44343, 42645, 43839, 46608, 46317, 44683, 42076, 43861, 44614, 45201, 221986, 44737, 42993, 42051, 41439, 45396, 45094, 46089, 43825, 44762, 44419, 45289, 42484, 44805, 42295, 42513, 226058, 30007, 30226, 43774, 30074, 228361, 46598, 46462, 46159, 222056, 42990, 41189, 43051, 46063, 45752, 46681, 43020, 30358, 46299, 42047, 30213, 46491, 46798, 45926, 42286, 42996, 42736, 30116, 42245, 30373, 45623, 30033, 42311, 41164, 44394, 43403, 46778, 43994, 41642, 41797, 44763, 44369, 30197, 46337, 42820, 46644, 44329, 43548, 43135, 44442, 46033, 44518, 43864, 226376, 45407, 45211, 41353, 44041, 43070, 44638, 41706, 45239, 44470, 45474, 42038, 30168, 42061, 46343, 45909, 42673, 45889, 30298, 42844, 42336, 43936, 43090, 45922, 227695, 44658, 46004, 46393, 40449, 30081, 43886, 46056, 45394, 42285, 46300, 44521, 44223, 42180, 225838, 227689, 44932, 45785, 43122, 46061, 43107, 45686, 227531, 44160, 30068, 42826, 41646, 42458, 40801, 44339, 227690, 30385, 40636, 40535, 45207, 46165, 42896, 45431, 227528, 45406, 46476, 45059, 225830, 44874, 46550, 45972, 42106, 45516, 45946, 43636, 42265, 42702, 46053, 44799, 42298, 226023, 40579, 45506, 30131, 42491, 45700, 44918, 43241, 45495, 41561, 45153, 45942, 43118, 30313, 30089, 45401, 43952, 225832, 43395, 46170, 30084, 30095, 225905, 46246, 45532, 45290, 46595, 226368, 43541, 42770, 228140, 30247, 45249, 45677, 225153, 30321, 45480, 30344, 45074, 46443, 46117, 43775, 41382, 228340, 40450, 30341, 43924, 42825, 43131, 226369, 225868, 46293, 41984, 46066, 42135, 42462, 46565, 30036, 42091, 46606, 226882, 228364, 42710, 41111, 44009, 225171, 42174, 43777, 44537, 44106, 44045, 44016, 43867, 227699, 30123, 40958, 46691, 46181, 45097, 30270, 42821, 30368, 43699, 30009, 30134, 41669, 45892, 226017, 46429, 42832, 41531, 46074, 45491, 225896, 46455, 42734, 43977, 45662, 40725, 45572, 45612, 42716, 46592, 46418, 43170, 40532, 42565, 30208, 46543, 41525, 43381, 43728, 46800, 42631, 225170, 44987, 41851, 43031, 45514, 42901, 30075, 30301, 46153, 42669, 45130, 227518, 46113, 45731, 228135, 43649, 43663, 45020, 44645, 42778, 42089, 45735, 225152, 44155, 42102, 43767, 30389, 46514, 46116, 45358, 45754, 44297, 45404, 43237, 43700, 46126, 45833, 44494, 40595, 45115, 45180, 30370, 46609, 42205, 46384, 45955, 43689, 40531, 41744, 43061, 46051, 45343, 46731, 227529, 30329, 226046, 44488, 44218, 45323, 45034, 43993, 44757, 43475, 44306, 42590, 41827, 41779, 45298, 43439, 43874, 225155, 45669, 42967, 44163, 42162, 45842, 221749, 46730, 43709, 30362, 43438, 46088, 45308, 44609, 42309, 44584, 42235, 30205, 41791, 45768, 41201, 30189, 42995, 42849, 40699, 45360, 45579, 44703, 44765, 30305, 45690, 42784, 42879, 30360, 45385, 42216, 45334, 42430, 46271, 45322, 45376, 43168, 45442, 46067, 42939, 43701, 46003, 44642, 45573, 44579, 44776, 46252, 45722, 43983, 43999, 42707, 46140, 226877, 45904, 43950, 222021, 30210, 42802, 45674, 43332, 45967, 41968, 45091, 44042, 46045, 44370, 30337, 46297, 40895, 221662, 30043, 30345, 41627, 46805, 42743, 44263, 42249, 42232, 42395, 45691, 46086, 41905, 45708, 46238, 41467, 44832, 46171, 46694, 223258, 42689, 41825, 44465, 30054, 43516, 42606, 30372, 46349, 45037, 30203, 41777, 225892, 45571, 44048, 226049, 42925, 41182, 42913, 40505, 30003, 44169, 44836, 46216, 46263, 46357, 44421, 41001, 41632, 45402, 46465, 226059, 41388, 45965, 46298, 43772, 221653, 30005, 44164, 41425, 45012, 44848, 41466, 46674, 46389, 45467, 45738, 221393, 30030, 30013, 45843, 42242, 42452, 44131, 45652, 46588, 46677, 227530, 42149, 30380, 42693, 42731, 45961, 44483, 46025, 45033, 228363, 41799, 41714, 30014, 41828, 221342, 30403, 41789, 40955, 41941, 44167, 44110, 42900, 30059, 46482, 46112, 222315, 42812, 46708, 45197, 43727, 44094, 43877, 45997, 30212, 45470, 40713, 42424, 43056, 42469, 45072, 45984, 30126, 45051, 43902, 46635, 44184, 41526, 43319, 45714, 43407, 45001, 45339, 46569, 44464, 45379, 45154, 225157, 30350, 42084, 45416, 46790, 46052, 44344, 225993, 45931, 43778, 46488, 44379, 43745, 45238, 30402, 42856, 40611, 45531, 42455, 42528, 228141, 30277, 41773, 43647, 225173, 46068, 40549, 44835, 30255, 42630, 45232, 44507, 30177, 42422, 44358, 45233, 46156, 46529, 42381, 30187, 46484, 42207, 46386, 45109, 46577, 30147, 227694, 30253, 30139, 46772, 44471, 41726, 45723, 45023, 42383, 42477, 40866, 225161, 40281, 41275, 45139, 44354, 30211, 42564, 42118, 46360, 45919, 30304, 30355, 30394, 226024, 40712, 44678, 46422, 30302, 43520, 42656, 44711, 46785, 42126, 46336, 46200, 46344, 41653, 44887, 225827, 45508, 44864, 44467, 43485, 42980, 44769, 41537, 45347, 45465, 45448, 45781, 43597, 45335, 44936, 46006, 46467, 44534, 221668, 45244, 45273, 44021, 42175, 40894, 46670, 44800, 45980, 225833, 45535, 30046, 45047, 30071, 30057, 30171, 41387, 43571, 45936, 30016, 44849, 45544, 46245, 45038, 46729, 45161, 44466, 44420, 42353, 44742, 43230, 45031, 45597, 44487, 222168, 42581, 42296, 226039, 46047, 44647, 44287, 227071, 45692, 46043, 44555, 40533, 45685, 42805, 44386, 46530, 42610, 41354, 46207, 45625, 44478, 42197, 44362, 46076, 45905, 41856, 46633, 30067, 44585, 44796, 43773, 46509, 226371, 44270, 227526, 45172, 43476, 225941, 46546, 46019, 42661, 45279, 41093, 30169, 46397, 46500, 45522, 30031, 42407, 44127, 46012, 30194, 44817, 46227, 42729, 41906, 41774, 42769, 42713, 43903, 45774, 45409, 43394, 30073, 44504, 226375, 44499, 44385, 45459, 42428, 46685, 41702, 225885, 30314, 225835, 42655, 41186, 42127, 30192, 41848, 45682, 46292, 45381, 40424, 44473, 44141, 30112, 43799, 44276, 42938, 43055, 46150, 30315, 44415, 40646, 46797, 46039, 43540, 42470, 41841, 41352, 30092, 42172, 41845, 43387, 45432, 42875, 40667, 45478, 42587, 42059, 46753, 45380, 41765, 41550, 44770, 46682, 40795, 221555, 45504, 43930, 227522, 46161, 30369, 225911, 44472, 30243, 30319, 30102, 46439, 42914, 41740, 40552, 45510, 46328, 45730, 43432, 44576, 226047, 43972, 30094, 40582, 45744, 43493, 44712, 40581, 223257, 44303, 42326, 30050, 46795, 30142, 43002, 46114, 42740, 43506, 221689, 44031, 41846, 44575, 42830, 46351, 45454, 30297, 42494, 41373, 42663, 45586, 40596, 46235, 42971, 42115, 41445, 42527, 44826, 46249, 46495, 41428, 45312, 42940, 43962, 40903, 43542, 41491, 41517, 44145, 44713, 43367, 42815, 42771, 221828, 42711, 43136, 46223, 46123, 42799, 30127, 42370, 44889, 45300, 44008, 43083, 45751, 30231, 42529, 45907, 43514, 30201, 30366, 41101, 42217, 46005, 41620, 42166, 43910, 45593, 45868, 44166, 46803, 46486, 46442, 41711, 40676, 46212, 45903, 45276, 44838, 30388, 41581, 44318, 43971, 45539, 44204, 46305, 45801, 222062, 42777, 225862, 41739, 44924, 43553, 43321, 46433, 41654, 46566, 225915, 44172, 30260, 226881, 40778, 45223, 45949, 42044, 43010, 30128, 45847, 44819, 225837, 41355, 45075, 45143, 41174, 225848, 45195, 43009, 42827, 30130, 44881, 225866, 45046, 40803, 42531, 44648, 221906, 46239, 42790, 44492, 45808, 42944, 45694, 46791, 43465, 41147, 45818, 46203, 45318, 44759, 30163, 46023, 45913, 46346, 46431, 46194, 40402, 44105, 45029, 225167, 45987, 45101, 45827, 44391, 43059, 43766, 45140, 43719, 45916, 30318, 42515, 30348, 45770, 42150, 40873, 30354, 42665, 44998, 30176, 43648, 45747, 42722, 45107, 44991, 41580, 46367, 226045, 41066, 227534, 46250, 41408, 30283, 41853, 44480, 221468, 45887, 46501, 30056, 30002, 43050, 41824, 44426, 41490, 46081, 42418, 46110, 42608, 42589, 30195, 40796, 45473, 42737, 42714, 45782, 44820, 226089, 43656, 45363, 45649, 41549, 225798, 30029, 44168, 45058, 41951, 41430, 45541, 44568, 46107, 45576, 44390, 44096, 43406, 46027, 46774, 44346, 30225, 44761, 43037, 43469, 42660, 225945, 42588, 221794, 45453, 45635, 44798, 228131, 46341, 45486, 43507, 46138, 45999, 45349, 45737, 46451, 46521, 42735, 40889, 45701, 41555, 41757, 45451, 44780, 44938, 46205, 46276, 42927, 44459, 44212, 42705, 30343, 40976, 43108, 42040, 42704, 46359, 44489, 45217, 46792, 30085, 42965, 45951, 43137, 46780, 44774, 30196, 45917, 42647, 44979, 30185, 30191, 30365, 45052, 45755, 45373, 44319, 43739, 44787, 45897, 42699, 44722, 30296, 41676, 225914, 45391, 42609, 30015, 44089, 42895, 30113, 45671, 45657, 45853, 46154, 42343, 44053, 44791, 30164, 45228, 46562, 46461, 45878, 30180, 45378, 225834, 42756, 30193, 42886, 45353, 45036, 42941, 42206, 46009, 44246, 44878, 41100, 43134, 41508, 44766, 225899, 44972, 45563, 45565, 40506, 44844, 42173, 44698, 42836, 44953, 45297, 46385, 40802, 41372, 46497, 44162, 41938, 44165, 227536, 41704, 46611, 43526, 44477, 42363, 225937, 45392, 46477, 40812, 46353, 41187, 220995, 44625, 46364, 46176, 45870, 46148, 42708, 40691, 42538, 41351, 46369, 42058, 44815, 46095, 30062, 46016, 30110, 43086, 42924, 30070, 45656, 225974, 41450, 42612, 46124, 30072, 45759, 43942, 46097, 46054, 41621, 43904, 44862, 46706, 43092, 30151, 42335, 226048, 44129, 45348, 225902, 43726, 44001, 30051, 43018, 226364, 44908, 46265, 226020, 225947, 43424, 45783, 43013, 40750, 42168, 45449, 225853, 43882, 41761, 46090, 45521, 225168, 225995, 46280, 42671, 42894, 45457, 46612, 43712, 43586, 30160, 43733, 44725, 30221, 42193, 43583, 46065, 42504, 44907, 45985, 46481, 40963, 45848, 30381, 46320, 44188, 43819, 46233, 42171, 41524, 221261, 44236, 43593, 41743, 46149, 40700, 43113, 46447, 42142, 41855, 42862, 45218, 42310, 41963, 44905, 44515, 43233, 41219, 46773, 41956, 30351, 42231, 30107, 44964, 42640, 46087, 45695, 41958, 42447, 221282, 46490, 40902, 42567, 45957, 46179, 30098, 46127, 40832, 42474, 44495, 226452, 42459, 44510, 45921, 225898, 45450, 228359, 45596, 41077, 44893, 46528, 226022, 30386, 44200, 43768, 42401, 30028, 45104, 46339, 45425, 41065, 30140, 41447, 44919, 45614, 227978, 44981, 42607, 46400, 226027, 45577, 44916, 45010, 30078, 42137, 225156, 30395, 40033, 46383, 226372, 42654, 46266, 44525, 45080, 225908, 46689, 30328, 46281, 44528, 43505, 41448, 41787, 45520, 44458, 46591, 44255, 42052, 41162, 46660, 44355, 41662, 45710, 42275, 43622, 41392, 45321, 45716, 43939, 44427, 46272, 46553, 40385, 40702, 30153, 30204, 42978, 30349, 45027, 45482, 46534, 43322, 46260, 41383, 46445, 44220, 44107, 42125, 41303, 44842, 30398, 44367, 44331, 46560, 41431, 45475, 45092, 46487, 44092, 45906, 46659, 42478, 44044, 43616, 42049, 30060, 42457, 45941, 42782, 45183, 42621, 46391]\n"
     ]
    }
   ],
   "source": [
    "print(itemids['input'])"
   ]
  },
  {
   "cell_type": "code",
   "execution_count": 17,
   "metadata": {},
   "outputs": [
    {
     "name": "stderr",
     "output_type": "stream",
     "text": [
      "/home/mengcz/.pyenv/versions/anaconda3-5.1.0/envs/Benchmarking_DL_MIMICIII/lib/python3.6/site-packages/ipykernel_launcher.py:10: TqdmDeprecationWarning: This function will be removed in tqdm==5.0.0\n",
      "Please use `tqdm.notebook.tqdm` instead of `tqdm.tqdm_notebook`\n",
      "  # Remove the CWD from sys.path while we load stuff.\n",
      "/home/mengcz/.pyenv/versions/anaconda3-5.1.0/envs/Benchmarking_DL_MIMICIII/lib/python3.6/site-packages/ipykernel_launcher.py:10: TqdmDeprecationWarning: This function will be removed in tqdm==5.0.0\n",
      "Please use `tqdm.notebook.tqdm` instead of `tqdm.tqdm_notebook`\n",
      "  # Remove the CWD from sys.path while we load stuff.\n",
      "/home/mengcz/.pyenv/versions/anaconda3-5.1.0/envs/Benchmarking_DL_MIMICIII/lib/python3.6/site-packages/ipykernel_launcher.py:10: TqdmDeprecationWarning: This function will be removed in tqdm==5.0.0\n",
      "Please use `tqdm.notebook.tqdm` instead of `tqdm.tqdm_notebook`\n",
      "  # Remove the CWD from sys.path while we load stuff.\n",
      "/home/mengcz/.pyenv/versions/anaconda3-5.1.0/envs/Benchmarking_DL_MIMICIII/lib/python3.6/site-packages/ipykernel_launcher.py:10: TqdmDeprecationWarning: This function will be removed in tqdm==5.0.0\n",
      "Please use `tqdm.notebook.tqdm` instead of `tqdm.tqdm_notebook`\n",
      "  # Remove the CWD from sys.path while we load stuff.\n"
     ]
    },
    {
     "data": {
      "application/vnd.jupyter.widget-view+json": {
       "model_id": "c158b581b2984b98a6b43431f5208f1f",
       "version_major": 2,
       "version_minor": 0
      },
      "text/plain": [
       "HBox(children=(FloatProgress(value=0.0, max=804.0), HTML(value='')))"
      ]
     },
     "metadata": {},
     "output_type": "display_data"
    },
    {
     "data": {
      "application/vnd.jupyter.widget-view+json": {
       "model_id": "d36bae0a9b6c4c50b025c7f126300b4c",
       "version_major": 2,
       "version_minor": 0
      },
      "text/plain": [
       "HBox(children=(FloatProgress(value=0.0, max=804.0), HTML(value='')))"
      ]
     },
     "metadata": {},
     "output_type": "display_data"
    },
    {
     "data": {
      "application/vnd.jupyter.widget-view+json": {
       "model_id": "dac6a92d06664da5961aa70f52000f01",
       "version_major": 2,
       "version_minor": 0
      },
      "text/plain": [
       "HBox(children=(FloatProgress(value=0.0, max=804.0), HTML(value='')))"
      ]
     },
     "metadata": {},
     "output_type": "display_data"
    },
    {
     "data": {
      "application/vnd.jupyter.widget-view+json": {
       "model_id": "f0609315a18d4ee5961fec0163d8ec63",
       "version_major": 2,
       "version_minor": 0
      },
      "text/plain": [
       "HBox(children=(FloatProgress(value=0.0, max=804.0), HTML(value='')))"
      ]
     },
     "metadata": {},
     "output_type": "display_data"
    },
    {
     "name": "stdout",
     "output_type": "stream",
     "text": [
      "\n",
      "\n",
      "\n",
      "\n",
      "[('30013', 25450), ('30018', 21769), ('30056', 20441), ('225158', 19301), ('220949', 16616), ('226452', 16252), ('225943', 12413), ('30026', 11958), ('30131', 11119), ('30140', 10644), ('222011', 10552), ('225975', 10290), ('225166', 10170), ('30001', 10085), ('30021', 9398), ('223258', 8703), ('225798', 8512), ('30144', 8133), ('227523', 8069), ('222168', 7675), ('30101', 7574), ('226089', 7244), ('225828', 7235), ('221794', 7135), ('225154', 6896), ('221456', 6789), ('30045', 6782), ('30128', 6713), ('30015', 6614), ('225910', 6172), ('225799', 6123), ('227522', 5998), ('225168', 5990), ('30054', 5956), ('221744', 5833), ('226361', 5736), ('226364', 5590), ('30025', 5556), ('30095', 5066), ('30121', 4940), ('225974', 4834), ('225907', 4795), ('221749', 4785), ('221668', 4515), ('226453', 4501), ('223262', 4408), ('30120', 4075), ('30005', 3777), ('221833', 3692), ('225823', 3454), ('30187', 3416), ('30118', 3377), ('221385', 3358), ('223260', 3335), ('225850', 3301), ('225152', 3171), ('221906', 3149), ('225893', 3121), ('30102', 3036), ('30020', 3033), ('30059', 2903), ('221828', 2852), ('225944', 2820), ('225884', 2810), ('225834', 2767), ('225942', 2690), ('222056', 2683), ('225851', 2617), ('225859', 2486), ('30043', 2456), ('30124', 2405), ('220864', 2366), ('30112', 2138), ('30260', 2101), ('30030', 2081), ('30006', 1987), ('225855', 1945), ('30296', 1918), ('30029', 1880), ('220970', 1879), ('30166', 1863), ('226372', 1824), ('220995', 1787), ('30221', 1768), ('30297', 1760), ('225911', 1736), ('30058', 1731), ('226368', 1707), ('225797', 1691), ('220952', 1659), ('30065', 1650), ('30032', 1640), ('30126', 1638), ('30050', 1625), ('30104', 1624), ('30055', 1536), ('225936', 1527), ('225159', 1510), ('225879', 1503), ('30060', 1452), ('225892', 1429), ('30270', 1407), ('221347', 1365), ('30051', 1353), ('225883', 1348), ('220862', 1332), ('30073', 1303), ('30123', 1302), ('221824', 1300), ('225170', 1297), ('30302', 1265), ('30119', 1183), ('30225', 1162), ('225833', 1104), ('228315', 1076), ('225153', 1062), ('30303', 1061), ('221468', 1060), ('30089', 1017), ('30196', 1010), ('30142', 1007), ('30208', 1005), ('222315', 1002), ('225150', 1001), ('225825', 967), ('30125', 958), ('227694', 953), ('227689', 946), ('30122', 932), ('221662', 914), ('30008', 906), ('30103', 897), ('30066', 896), ('30012', 883), ('226365', 877), ('226367', 873), ('225835', 870), ('226363', 864), ('30115', 849), ('30009', 839), ('30077', 807), ('30141', 806), ('225832', 803), ('225909', 801), ('30366', 791), ('30042', 787), ('227533', 774), ('222042', 749), ('221289', 742), ('225830', 721), ('30264', 694), ('30227', 690), ('226369', 681), ('225913', 681), ('30354', 665), ('30090', 664), ('225845', 661), ('223259', 653), ('30105', 650), ('30358', 633), ('30108', 619), ('225843', 599), ('30266', 592), ('30028', 582), ('225837', 579), ('225970', 570), ('30007', 559), ('30088', 558), ('30167', 557), ('225917', 557), ('225842', 547), ('225869', 543), ('225906', 541), ('30023', 534), ('30304', 521), ('30190', 513), ('30114', 505), ('30016', 491), ('226880', 491), ('221555', 486), ('227695', 485), ('30031', 482), ('225875', 480), ('221623', 478), ('225916', 476), ('227525', 475), ('30068', 472), ('30117', 450), ('30096', 448), ('221986', 440), ('225155', 432), ('225881', 428), ('225860', 422), ('30226', 418), ('220950', 415), ('227526', 410), ('30179', 409), ('227536', 407), ('30078', 403), ('227529', 402), ('228135', 400), ('30360', 399), ('226375', 398), ('225899', 393), ('225931', 388), ('30197', 386), ('30335', 381), ('30178', 381), ('222062', 376), ('30133', 376), ('225973', 370), ('30172', 362), ('30369', 348), ('222051', 347), ('225885', 345), ('30272', 340), ('227975', 329), ('30048', 325), ('225935', 319), ('30371', 318), ('30199', 316), ('30321', 313), ('30352', 312), ('225853', 311), ('30164', 310), ('228340', 309), ('225151', 309), ('225948', 305), ('30049', 300), ('221429', 294), ('30368', 293), ('30298', 291), ('225947', 288), ('225171', 288), ('225863', 281), ('30198', 275), ('227535', 269), ('30317', 264), ('225888', 263), ('30072', 250), ('30160', 246), ('30364', 245), ('30276', 244), ('30061', 243), ('30307', 243), ('228316', 242), ('228339', 235), ('225847', 232), ('227979', 232), ('30047', 229), ('225902', 227), ('30359', 225), ('225161', 222), ('30127', 216), ('221653', 213), ('225912', 207), ('30404', 206), ('225941', 202), ('227531', 200), ('30194', 199), ('30325', 198), ('30071', 196), ('30168', 193), ('30278', 193), ('30165', 193), ('30403', 192), ('30086', 192), ('30200', 188), ('226371', 185), ('30299', 184), ('30191', 178), ('225827', 178), ('30149', 176), ('30231', 174), ('30099', 172), ('227690', 169), ('30053', 169), ('30301', 168), ('30150', 161), ('30337', 160), ('30209', 160), ('30163', 158), ('30324', 155), ('30027', 154), ('225969', 154), ('225945', 151), ('221036', 151), ('225866', 149), ('30143', 149), ('30173', 145), ('225930', 141), ('30211', 140), ('30318', 137), ('30313', 137), ('30193', 136), ('30094', 136), ('225905', 136), ('30107', 135), ('30110', 135), ('221393', 132), ('30347', 123), ('30069', 122), ('30355', 120), ('223257', 118), ('227520', 116), ('30210', 113), ('30075', 113), ('30357', 113), ('30106', 112), ('30265', 112), ('228367', 105), ('225934', 103), ('222021', 97), ('225147', 97), ('225920', 96), ('30233', 93), ('221282', 92), ('30100', 92), ('30336', 92), ('30308', 88), ('227530', 87), ('225928', 87), ('30159', 87), ('30138', 87), ('30033', 85), ('228351', 82), ('221712', 81), ('226370', 81), ('30135', 80), ('30323', 79), ('30192', 77), ('225838', 77), ('225865', 76), ('30383', 73), ('40850', 71), ('227070', 69), ('226376', 68), ('228363', 67), ('225890', 67), ('30186', 67), ('225937', 66), ('225848', 64), ('30365', 62), ('223261', 61), ('225908', 58), ('30353', 57), ('30189', 56), ('30067', 55), ('30052', 52), ('30384', 51), ('30370', 50), ('227532', 50), ('225840', 50), ('228359', 49), ('30239', 48), ('228383', 48), ('225174', 48), ('227691', 47), ('225898', 45), ('30339', 45), ('30314', 43), ('30014', 43), ('228003', 43), ('30348', 42), ('225929', 42), ('30130', 41), ('30402', 41), ('30004', 41), ('225873', 40), ('30375', 40), ('30111', 39), ('30148', 39), ('226051', 38), ('30184', 37), ('30350', 35), ('30312', 35), ('41101', 34), ('30180', 33), ('40549', 33), ('30063', 33), ('30214', 33), ('30098', 32), ('30134', 32), ('221319', 32), ('30057', 30), ('30177', 30), ('30146', 30), ('30237', 29), ('225844', 29), ('30169', 28), ('30116', 28), ('30326', 28), ('30151', 27), ('225914', 27), ('30170', 27), ('30201', 26), ('41583', 26), ('30002', 25), ('30341', 25), ('225862', 24), ('226877', 24), ('30356', 24), ('42639', 24), ('225148', 24), ('30203', 23), ('225903', 23), ('225876', 23), ('30349', 22), ('225156', 22), ('30185', 22), ('30319', 22), ('40281', 22), ('41183', 22), ('221207', 22), ('46284', 21), ('41491', 20), ('40450', 20), ('226050', 20), ('30334', 20), ('30087', 20), ('30374', 20), ('226047', 19), ('43381', 19), ('40385', 18), ('225173', 18), ('30305', 18), ('225801', 18), ('222318', 18), ('30306', 18), ('43366', 18), ('226046', 17), ('30282', 17), ('30340', 17), ('40865', 17), ('30011', 17), ('30044', 17), ('30351', 16), ('41430', 16), ('46006', 16), ('41122', 16), ('30017', 16), ('30322', 16), ('226377', 16), ('30129', 16), ('226048', 15), ('30070', 15), ('40864', 15), ('30202', 15), ('227692', 15), ('225167', 14), ('227528', 14), ('30161', 14), ('227072', 14), ('30109', 14), ('227973', 14), ('40872', 14), ('30022', 14), ('40700', 13), ('30176', 13), ('46052', 13), ('40863', 13), ('41938', 12), ('30283', 12), ('44008', 12), ('46417', 12), ('40635', 12), ('44486', 12), ('30174', 12), ('225157', 11), ('41353', 11), ('45606', 11), ('227524', 11), ('42382', 11), ('30395', 10), ('30113', 10), ('227534', 10), ('30344', 10), ('30385', 10), ('46015', 10), ('30093', 10), ('30310', 10), ('226031', 10), ('42691', 10), ('222151', 10), ('41084', 10), ('40283', 10), ('30399', 10), ('30398', 9), ('30386', 9), ('30381', 9), ('44162', 9), ('30343', 9), ('228131', 9), ('221689', 9), ('30171', 9), ('226882', 9), ('30036', 9), ('41382', 9), ('30338', 9), ('228341', 9), ('40726', 9), ('30401', 9), ('41902', 9), ('42146', 9), ('46008', 9), ('44107', 8), ('30204', 8), ('45999', 8), ('45473', 8), ('40778', 8), ('41848', 8), ('41905', 8), ('227518', 8), ('41531', 8), ('228140', 8), ('221733', 8), ('43423', 8), ('30082', 8), ('45981', 8), ('226016', 8), ('30080', 8), ('42282', 8), ('225795', 8), ('42125', 7), ('41372', 7), ('30195', 7), ('41490', 7), ('227071', 7), ('44849', 7), ('30046', 7), ('30394', 7), ('41984', 7), ('30081', 7), ('41642', 7), ('30249', 7), ('41915', 7), ('42204', 7), ('226019', 7), ('30346', 7), ('41193', 7), ('45998', 7), ('30040', 7), ('30175', 7), ('227974', 7), ('42548', 7), ('46101', 7), ('42782', 6), ('42058', 6), ('45391', 6), ('30085', 6), ('42665', 6), ('41620', 6), ('45381', 6), ('46019', 6), ('45685', 6), ('45984', 6), ('45197', 6), ('45961', 6), ('41632', 6), ('30003', 6), ('30345', 6), ('45662', 6), ('30213', 6), ('30367', 6), ('41092', 6), ('44102', 6), ('41234', 6), ('46046', 6), ('45684', 6), ('40780', 6), ('221892', 6), ('44323', 6), ('45990', 6), ('30097', 6), ('227696', 6), ('30342', 6), ('226030', 6), ('44553', 6), ('43619', 6), ('42297', 6), ('42488', 6), ('45370', 6), ('43229', 6), ('46155', 6), ('45719', 6), ('45475', 5), ('30062', 5), ('46009', 5), ('41408', 5), ('225915', 5), ('41846', 5), ('40552', 5), ('30092', 5), ('30315', 5), ('41906', 5), ('226039', 5), ('44711', 5), ('30277', 5), ('30205', 5), ('44160', 5), ('44223', 5), ('41439', 5), ('43141', 5), ('46516', 5), ('45681', 5), ('30295', 5), ('45502', 5), ('222037', 5), ('41710', 5), ('45986', 5), ('44441', 5), ('45600', 5), ('45302', 5), ('41322', 5), ('41368', 5), ('40550', 5), ('30232', 5), ('42876', 5), ('41067', 5), ('41415', 5), ('45988', 5), ('30181', 5), ('225871', 5), ('42453', 5), ('45445', 5), ('225877', 5), ('40030', 5), ('42999', 5), ('30320', 5), ('44528', 4), ('226027', 4), ('44200', 4), ('226022', 4), ('221261', 4), ('40963', 4), ('43586', 4), ('46280', 4), ('40691', 4), ('45392', 4), ('42173', 4), ('40976', 4), ('226045', 4), ('45987', 4), ('45808', 4), ('42044', 4), ('45744', 4), ('30243', 4), ('40424', 4), ('45459', 4), ('44585', 4), ('44769', 4), ('44379', 4), ('43778', 4), ('46298', 4), ('226059', 4), ('41001', 4), ('42913', 4), ('46045', 4), ('43332', 4), ('30362', 4), ('30329', 4), ('42734', 4), ('225868', 4), ('226023', 4), ('45406', 4), ('44518', 4), ('42311', 4), ('30238', 4), ('41788', 4), ('225886', 4), ('43677', 4), ('42322', 4), ('45725', 4), ('30396', 4), ('45403', 4), ('42176', 4), ('45399', 4), ('43979', 4), ('30254', 4), ('46547', 4), ('46549', 4), ('41371', 4), ('42007', 4), ('46042', 4), ('42372', 4), ('42187', 4), ('222190', 4), ('45354', 4), ('41028', 4), ('44265', 4), ('41086', 4), ('42063', 4), ('30291', 4), ('43683', 4), ('30271', 4), ('30378', 4), ('44602', 4), ('44861', 4), ('43228', 4), ('30309', 4), ('43632', 4), ('44527', 4), ('45683', 4), ('42575', 4), ('44367', 3), ('41162', 3), ('42459', 3), ('46179', 3), ('45759', 3), ('43526', 3), ('41704', 3), ('42836', 3), ('41508', 3), ('46023', 3), ('44492', 3), ('45903', 3), ('43910', 3), ('42217', 3), ('42815', 3), ('42940', 3), ('40596', 3), ('42663', 3), ('41765', 3), ('42127', 3), ('41093', 3), ('44270', 3), ('46076', 3), ('44287', 3), ('45597', 3), ('43230', 3), ('45047', 3), ('45448', 3), ('41726', 3), ('40611', 3), ('44184', 3), ('44094', 3), ('221342', 3), ('226049', 3), ('44642', 3), ('45768', 3), ('43689', 3), ('40595', 3), ('42102', 3), ('226017', 3), ('227699', 3), ('42770', 3), ('40801', 3), ('41646', 3), ('42047', 3), ('43774', 3), ('42380', 3), ('30287', 3), ('40794', 3), ('41579', 3), ('40907', 3), ('226036', 3), ('42864', 3), ('30392', 3), ('42325', 3), ('41651', 3), ('45678', 3), ('42307', 3), ('43986', 3), ('45720', 3), ('44855', 3), ('45151', 3), ('45434', 3), ('45483', 3), ('227698', 3), ('45515', 3), ('44289', 3), ('225994', 3), ('42308', 3), ('44779', 3), ('42240', 3), ('30377', 3), ('46493', 3), ('41410', 3), ('41413', 3), ('30361', 3), ('42692', 3), ('42306', 3), ('43747', 3), ('42599', 3), ('226038', 3), ('42361', 3), ('45384', 3), ('45964', 3), ('45982', 3), ('46653', 3), ('42628', 3), ('42785', 3), ('45680', 3), ('43921', 3), ('41220', 3), ('41568', 3), ('44430', 3), ('44000', 3), ('44311', 3), ('45569', 3), ('43235', 3), ('43590', 3), ('42329', 3), ('42698', 3), ('225895', 3), ('42031', 3), ('41582', 3), ('44511', 3), ('43974', 3), ('44294', 3), ('44675', 3), ('226044', 3), ('30024', 3), ('41356', 3), ('42429', 3), ('45458', 3), ('45183', 2), ('41303', 2), ('42052', 2), ('30328', 2), ('45596', 2), ('45450', 2), ('41956', 2), ('41219', 2), ('41743', 2), ('42504', 2), ('46065', 2), ('42894', 2), ('41621', 2), ('42924', 2), ('41187', 2), ('42363', 2), ('44053', 2), ('42343', 2), ('45657', 2), ('44089', 2), ('41676', 2), ('44722', 2), ('45755', 2), ('43108', 2), ('44212', 2), ('44780', 2), ('45451', 2), ('45349', 2), ('43656', 2), ('42589', 2), ('41853', 2), ('43719', 2), ('42944', 2), ('44648', 2), ('40803', 2), ('45143', 2), ('226881', 2), ('44172', 2), ('44204', 2), ('46212', 2), ('46005', 2), ('44889', 2), ('46223', 2), ('44031', 2), ('44472', 2), ('44415', 2), ('42655', 2), ('41702', 2), ('43903', 2), ('44127', 2), ('42610', 2), ('44386', 2), ('42805', 2), ('42353', 2), ('44420', 2), ('42980', 2), ('42126', 2), ('43520', 2), ('46422', 2), ('226024', 2), ('44354', 2), ('42381', 2), ('41773', 2), ('45531', 2), ('45154', 2), ('43902', 2), ('42469', 2), ('45997', 2), ('44167', 2), ('42242', 2), ('46389', 2), ('43772', 2), ('46263', 2), ('41777', 2), ('45037', 2), ('45691', 2), ('42249', 2), ('42743', 2), ('41968', 2), ('45722', 2), ('43168', 2), ('42784', 2), ('45579', 2), ('40699', 2), ('44609', 2), ('43438', 2), ('44306', 2), ('44757', 2), ('44488', 2), ('46051', 2), ('30389', 2), ('43649', 2), ('45612', 2), ('42821', 2), ('46181', 2), ('46691', 2), ('44016', 2), ('46293', 2), ('45290', 2), ('45401', 2), ('41561', 2), ('45946', 2), ('45516', 2), ('40535', 2), ('44339', 2), ('43107', 2), ('44521', 2), ('42844', 2), ('42038', 2), ('45474', 2), ('44442', 2), ('43548', 2), ('44329', 2), ('43994', 2), ('44394', 2), ('30074', 2), ('226058', 2), ('44419', 2), ('45094', 2), ('43839', 2), ('42645', 2), ('45937', 2), ('44590', 2), ('42110', 2), ('40583', 2), ('41409', 2), ('43929', 2), ('228132', 2), ('46291', 2), ('42526', 2), ('46358', 2), ('44023', 2), ('45511', 2), ('228348', 2), ('44425', 2), ('43990', 2), ('44631', 2), ('42136', 2), ('43346', 2), ('46570', 2), ('46197', 2), ('44949', 2), ('46192', 2), ('44804', 2), ('42490', 2), ('42224', 2), ('42468', 2), ('43704', 2), ('42292', 2), ('41823', 2), ('30083', 2), ('45633', 2), ('46106', 2), ('42188', 2), ('42839', 2), ('44797', 2), ('40548', 2), ('226028', 2), ('30316', 2), ('41389', 2), ('45330', 2), ('43471', 2), ('45757', 2), ('45893', 2), ('41810', 2), ('42725', 2), ('45689', 2), ('41518', 2), ('42221', 2), ('42117', 2), ('42985', 2), ('45542', 2), ('42697', 2), ('43631', 2), ('40777', 2), ('46554', 2), ('45382', 2), ('45699', 2), ('45287', 2), ('228142', 2), ('40452', 2), ('43472', 2), ('42234', 2), ('45184', 2), ('42768', 2), ('45756', 2), ('43049', 2), ('46075', 2), ('44381', 2), ('45646', 2), ('44056', 2), ('45935', 2), ('40423', 2), ('43418', 2), ('41859', 2), ('228134', 2), ('40953', 2), ('45400', 2), ('42521', 2), ('46036', 2), ('44741', 2), ('42848', 2), ('42451', 2), ('42030', 2), ('45928', 2), ('41609', 2), ('40908', 2), ('43869', 2), ('45599', 2), ('44440', 2), ('225889', 2), ('46498', 2), ('43901', 2), ('45488', 2), ('41076', 2), ('40833', 2), ('42414', 2), ('43661', 2), ('45003', 2), ('41759', 2), ('30405', 2), ('42947', 2), ('45455', 2), ('42090', 2), ('42658', 2), ('45169', 2), ('46511', 2), ('42613', 2), ('44424', 2), ('40788', 2), ('41916', 2), ('43426', 2), ('46632', 2), ('41865', 2), ('44960', 2), ('43708', 2), ('30248', 2), ('44088', 2), ('40749', 2), ('43746', 2), ('42994', 2), ('45492', 2), ('45179', 2), ('45724', 2), ('225996', 2), ('45580', 2), ('42230', 2), ('45275', 2), ('41216', 2), ('40880', 2), ('45214', 2), ('45802', 2), ('45125', 2), ('45771', 2), ('45803', 2), ('44407', 2), ('41390', 2), ('43750', 2), ('40327', 2), ('46391', 1), ('42621', 1), ('45941', 1), ('42457', 1), ('42049', 1), ('43616', 1), ('44044', 1), ('42478', 1), ('46659', 1), ('45906', 1), ('44092', 1), ('46487', 1), ('45092', 1), ('41431', 1), ('46560', 1), ('44331', 1), ('44842', 1), ('44220', 1), ('46445', 1), ('41383', 1), ('46260', 1), ('43322', 1), ('46534', 1), ('45482', 1), ('45027', 1), ('42978', 1), ('30153', 1), ('40702', 1), ('46553', 1), ('46272', 1), ('44427', 1), ('43939', 1), ('45716', 1), ('45321', 1), ('41392', 1), ('43622', 1), ('42275', 1), ('45710', 1), ('41662', 1), ('44355', 1), ('46660', 1), ('44255', 1), ('46591', 1), ('44458', 1), ('45520', 1), ('41787', 1), ('41448', 1), ('43505', 1), ('46281', 1), ('46689', 1), ('45080', 1), ('44525', 1), ('46266', 1), ('42654', 1), ('46383', 1), ('40033', 1), ('42137', 1), ('45010', 1), ('44916', 1), ('45577', 1), ('46400', 1), ('42607', 1), ('44981', 1), ('227978', 1), ('45614', 1), ('44919', 1), ('41447', 1), ('41065', 1), ('45425', 1), ('46339', 1), ('45104', 1), ('42401', 1), ('43768', 1), ('46528', 1), ('44893', 1), ('41077', 1), ('45921', 1), ('44510', 1), ('44495', 1), ('42474', 1), ('40832', 1), ('46127', 1), ('45957', 1), ('42567', 1), ('40902', 1), ('46490', 1), ('42447', 1), ('41958', 1), ('45695', 1), ('46087', 1), ('42640', 1), ('44964', 1), ('42231', 1), ('46773', 1), ('43233', 1), ('44515', 1), ('44905', 1), ('41963', 1), ('42310', 1), ('45218', 1), ('42862', 1), ('41855', 1), ('42142', 1), ('46447', 1), ('43113', 1), ('46149', 1), ('43593', 1), ('41524', 1), ('42171', 1), ('46233', 1), ('43819', 1), ('44188', 1), ('46320', 1), ('45848', 1), ('46481', 1), ('45985', 1), ('44907', 1), ('43583', 1), ('42193', 1), ('44725', 1), ('43733', 1), ('43712', 1), ('46612', 1), ('45457', 1), ('42671', 1), ('225995', 1), ('45521', 1), ('46090', 1), ('41761', 1), ('43882', 1), ('45449', 1), ('42168', 1), ('40750', 1), ('43013', 1), ('45783', 1), ('43424', 1), ('226020', 1), ('44908', 1), ('43018', 1), ('44001', 1), ('43726', 1), ('45348', 1), ('44129', 1), ('42335', 1), ('43092', 1), ('46706', 1), ('44862', 1), ('43904', 1), ('46054', 1), ('46097', 1), ('43942', 1), ('46124', 1), ('42612', 1), ('41450', 1), ('45656', 1), ('43086', 1), ('46016', 1), ('46095', 1), ('44815', 1), ('46369', 1), ('41351', 1), ('42538', 1), ('42708', 1), ('46148', 1), ('45870', 1), ('46176', 1), ('46364', 1), ('44625', 1), ('46353', 1), ('40812', 1), ('46477', 1), ('44477', 1), ('46611', 1), ('44165', 1), ('46497', 1), ('40802', 1), ('46385', 1), ('45297', 1), ('44953', 1), ('44698', 1), ('44844', 1), ('40506', 1), ('45565', 1), ('45563', 1), ('44972', 1), ('44766', 1), ('43134', 1), ('41100', 1), ('44878', 1), ('44246', 1), ('42206', 1), ('42941', 1), ('45036', 1), ('45353', 1), ('42886', 1), ('42756', 1), ('45378', 1), ('45878', 1), ('46461', 1), ('46562', 1), ('45228', 1), ('44791', 1), ('46154', 1), ('45853', 1), ('45671', 1), ('42895', 1), ('42609', 1), ('42699', 1), ('45897', 1), ('44787', 1), ('43739', 1), ('44319', 1), ('45373', 1), ('45052', 1), ('44979', 1), ('42647', 1), ('45917', 1), ('44774', 1), ('46780', 1), ('43137', 1), ('45951', 1), ('42965', 1), ('46792', 1), ('45217', 1), ('44489', 1), ('46359', 1), ('42704', 1), ('42040', 1), ('42705', 1), ('44459', 1), ('42927', 1), ('46276', 1), ('46205', 1), ('44938', 1), ('41757', 1), ('41555', 1), ('45701', 1), ('40889', 1), ('42735', 1), ('46521', 1), ('46451', 1), ('45737', 1), ('46138', 1), ('43507', 1), ('45486', 1), ('46341', 1), ('44798', 1), ('45635', 1), ('45453', 1), ('42588', 1), ('42660', 1), ('43469', 1), ('43037', 1), ('44761', 1), ('44346', 1), ('46774', 1), ('46027', 1), ('43406', 1), ('44096', 1), ('44390', 1), ('45576', 1), ('46107', 1), ('44568', 1), ('45541', 1), ('41951', 1), ('45058', 1), ('44168', 1), ('41549', 1), ('45649', 1), ('45363', 1), ('44820', 1), ('45782', 1), ('42714', 1), ('42737', 1), ('40796', 1), ('42608', 1), ('46110', 1), ('42418', 1), ('46081', 1), ('44426', 1), ('41824', 1), ('43050', 1), ('46501', 1), ('45887', 1), ('44480', 1), ('46250', 1), ('41066', 1), ('46367', 1), ('41580', 1), ('44991', 1), ('45107', 1), ('42722', 1), ('45747', 1), ('43648', 1), ('44998', 1), ('40873', 1), ('42150', 1), ('45770', 1), ('42515', 1), ('45916', 1), ('45140', 1), ('43766', 1), ('43059', 1), ('44391', 1), ('45827', 1), ('45101', 1), ('45029', 1), ('44105', 1), ('40402', 1), ('46194', 1), ('46431', 1), ('46346', 1), ('45913', 1), ('44759', 1), ('45318', 1), ('46203', 1), ('45818', 1), ('41147', 1), ('43465', 1), ('46791', 1), ('45694', 1), ('42790', 1), ('46239', 1), ('42531', 1), ('45046', 1), ('44881', 1), ('42827', 1), ('43009', 1), ('45195', 1), ('41174', 1), ('45075', 1), ('41355', 1), ('44819', 1), ('45847', 1), ('43010', 1), ('45949', 1), ('45223', 1), ('46566', 1), ('41654', 1), ('46433', 1), ('43321', 1), ('43553', 1), ('44924', 1), ('41739', 1), ('42777', 1), ('45801', 1), ('46305', 1), ('45539', 1), ('43971', 1), ('44318', 1), ('41581', 1), ('30388', 1), ('44838', 1), ('45276', 1), ('40676', 1), ('41711', 1), ('46442', 1), ('46486', 1), ('46803', 1), ('44166', 1), ('45868', 1), ('45593', 1), ('42166', 1), ('43514', 1), ('45907', 1), ('42529', 1), ('45751', 1), ('43083', 1), ('45300', 1), ('42370', 1), ('42799', 1), ('46123', 1), ('43136', 1), ('42711', 1), ('42771', 1), ('43367', 1), ('44713', 1), ('44145', 1), ('41517', 1), ('43542', 1), ('40903', 1), ('43962', 1), ('45312', 1), ('41428', 1), ('46495', 1), ('46249', 1), ('44826', 1), ('42527', 1), ('41445', 1), ('42115', 1), ('42971', 1), ('46235', 1), ('45586', 1), ('41373', 1), ('42494', 1), ('45454', 1), ('46351', 1), ('42830', 1), ('44575', 1), ('43506', 1), ('42740', 1), ('46114', 1), ('43002', 1), ('46795', 1), ('42326', 1), ('44303', 1), ('40581', 1), ('44712', 1), ('43493', 1), ('40582', 1), ('43972', 1), ('44576', 1), ('43432', 1), ('45730', 1), ('46328', 1), ('45510', 1), ('41740', 1), ('42914', 1), ('46439', 1), ('46161', 1), ('43930', 1), ('45504', 1), ('40795', 1), ('46682', 1), ('44770', 1), ('41550', 1), ('45380', 1), ('46753', 1), ('42059', 1), ('42587', 1), ('45478', 1), ('40667', 1), ('42875', 1), ('45432', 1), ('43387', 1), ('41845', 1), ('42172', 1), ('41352', 1), ('41841', 1), ('42470', 1), ('43540', 1), ('46039', 1), ('46797', 1), ('40646', 1), ('46150', 1), ('42938', 1), ('44276', 1), ('43799', 1), ('44141', 1), ('44473', 1), ('46292', 1), ('45682', 1), ('41186', 1), ('46685', 1), ('42428', 1), ('44385', 1), ('44499', 1), ('44504', 1), ('43394', 1), ('45409', 1), ('45774', 1), ('42713', 1), ('42769', 1), ('41774', 1), ('42729', 1), ('46227', 1), ('44817', 1), ('46012', 1), ('42407', 1), ('45522', 1), ('46500', 1), ('46397', 1), ('45279', 1), ('42661', 1), ('46546', 1), ('43476', 1), ('45172', 1), ('46509', 1), ('43773', 1), ('44796', 1), ('46633', 1), ('41856', 1), ('45905', 1), ('44362', 1), ('42197', 1), ('44478', 1), ('45625', 1), ('46207', 1), ('41354', 1), ('46530', 1), ('40533', 1), ('44555', 1), ('46043', 1), ('45692', 1), ('44647', 1), ('46047', 1), ('42296', 1), ('42581', 1), ('44487', 1), ('45031', 1), ('44742', 1), ('44466', 1), ('45161', 1), ('46729', 1), ('45038', 1), ('46245', 1), ('45544', 1), ('45936', 1), ('43571', 1), ('41387', 1), ('45535', 1), ('45980', 1), ('44800', 1), ('46670', 1), ('40894', 1), ('42175', 1), ('44021', 1), ('45273', 1), ('45244', 1), ('44534', 1), ('46467', 1), ('44936', 1), ('45335', 1), ('43597', 1), ('45781', 1), ('45465', 1), ('45347', 1), ('41537', 1), ('43485', 1), ('44467', 1), ('44864', 1), ('45508', 1), ('44887', 1), ('41653', 1), ('46344', 1), ('46200', 1), ('46336', 1), ('46785', 1), ('42656', 1), ('44678', 1), ('40712', 1), ('45919', 1), ('46360', 1), ('42118', 1), ('42564', 1), ('45139', 1), ('41275', 1), ('40866', 1), ('42477', 1), ('42383', 1), ('45023', 1), ('45723', 1), ('44471', 1), ('46772', 1), ('30139', 1), ('30253', 1), ('30147', 1), ('46577', 1), ('45109', 1), ('46386', 1), ('42207', 1), ('46484', 1), ('46529', 1), ('46156', 1), ('45233', 1), ('44358', 1), ('42422', 1), ('44507', 1), ('45232', 1), ('42630', 1), ('30255', 1), ('44835', 1), ('46068', 1), ('43647', 1), ('228141', 1), ('42528', 1), ('42455', 1), ('42856', 1), ('45238', 1), ('43745', 1), ('46488', 1), ('45931', 1), ('225993', 1), ('44344', 1), ('46790', 1), ('45416', 1), ('42084', 1), ('45379', 1), ('44464', 1), ('46569', 1), ('45339', 1), ('45001', 1), ('43407', 1), ('45714', 1), ('43319', 1), ('41526', 1), ('46635', 1), ('45051', 1), ('45072', 1), ('43056', 1), ('42424', 1), ('40713', 1), ('45470', 1), ('30212', 1), ('43877', 1), ('43727', 1), ('46708', 1), ('42812', 1), ('46112', 1), ('46482', 1), ('42900', 1), ('44110', 1), ('41941', 1), ('40955', 1), ('41789', 1), ('41828', 1), ('41714', 1), ('41799', 1), ('45033', 1), ('46025', 1), ('44483', 1), ('42731', 1), ('42693', 1), ('30380', 1), ('42149', 1), ('46677', 1), ('46588', 1), ('45652', 1), ('44131', 1), ('42452', 1), ('45843', 1), ('45738', 1), ('45467', 1), ('46674', 1), ('41466', 1), ('44848', 1), ('45012', 1), ('41425', 1), ('44164', 1), ('45965', 1), ('41388', 1), ('46465', 1), ('45402', 1), ('44421', 1), ('46357', 1), ('46216', 1), ('44836', 1), ('44169', 1), ('40505', 1), ('41182', 1), ('42925', 1), ('44048', 1), ('45571', 1), ('46349', 1), ('30372', 1), ('42606', 1), ('43516', 1), ('44465', 1), ('41825', 1), ('42689', 1), ('46694', 1), ('46171', 1), ('44832', 1), ('41467', 1), ('46238', 1), ('45708', 1), ('46086', 1), ('42395', 1), ('42232', 1), ('44263', 1), ('46805', 1), ('41627', 1), ('40895', 1), ('46297', 1), ('44370', 1), ('44042', 1), ('45091', 1), ('45967', 1), ('45674', 1), ('42802', 1), ('43950', 1), ('45904', 1), ('46140', 1), ('42707', 1), ('43999', 1), ('43983', 1), ('46252', 1), ('44776', 1), ('44579', 1), ('45573', 1), ('46003', 1), ('43701', 1), ('42939', 1), ('46067', 1), ('45442', 1), ('45376', 1), ('45322', 1), ('46271', 1), ('42430', 1), ('45334', 1), ('42216', 1), ('45385', 1), ('42879', 1), ('45690', 1), ('44765', 1), ('44703', 1), ('45360', 1), ('42849', 1), ('42995', 1), ('41201', 1), ('41791', 1), ('42235', 1), ('44584', 1), ('42309', 1), ('45308', 1), ('46088', 1), ('43709', 1), ('46730', 1), ('45842', 1), ('42162', 1), ('44163', 1), ('42967', 1), ('45669', 1), ('43874', 1), ('43439', 1), ('45298', 1), ('41779', 1), ('41827', 1), ('42590', 1), ('43475', 1), ('43993', 1), ('45034', 1), ('45323', 1), ('44218', 1), ('46731', 1), ('45343', 1), ('43061', 1), ('41744', 1), ('40531', 1), ('45955', 1), ('46384', 1), ('42205', 1), ('46609', 1), ('45180', 1), ('45115', 1), ('44494', 1), ('45833', 1), ('46126', 1), ('43700', 1), ('43237', 1), ('45404', 1), ('45754', 1), ('45358', 1), ('46116', 1), ('46514', 1), ('43767', 1), ('44155', 1), ('45735', 1), ('42089', 1), ('42778', 1), ('44645', 1), ('45020', 1), ('43663', 1), ('45731', 1), ('46113', 1), ('45130', 1), ('42669', 1), ('46153', 1), ('42901', 1), ('45514', 1), ('43031', 1), ('41851', 1), ('44987', 1), ('42631', 1), ('46800', 1), ('43728', 1), ('41525', 1), ('46543', 1), ('42565', 1), ('40532', 1), ('43170', 1), ('46418', 1), ('46592', 1), ('42716', 1), ('45572', 1), ('40725', 1), ('43977', 1), ('46455', 1), ('225896', 1), ('45491', 1), ('46074', 1), ('42832', 1), ('46429', 1), ('45892', 1), ('41669', 1), ('43699', 1), ('45097', 1), ('40958', 1), ('43867', 1), ('44045', 1), ('44106', 1), ('44537', 1), ('43777', 1), ('42174', 1), ('44009', 1), ('41111', 1), ('42710', 1), ('228364', 1), ('46606', 1), ('42091', 1), ('46565', 1), ('42462', 1), ('42135', 1), ('46066', 1), ('43131', 1), ('42825', 1), ('43924', 1), ('43775', 1), ('46117', 1), ('46443', 1), ('45074', 1), ('45480', 1), ('45677', 1), ('45249', 1), ('30247', 1), ('43541', 1), ('46595', 1), ('45532', 1), ('46246', 1), ('30084', 1), ('46170', 1), ('43395', 1), ('43952', 1), ('43118', 1), ('45942', 1), ('45153', 1), ('45495', 1), ('43241', 1), ('44918', 1), ('45700', 1), ('42491', 1), ('45506', 1), ('40579', 1), ('42298', 1), ('44799', 1), ('46053', 1), ('42702', 1), ('42265', 1), ('43636', 1), ('42106', 1), ('45972', 1), ('46550', 1), ('44874', 1), ('45059', 1), ('46476', 1), ('45431', 1), ('42896', 1), ('46165', 1), ('45207', 1), ('40636', 1), ('42458', 1), ('42826', 1), ('45686', 1), ('46061', 1), ('43122', 1), ('45785', 1), ('44932', 1), ('42180', 1), ('46300', 1), ('42285', 1), ('45394', 1), ('46056', 1), ('43886', 1), ('40449', 1), ('46393', 1), ('46004', 1), ('44658', 1), ('45922', 1), ('43090', 1), ('43936', 1), ('42336', 1), ('45889', 1), ('42673', 1), ('45909', 1), ('46343', 1), ('42061', 1), ('44470', 1), ('45239', 1), ('41706', 1), ('44638', 1), ('43070', 1), ('44041', 1), ('45211', 1), ('45407', 1), ('43864', 1), ('46033', 1), ('43135', 1), ('46644', 1), ('42820', 1), ('46337', 1), ('44369', 1), ('44763', 1), ('41797', 1), ('46778', 1), ('43403', 1), ('41164', 1), ('45623', 1), ('30373', 1), ('42245', 1), ('42736', 1), ('42996', 1), ('42286', 1), ('45926', 1), ('46798', 1), ('46491', 1), ('46299', 1), ('43020', 1), ('46681', 1), ('45752', 1), ('46063', 1), ('43051', 1), ('41189', 1), ('42990', 1), ('46159', 1), ('46462', 1), ('46598', 1), ('228361', 1), ('42513', 1), ('42295', 1), ('44805', 1), ('42484', 1), ('45289', 1), ('44762', 1), ('43825', 1), ('46089', 1), ('45396', 1), ('42051', 1), ('42993', 1), ('44737', 1), ('45201', 1), ('44614', 1), ('43861', 1), ('42076', 1), ('44683', 1), ('46317', 1), ('46608', 1), ('44343', 1), ('42215', 1), ('42742', 1), ('44091', 1), ('42402', 1), ('41962', 1), ('42730', 1), ('44310', 1), ('46776', 1), ('46323', 1), ('46641', 1), ('45807', 1), ('45002', 1), ('226026', 1), ('45016', 1), ('44217', 1), ('44793', 1), ('45268', 1), ('46747', 1), ('42154', 1), ('43091', 1), ('46302', 1), ('41485', 1), ('45032', 1), ('45717', 1), ('44827', 1), ('44277', 1), ('46262', 1), ('41746', 1), ('42931', 1), ('43112', 1), ('45872', 1), ('45359', 1), ('45364', 1), ('42908', 1), ('41792', 1), ('41591', 1), ('45146', 1), ('46390', 1), ('43364', 1), ('44633', 1), ('45647', 1), ('46319', 1), ('45767', 1), ('45472', 1), ('45673', 1), ('45149', 1), ('43982', 1), ('42100', 1), ('42675', 1), ('43242', 1), ('45265', 1), ('42563', 1), ('46472', 1), ('42404', 1), ('44156', 1), ('42074', 1), ('45021', 1), ('46406', 1), ('40744', 1), ('45839', 1), ('46077', 1), ('44150', 1), ('45126', 1), ('41752', 1), ('42917', 1), ('46434', 1), ('46277', 1), ('46572', 1), ('42251', 1), ('42981', 1), ('42709', 1), ('43097', 1), ('43875', 1), ('44020', 1), ('46492', 1), ('44036', 1), ('45336', 1), ('41732', 1), ('41459', 1), ('46228', 1), ('43073', 1), ('44366', 1), ('44070', 1), ('40957', 1), ('44994', 1), ('45132', 1), ('45170', 1), ('42471', 1), ('45208', 1), ('42679', 1), ('41850', 1), ('45176', 1), ('41000', 1), ('42099', 1), ('46624', 1), ('41597', 1), ('46007', 1), ('41643', 1), ('42573', 1), ('45727', 1), ('46133', 1), ('44324', 1), ('46152', 1), ('46599', 1), ('45253', 1), ('41446', 1), ('45331', 1), ('45764', 1), ('46693', 1), ('42060', 1), ('46680', 1), ('45894', 1), ('42243', 1), ('41807', 1), ('45761', 1), ('45592', 1), ('42811', 1), ('44863', 1), ('42483', 1), ('45891', 1), ('44523', 1), ('44912', 1), ('45446', 1), ('45372', 1), ('46048', 1), ('46301', 1), ('42439', 1), ('45137', 1), ('46669', 1), ('43572', 1), ('42841', 1), ('45320', 1), ('45736', 1), ('44728', 1), ('45499', 1), ('41048', 1), ('41760', 1), ('45500', 1), ('40468', 1), ('42976', 1), ('44544', 1), ('45963', 1), ('45325', 1), ('40504', 1), ('41083', 1), ('46540', 1), ('44873', 1), ('44037', 1), ('41835', 1), ('46441', 1), ('42614', 1), ('40598', 1), ('42082', 1), ('46354', 1), ('42185', 1), ('45609', 1), ('46440', 1), ('45575', 1), ('46312', 1), ('42266', 1), ('43725', 1), ('45476', 1), ('42299', 1), ('227370', 1), ('42288', 1), ('46244', 1), ('46209', 1), ('42920', 1), ('43547', 1), ('46313', 1), ('42384', 1), ('44582', 1), ('46100', 1), ('45108', 1), ('46603', 1), ('46261', 1), ('41981', 1), ('44219', 1), ('45352', 1), ('42250', 1), ('44508', 1), ('44668', 1), ('46499', 1), ('46355', 1), ('46103', 1), ('43017', 1), ('40489', 1), ('46151', 1), ('41689', 1), ('45292', 1), ('45225', 1), ('45053', 1), ('45452', 1), ('45393', 1), ('42241', 1), ('30034', 1), ('45978', 1), ('45519', 1), ('43497', 1), ('43370', 1), ('46438', 1), ('46158', 1), ('44010', 1), ('44439', 1), ('46038', 1), ('46166', 1), ('46561', 1), ('45809', 1), ('42194', 1), ('43169', 1), ('45746', 1), ('44240', 1), ('42186', 1), ('45428', 1), ('45648', 1), ('228356', 1), ('44414', 1), ('45939', 1), ('46294', 1), ('45216', 1), ('43356', 1), ('46771', 1), ('45923', 1), ('46699', 1), ('45643', 1), ('42281', 1), ('42369', 1), ('44179', 1), ('40998', 1), ('46356', 1), ('44484', 1), ('43021', 1), ('46014', 1), ('45045', 1), ('46407', 1), ('46736', 1), ('46749', 1), ('46413', 1), ('42238', 1), ('44963', 1), ('45048', 1), ('46338', 1), ('44823', 1), ('44431', 1), ('42755', 1), ('44413', 1), ('44279', 1), ('46692', 1), ('46139', 1), ('45303', 1), ('45960', 1), ('46109', 1), ('44695', 1), ('44856', 1), ('43470', 1), ('46726', 1), ('46316', 1), ('41110', 1), ('44983', 1), ('46411', 1), ('45966', 1), ('45775', 1), ('44376', 1), ('44870', 1), ('44059', 1), ('45424', 1), ('41089', 1), ('45610', 1), ('42373', 1), ('43234', 1), ('42641', 1), ('45410', 1), ('42791', 1), ('44049', 1), ('46725', 1), ('42053', 1), ('44971', 1), ('46010', 1), ('46318', 1), ('41457', 1), ('43969', 1), ('43353', 1), ('45901', 1), ('42489', 1), ('46031', 1), ('46275', 1), ('43852', 1), ('42926', 1), ('44050', 1), ('42865', 1), ('46160', 1), ('45157', 1), ('44927', 1), ('46342', 1), ('45119', 1), ('44825', 1), ('41063', 1), ('45819', 1), ('45374', 1), ('42979', 1), ('41087', 1), ('46651', 1), ('44570', 1), ('46515', 1), ('45943', 1), ('43041', 1), ('41380', 1), ('227976', 1), ('43240', 1), ('45155', 1), ('43132', 1), ('45938', 1), ('42408', 1), ('42813', 1), ('45286', 1), ('46420', 1), ('40964', 1), ('45414', 1), ('43461', 1), ('43466', 1), ('42246', 1), ('46157', 1), ('43508', 1), ('45628', 1), ('42087', 1), ('46236', 1), ('45128', 1), ('41427', 1), ('45383', 1), ('45513', 1), ('44937', 1), ('41896', 1), ('46769', 1), ('43664', 1), ('43039', 1), ('46013', 1), ('44123', 1), ('44990', 1), ('45168', 1), ('45621', 1), ('42758', 1), ('42493', 1), ('45498', 1), ('46115', 1), ('41895', 1), ('44125', 1), ('41556', 1), ('46258', 1), ('44469', 1), ('42888', 1), ('44822', 1), ('46458', 1), ('46783', 1), ('44601', 1), ('45369', 1), ('46617', 1), ('46217', 1), ('44962', 1), ('42887', 1), ('46366', 1), ('44305', 1), ('45427', 1), ('45131', 1), ('43425', 1), ('46256', 1), ('42814', 1), ('44894', 1), ('44190', 1), ('44312', 1), ('42792', 1), ('41163', 1), ('41460', 1), ('46634', 1), ('45777', 1), ('42570', 1), ('44047', 1), ('44038', 1), ('46247', 1), ('42291', 1), ('43047', 1), ('43109', 1), ('44897', 1), ('46522', 1), ('44361', 1), ('42440', 1), ('44578', 1), ('42646', 1), ('44723', 1), ('45466', 1), ('43998', 1), ('42786', 1), ('43232', 1), ('45171', 1), ('42495', 1), ('41492', 1), ('46120', 1), ('45310', 1), ('45718', 1), ('44224', 1), ('46308', 1), ('46404', 1), ('46221', 1), ('42503', 1), ('41693', 1), ('42623', 1), ('45589', 1), ('45644', 1), ('44952', 1), ('44057', 1), ('45598', 1), ('46243', 1), ('46206', 1), ('42878', 1), ('42203', 1), ('226875', 1), ('43707', 1), ('45096', 1), ('41864', 1), ('43140', 1), ('41218', 1), ('43810', 1), ('43872', 1), ('44616', 1), ('42337', 1), ('45540', 1), ('44519', 1), ('45979', 1), ('46254', 1), ('43720', 1), ('42492', 1), ('45734', 1), ('46536', 1), ('45274', 1), ('45387', 1), ('44043', 1), ('44628', 1), ('42793', 1), ('44702', 1), ('42284', 1), ('41176', 1), ('44175', 1), ('42801', 1), ('46122', 1), ('41068', 1), ('41677', 1), ('46363', 1), ('42323', 1), ('45676', 1), ('45709', 1), ('41742', 1), ('42923', 1), ('46172', 1), ('40929', 1), ('42668', 1), ('45950', 1), ('45375', 1), ('44900', 1), ('227091', 1), ('42406', 1), ('41391', 1), ('44460', 1), ('43889', 1), ('42955', 1), ('44635', 1), ('44830', 1), ('45780', 1), ('42374', 1), ('45481', 1), ('45430', 1), ('42618', 1), ('43928', 1), ('44632', 1), ('42364', 1), ('44446', 1), ('43014', 1), ('45186', 1), ('44986', 1), ('45663', 1), ('44783', 1), ('41697', 1), ('46585', 1), ('46700', 1), ('43713', 1), ('45983', 1), ('46084', 1), ('45497', 1), ('42898', 1), ('43678', 1), ('44100', 1), ('45886', 1), ('45236', 1), ('42025', 1), ('43639', 1), ('44387', 1), ('43657', 1), ('46333', 1), ('30300', 1), ('44498', 1), ('42721', 1), ('44302', 1), ('41575', 1), ('43320', 1), ('42568', 1), ('43515', 1), ('45241', 1), ('41668', 1), ('42706', 1), ('40989', 1), ('41652', 1), ('43532', 1), ('43488', 1), ('44615', 1), ('40692', 1), ('42779', 1), ('42360', 1), ('45959', 1), ('42534', 1), ('45776', 1), ('46448', 1), ('42902', 1), ('45881', 1), ('45632', 1), ('45566', 1), ('42334', 1), ('44242', 1), ('46707', 1), ('45762', 1), ('45567', 1), ('44852', 1), ('46548', 1), ('41451', 1), ('42522', 1), ('43036', 1), ('45876', 1), ('46175', 1), ('44950', 1), ('45350', 1), ('44335', 1), ('43088', 1), ('41014', 1), ('44999', 1), ('42223', 1), ('45397', 1), ('41217', 1), ('46085', 1), ('45469', 1), ('43997', 1), ('44117', 1), ('44784', 1), ('44435', 1), ('44451', 1), ('44554', 1), ('46111', 1), ('44377', 1), ('42385', 1), ('45854', 1), ('42845', 1), ('42079', 1), ('43674', 1), ('43776', 1), ('45191', 1), ('46697', 1), ('42932', 1), ('42562', 1), ('45721', 1), ('42728', 1), ('43444', 1), ('45388', 1), ('42763', 1), ('43457', 1), ('44033', 1), ('46430', 1), ('42942', 1), ('46083', 1), ('44330', 1), ('44699', 1), ('41688', 1), ('40586', 1), ('45969', 1), ('42757', 1), ('45206', 1), ('42416', 1), ('46222', 1), ('41416', 1), ('42783', 1), ('46754', 1), ('43076', 1), ('46777', 1), ('44341', 1), ('46167', 1), ('43855', 1), ('44529', 1), ('45543', 1), ('42202', 1), ('45288', 1), ('42580', 1), ('42389', 1), ('43865', 1), ('44751', 1), ('45772', 1), ('42723', 1), ('44076', 1), ('41493', 1), ('44437', 1), ('42762', 1), ('46567', 1), ('45882', 1), ('41701', 1), ('46596', 1), ('42045', 1), ('44772', 1), ('44627', 1), ('44479', 1), ('44264', 1), ('41557', 1), ('45390', 1), ('42112', 1), ('41237', 1), ('43880', 1), ('44111', 1), ('42566', 1), ('43354', 1), ('46174', 1), ('43555', 1), ('45784', 1), ('45826', 1), ('46229', 1), ('46410', 1), ('46668', 1), ('42050', 1), ('46011', 1), ('42858', 1), ('42161', 1), ('46421', 1), ('46602', 1), ('41429', 1), ('43813', 1), ('43693', 1), ('45041', 1), ('45945', 1), ('45319', 1), ('43838', 1), ('44583', 1), ('42975', 1), ('43973', 1), ('43089', 1), ('46574', 1), ('45902', 1), ('43923', 1), ('46802', 1), ('228133', 1), ('42409', 1), ('44580', 1), ('45185', 1), ('45885', 1), ('41179', 1), ('45856', 1), ('45471', 1), ('41367', 1), ('45203', 1), ('46273', 1), ('45668', 1), ('46340', 1), ('45162', 1), ('46457', 1), ('46720', 1), ('42949', 1), ('46684', 1), ('44743', 1), ('45057', 1), ('42358', 1), ('44965', 1), ('41741', 1), ('42134', 1), ('42857', 1), ('42732', 1), ('45584', 1), ('42664', 1), ('45875', 1), ('40585', 1), ('46789', 1), ('45773', 1), ('42233', 1), ('42027', 1), ('44902', 1), ('45377', 1), ('41381', 1), ('45900', 1), ('46758', 1), ('46508', 1), ('44206', 1), ('44850', 1), ('43125', 1), ('42638', 1), ('44326', 1), ('46267', 1), ('30207', 1), ('43599', 1), ('43951', 1), ('42177', 1), ('45313', 1), ('45314', 1), ('44547', 1), ('41610', 1), ('44503', 1), ('227977', 1), ('30256', 1), ('46392', 1), ('42277', 1), ('44630', 1), ('42448', 1), ('42998', 1), ('41458', 1), ('44871', 1), ('46600', 1), ('46683', 1), ('44573', 1), ('45507', 1), ('43487', 1), ('42365', 1), ('46688', 1), ('42259', 1), ('45134', 1), ('45728', 1), ('44608', 1), ('44516', 1), ('40952', 1), ('41246', 1), ('43740', 1), ('42855', 1), ('44634', 1), ('46432', 1), ('45395', 1), ('46104', 1), ('46765', 1), ('41808', 1), ('46069', 1), ('46423', 1), ('45810', 1), ('45163', 1), ('44559', 1), ('30230', 1), ('46041', 1), ('43798', 1), ('46781', 1), ('42739', 1), ('44118', 1), ('46163', 1), ('43759', 1), ('43866', 1), ('45159', 1), ('45908', 1), ('42088', 1), ('46639', 1), ('41619', 1), ('42897', 1), ('42244', 1), ('30333', 1), ('45490', 1), ('44345', 1), ('45443', 1), ('42561', 1), ('44423', 1), ('43826', 1), ('42833', 1), ('45444', 1), ('45821', 1), ('45745', 1), ('41780', 1), ('45659', 1), ('45896', 1), ('42041', 1), ('46559', 1), ('45634', 1), ('42989', 1), ('44976', 1), ('42657', 1), ('43509', 1), ('42375', 1), ('45189', 1), ('46078', 1), ('42024', 1), ('42352', 1), ('46679', 1), ('44789', 1), ('45177', 1), ('46518', 1), ('42749', 1), ('43584', 1), ('30397', 1), ('44591', 1), ('42413', 1), ('44833', 1), ('43765', 1), ('45200', 1), ('42506', 1), ('45930', 1), ('43757', 1), ('43909', 1), ('41538', 1), ('45732', 1), ('46686', 1), ('45947', 1), ('46589', 1), ('45237', 1), ('44667', 1), ('46214', 1), ('46717', 1), ('45362', 1), ('46017', 1), ('45958', 1), ('42062', 1), ('44438', 1), ('45173', 1), ('41694', 1), ('44607', 1), ('42577', 1), ('46361', 1), ('45880', 1), ('40551', 1), ('46524', 1), ('42804', 1), ('42954', 1), ('42715', 1), ('44109', 1), ('44517', 1), ('42745', 1), ('43473', 1), ('41721', 1), ('41188', 1), ('44679', 1), ('45294', 1), ('42359', 1), ('44383', 1), ('43238', 1), ('42514', 1), ('44101', 1), ('44560', 1), ('44396', 1), ('44399', 1), ('46625', 1), ('45820', 1), ('46517', 1), ('42423', 1), ('46064', 1), ('43521', 1), ('43900', 1), ('46352', 1), ('45779', 1), ('44653', 1), ('41745', 1), ('42866', 1), ('42948', 1), ('44207', 1), ('40503', 1), ('42064', 1), ('44139', 1), ('42387', 1), ('45282', 1), ('44697', 1), ('46311', 1), ('44917', 1), ('45160', 1), ('42831', 1), ('44404', 1), ('45293', 1), ('42933', 1), ('45103', 1), ('46687', 1), ('42345', 1), ('45574', 1), ('44738', 1), ('46750', 1), ('45371', 1), ('42481', 1), ('30379', 1), ('45398', 1), ('42039', 1), ('42574', 1), ('46251', 1), ('41307', 1), ('46590', 1), ('41622', 1), ('42724', 1), ('45004', 1), ('45165', 1), ('44203', 1), ('46762', 1), ('44116', 1), ('45346', 1), ('44688', 1), ('45948', 1), ('45944', 1), ('46494', 1), ('46714', 1), ('41432', 1), ('42301', 1), ('44980', 1), ('46162', 1), ('44115', 1), ('42192', 1), ('44966', 1), ('46436', 1), ('45769', 1), ('46698', 1), ('46690', 1), ('44760', 1), ('46332', 1), ('43008', 1), ('45934', 1), ('44876', 1), ('43139', 1), ('45713', 1), ('46322', 1), ('46671', 1), ('46582', 1), ('43032', 1), ('44603', 1), ('43080', 1), ('42211', 1), ('42764', 1), ('44244', 1), ('42026', 1), ('41709', 1), ('40404', 1), ('44122', 1), ('42959', 1), ('46470', 1), ('45220', 1), ('45989', 1), ('45050', 1), ('42391', 1), ('46538', 1), ('42648', 1), ('45641', 1), ('44491', 1), ('42028', 1), ('45315', 1), ('45630', 1), ('44749', 1), ('43077', 1), ('44130', 1), ('45564', 1), ('41733', 1), ('46314', 1), ('45311', 1), ('43823', 1), ('42213', 1), ('42269', 1), ('45962', 1), ('46654', 1), ('45830', 1), ('45329', 1), ('42274', 1), ('46226', 1), ('43440', 1), ('42956', 1), ('45661', 1), ('42899', 1), ('45355', 1), ('41695', 1), ('43598', 1), ('44621', 1), ('43033', 1), ('45156', 1), ('42324', 1), ('41814', 1), ('45503', 1), ('44077', 1), ('44128', 1), ('46483', 1), ('45534', 1), ('45226', 1), ('43940', 1), ('45748', 1), ('46597', 1), ('44948', 1), ('42108', 1), ('46594', 1), ('41175', 1), ('45305', 1), ('43044', 1), ('46105', 1), ('41611', 1), ('45035', 1), ('46032', 1), ('43062', 1), ('46211', 1), ('42680', 1), ('40632', 1), ('45953', 1), ('43763', 1), ('41771', 1), ('43147', 1), ('42109', 1), ('45079', 1), ('45447', 1), ('46665', 1), ('45224', 1), ('46296', 1), ('41121', 1), ('45629', 1), ('46412', 1), ('45940', 1), ('45389', 1), ('46427', 1), ('43357', 1), ('41798', 1), ('43588', 1), ('45595', 1), ('40954', 1), ('43063', 1), ('44877', 1), ('46173', 1), ('42512', 1), ('41520', 1), ('42915', 1), ('44954', 1), ('40752', 1), ('42239', 1), ('30391', 1), ('46460', 1), ('42921', 1), ('42396', 1), ('45271', 1), ('44915', 1), ('44500', 1), ('43126', 1), ('44934', 1), ('42342', 1), ('46453', 1), ('40471', 1), ('45164', 1), ('42116', 1), ('43883', 1), ('44126', 1), ('44885', 1), ('46662', 1), ('43539', 1), ('41532', 1), ('46428', 1), ('44098', 1), ('44777', 1), ('44447', 1), ('43975', 1), ('41747', 1), ('41461', 1), ('45213', 1), ('45426', 1), ('45013', 1), ('41064', 1), ('45386', 1), ('42916', 1), ('45608', 1), ('45024', 1), ('45429', 1), ('44552', 1), ('41983', 1), ('41516', 1), ('45133', 1), ('45423', 1), ('46248', 1), ('45537', 1), ('226021', 1), ('42273', 1), ('46636', 1), ('45433', 1), ('46094', 1), ('45660', 1), ('45150', 1), ('45766', 1), ('45693', 1), ('46169', 1), ('44011', 1), ('45687', 1), ('41474', 1), ('42480', 1), ('44397', 1), ('46593', 1), ('42797', 1), ('42163', 1), ('44202', 1), ('41002', 1), ('46618', 1), ('45954', 1), ('42935', 1), ('45326', 1), ('45743', 1), ('45667', 1), ('46196', 1), ('42415', 1), ('41094', 1), ('45765', 1), ('42208', 1), ('46610', 1), ('44696', 1), ('46643', 1), ('45187', 1), ('43957', 1), ('45627', 1), ('43835', 1), ('42065', 1), ('41449', 1), ('44182', 1), ('45317', 1), ('43845', 1), ('44795', 1), ('45956', 1), ('42674', 1), ('46419', 1), ('46093', 1), ('45587', 1), ('44144', 1), ('45230', 1), ('41913', 1), ('45871', 1), ('45588', 1), ('45114', 1), ('45863', 1), ('45182', 1), ('45675', 1), ('45912', 1), ('44818', 1), ('45688', 1), ('44054', 1), ('44112', 1), ('42629', 1), ('42438', 1), ('46040', 1), ('43087', 1), ('41194', 1), ('42554', 1), ('46218', 1), ('42083', 1), ('44292', 1), ('45838', 1), ('44610', 1), ('46026', 1), ('45787', 1), ('45073', 1), ('46264', 1), ('44505', 1), ('46002', 1), ('41712', 1), ('44945', 1), ('44690', 1), ('40645', 1), ('43474', 1), ('44061', 1), ('30332', 1), ('41357', 1), ('44605', 1), ('43023', 1), ('45270', 1), ('41776', 1), ('45166', 1), ('41358', 1), ('42344', 1), ('225991', 1), ('45505', 1), ('46564', 1), ('44673', 1), ('45741', 1), ('46362', 1), ('46496', 1), ('43764', 1), ('45090', 1), ('44539', 1), ('42456', 1), ('45640', 1), ('46630', 1), ('45929', 1), ('46583', 1), ('42576', 1), ('45333', 1), ('43081', 1), ('45915', 1), ('46387', 1), ('44064', 1), ('46057', 1), ('45865', 1), ('43744', 1), ('40743', 1), ('43007', 1), ('43829', 1), ('43038', 1), ('44526', 1), ('42596', 1), ('46770', 1), ('44236', 0), ('46265', 0), ('43055', 0), ('44297', 0), ('46330', 0)]\n",
      "input finished\n"
     ]
    },
    {
     "name": "stderr",
     "output_type": "stream",
     "text": [
      "/home/mengcz/.pyenv/versions/anaconda3-5.1.0/envs/Benchmarking_DL_MIMICIII/lib/python3.6/site-packages/ipykernel_launcher.py:10: TqdmDeprecationWarning: This function will be removed in tqdm==5.0.0\n",
      "Please use `tqdm.notebook.tqdm` instead of `tqdm.tqdm_notebook`\n",
      "  # Remove the CWD from sys.path while we load stuff.\n",
      "/home/mengcz/.pyenv/versions/anaconda3-5.1.0/envs/Benchmarking_DL_MIMICIII/lib/python3.6/site-packages/ipykernel_launcher.py:10: TqdmDeprecationWarning: This function will be removed in tqdm==5.0.0\n",
      "Please use `tqdm.notebook.tqdm` instead of `tqdm.tqdm_notebook`\n",
      "  # Remove the CWD from sys.path while we load stuff.\n",
      "/home/mengcz/.pyenv/versions/anaconda3-5.1.0/envs/Benchmarking_DL_MIMICIII/lib/python3.6/site-packages/ipykernel_launcher.py:10: TqdmDeprecationWarning: This function will be removed in tqdm==5.0.0\n",
      "Please use `tqdm.notebook.tqdm` instead of `tqdm.tqdm_notebook`\n",
      "  # Remove the CWD from sys.path while we load stuff.\n"
     ]
    },
    {
     "data": {
      "application/vnd.jupyter.widget-view+json": {
       "model_id": "96d3537a9c4b427493bd26b9e265e113",
       "version_major": 2,
       "version_minor": 0
      },
      "text/plain": [
       "HBox(children=(FloatProgress(value=0.0, max=288.0), HTML(value='')))"
      ]
     },
     "metadata": {},
     "output_type": "display_data"
    },
    {
     "data": {
      "application/vnd.jupyter.widget-view+json": {
       "model_id": "63fb80d9670044a2a639406db5268da2",
       "version_major": 2,
       "version_minor": 0
      },
      "text/plain": [
       "HBox(children=(FloatProgress(value=0.0, max=289.0), HTML(value='')))"
      ]
     },
     "metadata": {},
     "output_type": "display_data"
    },
    {
     "name": "stderr",
     "output_type": "stream",
     "text": [
      "/home/mengcz/.pyenv/versions/anaconda3-5.1.0/envs/Benchmarking_DL_MIMICIII/lib/python3.6/site-packages/ipykernel_launcher.py:10: TqdmDeprecationWarning: This function will be removed in tqdm==5.0.0\n",
      "Please use `tqdm.notebook.tqdm` instead of `tqdm.tqdm_notebook`\n",
      "  # Remove the CWD from sys.path while we load stuff.\n"
     ]
    },
    {
     "data": {
      "application/vnd.jupyter.widget-view+json": {
       "model_id": "9d5e70b68b0440319876f098ddb7f1de",
       "version_major": 2,
       "version_minor": 0
      },
      "text/plain": [
       "HBox(children=(FloatProgress(value=0.0, max=289.0), HTML(value='')))"
      ]
     },
     "metadata": {},
     "output_type": "display_data"
    },
    {
     "data": {
      "application/vnd.jupyter.widget-view+json": {
       "model_id": "c1f678c6972947a7b5a315a3e917c14b",
       "version_major": 2,
       "version_minor": 0
      },
      "text/plain": [
       "HBox(children=(FloatProgress(value=0.0, max=289.0), HTML(value='')))"
      ]
     },
     "metadata": {},
     "output_type": "display_data"
    },
    {
     "name": "stdout",
     "output_type": "stream",
     "text": [
      "\n",
      "\n",
      "\n",
      "\n",
      "[('40055', 22818), ('226559', 18632), ('40054', 10499), ('226560', 7817), ('40069', 7374), ('40059', 5250), ('226627', 5011), ('40076', 4633), ('40060', 4471), ('226633', 4303), ('40065', 4022), ('43175', 3589), ('226588', 3373), ('40052', 3365), ('40064', 3213), ('40061', 3202), ('226576', 2937), ('226626', 2920), ('227510', 2624), ('40067', 2185), ('226579', 2112), ('226575', 1974), ('40071', 1853), ('226571', 1626), ('226599', 1466), ('40286', 1118), ('226580', 997), ('40049', 983), ('40048', 958), ('227511', 954), ('40094', 899), ('226573', 687), ('40053', 671), ('40051', 647), ('226561', 610), ('40367', 599), ('226583', 593), ('40288', 586), ('40072', 566), ('43176', 561), ('40085', 560), ('226589', 549), ('226582', 515), ('227701', 479), ('40294', 467), ('226631', 466), ('226632', 411), ('226600', 405), ('43174', 381), ('40070', 370), ('226625', 339), ('226604', 319), ('226597', 307), ('40087', 297), ('40058', 284), ('226593', 282), ('41707', 277), ('226590', 276), ('227488', 276), ('226619', 274), ('226613', 266), ('40091', 265), ('227489', 263), ('226592', 250), ('226606', 245), ('40063', 243), ('40926', 241), ('43246', 227), ('40050', 226), ('226598', 222), ('40331', 221), ('40088', 213), ('40077', 201), ('40089', 196), ('226628', 185), ('40073', 182), ('40075', 177), ('41683', 177), ('226567', 174), ('40090', 172), ('40388', 164), ('226612', 150), ('40428', 147), ('40074', 134), ('40080', 128), ('226603', 127), ('40066', 125), ('40084', 110), ('226601', 106), ('40097', 101), ('40703', 101), ('40092', 91), ('40068', 86), ('40715', 84), ('226564', 82), ('40093', 81), ('226584', 81), ('226565', 81), ('43178', 80), ('41867', 76), ('226563', 75), ('226574', 73), ('226630', 73), ('40406', 66), ('40405', 65), ('40473', 65), ('40403', 65), ('41898', 64), ('41698', 61), ('226610', 61), ('40491', 61), ('40537', 60), ('226608', 60), ('40470', 59), ('40580', 59), ('40057', 59), ('40086', 55), ('226620', 55), ('40648', 51), ('40056', 49), ('226629', 49), ('226602', 42), ('226605', 42), ('40095', 42), ('226591', 41), ('43171', 39), ('42871', 39), ('226617', 39), ('40614', 38), ('43177', 37), ('226595', 33), ('40289', 33), ('40292', 33), ('226623', 31), ('40490', 31), ('226614', 31), ('40386', 30), ('40893', 29), ('40554', 29), ('40451', 27), ('40624', 25), ('41866', 23), ('40881', 23), ('42278', 23), ('42405', 22), ('43373', 22), ('40290', 18), ('226607', 18), ('40652', 17), ('40287', 16), ('40096', 16), ('41015', 15), ('40426', 14), ('41868', 13), ('42738', 13), ('41213', 13), ('40472', 13), ('226557', 12), ('40745', 12), ('226558', 12), ('43433', 12), ('41184', 12), ('40973', 12), ('41527', 11), ('226570', 11), ('42945', 11), ('40083', 11), ('41113', 10), ('40690', 10), ('40653', 10), ('42330', 10), ('40536', 9), ('42270', 9), ('41016', 8), ('42780', 8), ('40507', 8), ('40425', 8), ('40098', 7), ('42582', 7), ('40538', 7), ('43431', 7), ('43323', 7), ('41818', 7), ('226609', 7), ('43522', 7), ('42982', 7), ('43416', 7), ('226618', 7), ('40764', 7), ('226622', 7), ('40330', 7), ('40942', 6), ('42788', 6), ('40613', 6), ('40848', 6), ('44501', 6), ('42167', 6), ('42001', 6), ('42080', 6), ('41705', 6), ('41384', 6), ('226624', 6), ('40651', 6), ('43927', 5), ('43172', 5), ('40584', 5), ('42254', 5), ('40909', 5), ('42331', 5), ('42279', 5), ('42624', 5), ('43409', 5), ('40427', 4), ('41250', 4), ('44030', 4), ('41288', 4), ('41809', 4), ('44133', 4), ('41214', 4), ('42810', 4), ('42128', 4), ('226569', 4), ('44003', 4), ('41374', 4), ('40099', 4), ('41500', 4), ('42367', 4), ('40612', 4), ('41772', 4), ('41546', 4), ('41257', 4), ('40975', 4), ('43840', 4), ('42293', 3), ('44201', 3), ('42276', 3), ('44286', 3), ('44216', 3), ('41722', 3), ('40751', 3), ('40891', 3), ('42362', 3), ('43606', 3), ('42315', 3), ('41623', 3), ('40779', 3), ('40956', 3), ('41509', 3), ('40729', 3), ('42652', 3), ('41359', 3), ('42280', 3), ('42676', 3), ('44349', 3), ('41847', 3), ('41171', 3), ('42042', 3), ('42463', 3), ('42069', 3), ('42620', 3), ('41102', 2), ('45645', 2), ('41933', 2), ('42578', 2), ('42465', 2), ('44676', 2), ('40647', 2), ('43462', 2), ('45259', 2), ('42388', 2), ('40078', 2), ('45422', 2), ('42859', 2), ('43491', 2), ('41922', 2), ('43498', 2), ('44970', 2), ('40804', 2), ('46479', 2), ('226621', 2), ('45655', 2), ('40101', 2), ('44592', 2), ('42431', 2), ('45968', 2), ('43458', 2), ('44720', 2), ('44839', 2), ('45651', 2), ('43702', 2), ('42101', 2), ('42837', 2), ('44261', 2), ('43396', 2), ('41172', 2), ('42672', 2), ('45435', 2), ('42248', 2), ('41441', 2), ('43943', 2), ('44684', 2), ('46394', 2), ('44925', 2), ('43537', 2), ('41034', 2), ('45729', 2), ('41562', 2), ('42165', 2), ('41849', 2), ('41802', 2), ('45626', 2), ('45144', 2), ('40100', 2), ('43753', 2), ('46415', 2), ('43970', 2), ('44824', 2), ('46091', 2), ('46092', 2), ('41670', 2), ('43710', 2), ('43589', 2), ('44671', 2), ('41212', 2), ('43820', 2), ('42651', 2), ('40765', 2), ('41486', 2), ('42701', 2), ('42695', 2), ('46403', 2), ('43243', 2), ('46478', 2), ('42968', 2), ('44767', 2), ('43892', 2), ('226616', 2), ('43442', 2), ('43634', 2), ('44768', 2), ('44623', 2), ('44565', 2), ('44845', 1), ('46079', 1), ('45523', 1), ('42210', 1), ('46213', 1), ('41857', 1), ('43239', 1), ('42212', 1), ('44754', 1), ('44368', 1), ('45405', 1), ('44974', 1), ('42904', 1), ('41433', 1), ('43477', 1), ('45788', 1), ('46678', 1), ('43612', 1), ('43115', 1), ('42943', 1), ('42650', 1), ('45790', 1), ('45883', 1), ('44068', 1), ('45864', 1), ('44132', 1), ('42289', 1), ('46466', 1), ('46121', 1), ('44231', 1), ('44548', 1), ('45082', 1), ('44752', 1), ('45517', 1), ('44400', 1), ('44662', 1), ('41829', 1), ('40727', 1), ('44967', 1), ('46751', 1), ('45590', 1), ('43058', 1), ('46775', 1), ('46132', 1), ('42851', 1), ('46701', 1), ('46286', 1), ('44051', 1), ('44831', 1), ('41440', 1), ('40990', 1), ('45484', 1), ('43489', 1), ('46657', 1), ('43558', 1), ('46656', 1), ('41897', 1), ('42366', 1), ('40469', 1), ('46304', 1), ('42475', 1), ('41803', 1), ('44895', 1), ('41920', 1), ('45851', 1), ('41839', 1), ('45501', 1), ('43933', 1), ('46745', 1), ('42549', 1), ('46044', 1), ('44055', 1), ('43668', 1), ('42824', 1), ('44392', 1), ('45304', 1), ('46370', 1), ('46471', 1), ('44612', 1), ('43064', 1), ('41178', 1), ('42328', 1), ('43685', 1), ('46556', 1), ('46464', 1), ('43988', 1), ('44531', 1), ('45607', 1), ('42129', 1), ('44417', 1), ('43966', 1), ('42498', 1), ('45071', 1), ('45763', 1), ('44066', 1), ('41717', 1), ('42838', 1), ('46652', 1), ('44209', 1), ('42482', 1), ('41749', 1), ('46619', 1), ('44140', 1), ('46580', 1), ('43464', 1), ('42816', 1), ('46335', 1), ('43666', 1), ('43594', 1), ('43427', 1), ('45328', 1), ('44956', 1), ('43730', 1), ('45533', 1), ('42539', 1), ('44841', 1), ('43721', 1), ('41758', 1), ('46663', 1), ('40789', 1), ('46234', 1), ('46716', 1), ('43754', 1), ('42569', 1), ('44080', 1), ('42928', 1), ('42473', 1), ('46711', 1), ('41475', 1), ('45992', 1), ('44959', 1), ('44750', 1), ('44410', 1), ('43142', 1), ('44636', 1), ('43897', 1), ('42190', 1), ('43119', 1), ('44714', 1), ('44004', 1), ('42256', 1), ('44313', 1), ('45858', 1), ('45888', 1), ('42476', 1), ('46709', 1), ('46348', 1), ('45899', 1), ('45832', 1), ('43859', 1), ('43443', 1), ('46241', 1), ('45715', 1), ('43925', 1), ('42952', 1), ('42794', 1), ('44039', 1), ('44911', 1), ('42636', 1), ('42523', 1), ('42877', 1), ('42892', 1), ('42772', 1), ('42314', 1), ('41713', 1), ('44843', 1), ('44093', 1), ('44074', 1), ('43812', 1), ('45005', 1), ('40904', 1), ('42789', 1), ('43567', 1), ('41725', 1), ('44639', 1), ('44455', 1), ('42225', 1), ('41004', 1), ('46539', 1), ('43408', 1), ('42417', 1), ('46655', 1), ('42635', 1), ('46571', 1), ('44821', 1), ('43245', 1), ('41202', 1), ('46237', 1), ('44700', 1), ('42386', 1), ('46255', 1), ('43048', 1), ('42466', 1), ('41483', 1), ('46755', 1), ('44921', 1), ('46185', 1), ('43896', 1), ('41155', 1), ('46143', 1), ('42874', 1), ('42530', 1), ('44719', 1), ('42348', 1), ('45786', 1), ('45175', 1), ('44706', 1), ('44401', 1), ('44174', 1), ('44940', 1), ('43463', 1), ('45911', 1), ('40910', 1), ('43386', 1), ('44931', 1), ('46732', 1), ('44520', 1), ('43841', 1), ('45190', 1), ('42507', 1), ('41793', 1), ('45248', 1), ('45081', 1), ('42987', 1), ('46082', 1), ('43905', 1), ('40285', 1), ('44032', 1), ('42347', 1), ('45624', 1), ('44955', 1), ('44643', 1), ('44550', 1), ('40650', 1), ('45147', 1), ('46510', 1), ('44232', 1), ('45813', 1), ('44604', 1), ('41727', 1), ('42033', 1), ('44556', 1), ('45194', 1), ('46489', 1), ('42873', 1), ('45666', 1), ('41417', 1), ('43348', 1), ('46269', 1), ('45704', 1), ('45412', 1), ('43173', 1), ('46224', 1), ('42795', 1), ('46578', 1), ('45415', 1), ('46673', 1), ('42327', 1), ('44154', 1), ('44729', 1), ('46072', 1), ('46416', 1), ('44062', 1), ('43695', 1), ('42746', 1), ('43053', 1), ('42516', 1), ('44567', 1), ('45368', 1), ('41290', 1), ('46232', 1), ('42425', 1), ('44995', 1), ('44958', 1), ('46309', 1), ('42300', 1), ('46183', 1), ('44857', 1), ('44350', 1), ('43932', 1), ('44085', 1), ('43600', 1), ('45192', 1), ('44801', 1), ('43633', 1), ('46640', 1), ('46259', 1), ('45844', 1), ('41203', 1), ('42592', 1), ('46020', 1), ('45110', 1), ('46070', 1), ('44229', 1), ('43638', 1), ('42880', 1), ('43987', 1), ('44943', 1), ('44914', 1), ('43881', 1), ('42209', 1), ('45327', 1), ('42809', 1), ('44727', 1), ('45000', 1), ('44663', 1), ('46128', 1), ('42834', 1), ('46414', 1), ('45085', 1), ('44694', 1), ('46295', 1), ('45824', 1), ('42403', 1), ('44909', 1), ('44961', 1), ('44002', 1), ('42868', 1), ('42257', 1), ('45296', 1), ('45702', 1), ('40668', 1), ('42840', 1), ('44371', 1), ('46740', 1), ('42464', 1), ('46134', 1), ('41584', 1), ('41494', 1), ('42093', 1), ('46186', 1), ('42253', 1), ('41049', 1), ('46672', 1), ('45927', 1), ('41681', 1), ('43333', 1), ('44930', 1), ('44933', 1), ('46473', 1), ('44046', 1), ('44481', 1), ('46268', 1), ('44715', 1), ('44193', 1), ('43365', 1), ('44890', 1), ('44901', 1), ('46198', 1), ('45991', 1), ('45879', 1), ('43380', 1), ('42870', 1), ('46345', 1), ('46804', 1), ('44103', 1), ('44134', 1), ('42817', 1), ('42867', 1), ('46757', 1), ('44597', 1), ('46307', 1), ('44454', 1), ('44029', 1), ('41190', 1), ('44198', 1), ('44187', 1), ('45121', 1), ('43098', 1), ('41678', 1), ('42287', 1), ('43016', 1), ('44027', 1), ('45420', 1), ('44453', 1), ('43846', 1), ('41069', 1), ('42765', 1), ('46071', 1), ('44566', 1), ('40291', 1), ('42700', 1), ('45852', 1), ('42682', 1), ('46645', 1), ('46182', 1), ('42196', 1), ('43019', 1), ('42591', 1), ('45742', 1), ('43836', 1), ('42103', 1), ('46715', 1), ('42773', 1), ('44065', 1), ('43074', 1), ('44563', 1), ('40366', 1), ('42092', 1), ('44532', 1), ('43372', 1), ('44170', 1), ('42619', 1), ('43345', 1), ('43538', 1), ('44650', 1), ('46135', 1), ('42472', 1), ('45898', 1), ('45227', 1), ('42499', 1), ('46454', 1), ('44992', 1), ('45461', 1), ('42486', 1), ('42540', 1), ('46523', 1), ('46230', 1), ('45920', 1), ('46555', 1), ('46766', 1), ('46347', 1), ('46638', 1), ('41053', 1), ('45266', 1), ('43244', 1), ('45117', 1), ('44083', 1), ('42441', 1), ('44596', 1), ('42346', 1), ('40637', 1), ('40488', 1), ('46504', 1), ('46666', 1), ('44295', 1), ('43582', 1), ('44595', 1), ('42397', 1), ('43355', 1), ('44731', 1), ('41148', 1), ('40991', 1), ('45869', 1), ('41258', 1), ('46118', 1), ('42461', 1), ('42338', 1), ('42130', 1), ('45083', 1), ('43133', 1), ('44545', 1), ('45778', 1), ('46270', 1), ('44744', 1), ('43737', 1), ('43519', 1), ('44732', 1), ('43984', 1), ('46568', 1), ('45356', 1), ('44705', 1), ('45918', 1), ('42066', 1), ('46520', 1), ('46021', 1), ('43114', 1), ('45007', 1), ('46372', 1), ('43687', 1), ('45210', 1), ('43856', 1), ('43468', 1), ('45703', 1), ('44428', 1), ('41062', 1), ('44920', 1), ('41837', 1), ('45910', 1), ('44996', 1), ('46710', 1), ('44142', 1), ('44853', 1), ('45260', 1), ('44730', 1), ('42936', 1), ('42555', 1), ('41748', 1), ('46675', 1), ('45971', 1), ('45419', 1), ('41989', 1), ('45812', 1), ('45536', 1), ('42951', 1), ('44622', 1), ('44268', 1), ('44304', 1), ('45791', 1), ('46613', 1), ('41634', 1), ('44266', 1), ('42255', 1), ('41817', 1), ('43941', 1), ('45421', 1), ('42819', 1), ('44063', 1), ('45408', 1), ('41753', 1), ('46119', 1), ('46456', 1), ('41816', 1), ('44988', 1), ('45357', 1), ('44530', 1), ('43653', 1), ('41426', 1), ('46713', 1), ('43851', 1), ('42903', 1), ('46761', 1), ('45055', 1), ('42067', 1), ('46759', 1), ('44157', 1), ('44806', 1), ('46718', 1), ('42524', 1), ('41112', 1), ('42972', 1), ('46738', 1), ('45654', 1), ('43027', 1), ('42094', 1), ('46285', 1), ('44637', 1), ('41035', 1), ('44278', 1), ('43706', 1), ('44522', 1), ('43052', 1), ('42823', 1), ('41519', 1), ('46664', 1), ('46628', 1), ('44649', 1), ('44569', 1), ('43042', 1), ('42597', 1), ('44067', 1), ('46519', 1), ('43161', 1), ('46371', 1), ('43379', 1), ('44689', 1), ('46605', 1), ('45857', 1), ('46532', 1), ('41576', 1), ('44879', 1), ('41801', 1), ('46401', 1), ('45792', 1), ('42666', 1), ('42505', 1), ('44847', 1), ('41511', 1), ('43127', 1), ('41751', 1), ('44587', 1), ('41036', 1), ('43862', 1), ('43034', 1), ('44846', 1), ('41003', 1), ('46748', 1), ('45418', 1), ('41088', 1), ('42419', 1), ('46503', 1), ('44468', 1), ('45417', 1), ('42479', 1), ('42394', 1), ('40728', 1), ('44353', 1), ('45340', 1), ('45142', 1), ('43830', 1), ('42390', 1), ('42068', 1), ('46506', 1), ('45283', 1), ('44506', 1), ('44840', 1), ('42642', 1), ('41842', 1), ('42677', 1), ('42556', 1), ('42850', 1), ('44589', 1), ('46131', 1), ('42095', 1), ('42032', 1), ('46649', 1), ('46735', 1), ('40649', 1), ('45494', 1), ('46779', 1), ('44259', 1), ('45914', 1), ('42598', 1), ('42357', 1), ('44347', 1), ('43576', 1), ('41988', 1), ('44253', 1), ('42986', 1), ('45411', 1), ('44834', 1), ('41592', 1), ('41860', 1), ('46184', 1), ('45518', 1), ('46575', 1), ('44325', 1), ('42258', 1), ('45789', 1), ('43441', 1), ('46763', 1), ('43734', 1), ('42869', 1), ('45861', 1), ('44598', 1), ('41778', 1), ('43722', 1), ('42181', 1), ('45993', 1), ('42509', 1), ('45022', 1), ('42891', 1), ('40534', 1), ('42822', 1), ('46290', 1), ('40892', 1), ('45760', 1), ('44337', 1), ('45739', 1), ('44211', 1), ('40972', 1), ('43554', 1), ('41946', 1), ('41029', 1), ('40911', 1), ('46742', 1), ('42339', 1), ('41487', 1), ('43093', 1), ('44034', 1), ('41735', 1), ('43965', 1), ('42659', 1), ('41177', 1), ('46220', 1), ('45828', 1), ('43853', 1), ('43559', 1), ('43336', 1), ('43762', 1), ('44884', 1), ('41800', 1), ('43529', 1), ('44136', 1), ('44973', 1), ('42467', 1), ('46242', 1), ('43804', 1), ('44475', 1), ('46695', 1), ('46449', 1), ('45850', 1), ('45665', 1), ('40689', 1), ('42950', 1), ('42510', 1), ('45337', 1), ('44984', 1), ('43110', 1), ('44199', 1), ('46225', 1), ('42460', 1), ('43811', 1), ('41838', 1), ('43694', 1), ('46658', 1), ('43800', 1), ('42983', 1), ('46741', 1), ('42625', 1), ('46164', 1), ('46399', 1), ('41718', 1), ('41635', 1), ('45822', 1), ('45460', 1), ('46626', 1), ('42119', 1), ('42392', 1), ('41593', 1), ('45664', 1), ('46350', 1), ('44562', 1), ('40079', 1), ('46178', 1), ('42111', 1), ('45841', 1), ('46315', 1), ('43960', 1), ('45056', 1), ('43445', 1), ('45840', 1), ('44405', 1), ('43931', 1), ('46696', 1), ('45141', 1), ('43015', 1), ('45740', 1), ('41998', 1), ('41815', 1), ('44898', 1), ('44535', 1), ('46208', 1), ('44837', 1), ('42536', 1), ('43374', 1), ('44015', 1), ('40930', 1), ('41539', 1), ('46721', 1), ('46551', 1), ('45221', 1), ('44906', 1), ('44026', 1), ('42881', 1), ('45524', 1), ('41510', 1), ('46469', 1), ('46604', 1), ('45118', 1), ('42432', 1), ('45479', 1), ('41750', 1), ('46373', 1), ('44670', 1), ('46398', 1), ('46620', 1), ('43703', 1), ('41667', 1), ('42632', 1), ('45653', 1), ('45512', 1), ('45254', 1), ('44724', 1), ('44336', 1), ('42178', 1), ('46637', 1), ('45804', 1), ('45750', 1), ('44291', 1), ('46130', 1), ('44208', 1), ('42222', 1), ('41247', 1), ('44913', 1), ('46712', 1), ('46622', 1), ('43605', 1), ('44866', 1), ('43001', 1), ('46282', 1), ('44097', 1), ('45120', 1), ('42189', 1), ('43857', 1), ('46253', 1), ('44241', 1), ('42634', 1), ('46727', 1), ('42649', 1), ('46180', 1), ('43914', 1), ('44672', 1), ('43868', 1), ('42957', 1), ('41836', 1), ('45028', 1), ('43654', 1), ('42508', 1), ('46334', 1), ('45413', 1), ('40553', 1), ('46544', 1), ('45076', 1), ('43684', 1), ('42046', 1), ('46733', 1), ('46177', 1), ('45617', 1), ('43347', 1), ('42442', 1), ('44237', 0), ('43057', 0)]\n",
      "output finished\n"
     ]
    },
    {
     "name": "stderr",
     "output_type": "stream",
     "text": [
      "/home/mengcz/.pyenv/versions/anaconda3-5.1.0/envs/Benchmarking_DL_MIMICIII/lib/python3.6/site-packages/ipykernel_launcher.py:10: TqdmDeprecationWarning: This function will be removed in tqdm==5.0.0\n",
      "Please use `tqdm.notebook.tqdm` instead of `tqdm.tqdm_notebook`\n",
      "  # Remove the CWD from sys.path while we load stuff.\n",
      "/home/mengcz/.pyenv/versions/anaconda3-5.1.0/envs/Benchmarking_DL_MIMICIII/lib/python3.6/site-packages/ipykernel_launcher.py:10: TqdmDeprecationWarning: This function will be removed in tqdm==5.0.0\n",
      "Please use `tqdm.notebook.tqdm` instead of `tqdm.tqdm_notebook`\n",
      "  # Remove the CWD from sys.path while we load stuff.\n",
      "/home/mengcz/.pyenv/versions/anaconda3-5.1.0/envs/Benchmarking_DL_MIMICIII/lib/python3.6/site-packages/ipykernel_launcher.py:10: TqdmDeprecationWarning: This function will be removed in tqdm==5.0.0\n",
      "Please use `tqdm.notebook.tqdm` instead of `tqdm.tqdm_notebook`\n",
      "  # Remove the CWD from sys.path while we load stuff.\n",
      "/home/mengcz/.pyenv/versions/anaconda3-5.1.0/envs/Benchmarking_DL_MIMICIII/lib/python3.6/site-packages/ipykernel_launcher.py:10: TqdmDeprecationWarning: This function will be removed in tqdm==5.0.0\n",
      "Please use `tqdm.notebook.tqdm` instead of `tqdm.tqdm_notebook`\n",
      "  # Remove the CWD from sys.path while we load stuff.\n"
     ]
    },
    {
     "data": {
      "application/vnd.jupyter.widget-view+json": {
       "model_id": "fe047e57caa54edd83df2f91ec7cceb2",
       "version_major": 2,
       "version_minor": 0
      },
      "text/plain": [
       "HBox(children=(FloatProgress(value=0.0, max=1616.0), HTML(value='')))"
      ]
     },
     "metadata": {},
     "output_type": "display_data"
    },
    {
     "data": {
      "application/vnd.jupyter.widget-view+json": {
       "model_id": "110e61342869441d8da9552c75fe1d24",
       "version_major": 2,
       "version_minor": 0
      },
      "text/plain": [
       "HBox(children=(FloatProgress(value=0.0, max=1615.0), HTML(value='')))"
      ]
     },
     "metadata": {},
     "output_type": "display_data"
    },
    {
     "data": {
      "application/vnd.jupyter.widget-view+json": {
       "model_id": "cfc8ccd0619f40f3afd9328a3f5a0c8d",
       "version_major": 2,
       "version_minor": 0
      },
      "text/plain": [
       "HBox(children=(FloatProgress(value=0.0, max=1616.0), HTML(value='')))"
      ]
     },
     "metadata": {},
     "output_type": "display_data"
    },
    {
     "data": {
      "application/vnd.jupyter.widget-view+json": {
       "model_id": "a589b20ad543465fa446968fd77974ff",
       "version_major": 2,
       "version_minor": 0
      },
      "text/plain": [
       "HBox(children=(FloatProgress(value=0.0, max=1616.0), HTML(value='')))"
      ]
     },
     "metadata": {},
     "output_type": "display_data"
    },
    {
     "name": "stdout",
     "output_type": "stream",
     "text": [
      "\n",
      "\n",
      "\n",
      "\n",
      "[('926', 35069), ('211', 34902), ('31', 33892), ('80', 31087), ('467', 28090), ('829', 27448), ('813', 27410), ('811', 27402), ('791', 27361), ('837', 27357), ('781', 27354), ('828', 27241), ('618', 27231), ('742', 27228), ('788', 27225), ('212', 27224), ('787', 27218), ('646', 27216), ('161', 27210), ('930', 27205), ('916', 27205), ('925', 27205), ('920', 27205), ('69', 27205), ('919', 27205), ('927', 27205), ('924', 27205), ('762', 27205), ('935', 27205), ('917', 27204), ('432', 27196), ('184', 27188), ('723', 27186), ('454', 27182), ('198', 27178), ('674', 27177), ('617', 27175), ('479', 27165), ('861', 27164), ('478', 27155), ('428', 27151), ('425', 27151), ('599', 27150), ('593', 27149), ('814', 27142), ('27', 27117), ('707', 27114), ('833', 27112), ('644', 27096), ('210', 27083), ('704', 27068), ('159', 26925), ('84', 26919), ('82', 26918), ('86', 26917), ('85', 26917), ('88', 26915), ('83', 26915), ('87', 26908), ('54', 26890), ('32', 26838), ('678', 26665), ('677', 26659), ('706', 26618), ('821', 26542), ('455', 26459), ('547', 26456), ('8480', 26449), ('456', 26428), ('156', 26427), ('8441', 26411), ('8381', 26357), ('1046', 26295), ('128', 26248), ('637', 26124), ('550', 26079), ('294', 25908), ('1127', 25806), ('549', 25754), ('525', 25748), ('324', 25733), ('8456', 25653), ('8400', 25406), ('663', 25363), ('77', 25248), ('827', 24840), ('1125', 24732), ('786', 24693), ('226228', 24549), ('227378', 24547), ('226543', 24546), ('226545', 24074), ('220615', 24063), ('225624', 24062), ('220602', 24062), ('227443', 24056), ('220645', 24052), ('815', 24040), ('227442', 24039), ('220545', 24034), ('227073', 24004), ('220621', 23990), ('825', 23990), ('824', 23989), ('227457', 23984), ('220546', 23983), ('220228', 23983), ('1337', 23929), ('187', 23790), ('1087', 23706), ('154', 23541), ('220635', 23446), ('470', 23195), ('226544', 23108), ('621', 23045), ('226381', 22683), ('225625', 22631), ('225677', 22617), ('527', 22007), ('220045', 21924), ('226512', 21920), ('220210', 21913), ('220277', 21904), ('224641', 21881), ('220047', 21878), ('220046', 21875), ('223770', 21873), ('220739', 21873), ('223900', 21870), ('223901', 21867), ('223769', 21866), ('224162', 21864), ('224161', 21864), ('224168', 21858), ('223988', 21847), ('223986', 21847), ('223987', 21845), ('223781', 21843), ('223989', 21843), ('224084', 21843), ('224080', 21841), ('224642', 21837), ('224082', 21833), ('220048', 21828), ('224003', 21826), ('224026', 21820), ('224057', 21810), ('224054', 21810), ('224055', 21808), ('224056', 21808), ('224059', 21807), ('224027', 21806), ('224058', 21806), ('223985', 21806), ('224860', 21803), ('224004', 21790), ('224086', 21789), ('223999', 21789), ('224028', 21781), ('223795', 21763), ('642', 21760), ('223990', 21751), ('226253', 21733), ('227344', 21711), ('227345', 21711), ('227343', 21710), ('227342', 21703), ('227346', 21701), ('226732', 21687), ('220179', 21685), ('220180', 21685), ('227341', 21684), ('220181', 21676), ('223761', 21673), ('224001', 21635), ('224015', 21591), ('224093', 21571), ('224031', 21555), ('297', 21536), ('223934', 21478), ('223943', 21476), ('224650', 21461), ('223783', 21325), ('325', 21274), ('1535', 21167), ('224087', 21159), ('1529', 21147), ('1536', 21115), ('1525', 21114), ('1162', 21108), ('8401', 21099), ('1523', 21078), ('224016', 21049), ('1542', 21034), ('223752', 20983), ('223751', 20982), ('224876', 20957), ('227240', 20942), ('49', 20886), ('227467', 20787), ('227465', 20787), ('224072', 20785), ('223991', 20777), ('1425', 20773), ('224073', 20766), ('224076', 20753), ('224077', 20750), ('224079', 20730), ('224075', 20692), ('582', 20691), ('72', 20679), ('1532', 20669), ('227466', 20645), ('223794', 20609), ('1534', 20586), ('223935', 20529), ('223947', 20507), ('477', 20486), ('224023', 20378), ('223791', 20309), ('227688', 20200), ('223782', 20178), ('229', 19919), ('1622', 19913), ('1623', 19899), ('1427', 19848), ('526', 19820), ('8392', 19761), ('232', 19699), ('1522', 19668), ('223792', 19560), ('763', 19413), ('581', 19409), ('226168', 19339), ('680', 19305), ('223904', 19294), ('223905', 19270), ('223898', 19214), ('226104', 19205), ('640', 19179), ('223902', 19158), ('807', 19098), ('223911', 19009), ('1533', 18942), ('223916', 18833), ('1530', 18821), ('1286', 18799), ('224756', 18756), ('226531', 18645), ('1484', 18441), ('224024', 18422), ('223992', 18391), ('223907', 18315), ('224733', 18298), ('227121', 18276), ('227288', 18260), ('225103', 18081), ('780', 18016), ('522', 17962), ('224089', 17926), ('778', 17918), ('779', 17912), ('8367', 17868), ('777', 17866), ('171', 17866), ('227944', 17799), ('227969', 17770), ('167', 17744), ('834', 17698), ('224000', 17661), ('223834', 17644), ('223917', 17627), ('223919', 17622), ('223918', 17616), ('223920', 17607), ('169', 17585), ('224879', 17550), ('224409', 17523), ('524', 17522), ('1089', 17509), ('225187', 17495), ('225185', 17472), ('168', 17426), ('5815', 17386), ('8549', 17384), ('5820', 17349), ('8554', 17330), ('1044', 17328), ('776', 17307), ('580', 17209), ('170', 17192), ('223784', 17189), ('5819', 17179), ('8553', 17156), ('51', 17074), ('604', 17046), ('52', 17018), ('165', 16955), ('1126', 16944), ('225664', 16937), ('224862', 16753), ('660', 16571), ('224771', 16489), ('166', 16475), ('224773', 16444), ('225072', 16336), ('223979', 16281), ('223983', 16238), ('224767', 16202), ('224769', 16165), ('190', 16161), ('8368', 16136), ('223976', 16014), ('223982', 15968), ('5817', 15963), ('224088', 15901), ('8551', 15895), ('225054', 15892), ('224640', 15751), ('223796', 15733), ('230', 15621), ('127', 15610), ('548', 15589), ('225184', 15568), ('172', 15472), ('283', 15436), ('605', 15426), ('623', 15346), ('223951', 15308), ('224308', 15234), ('622', 15211), ('610', 15138), ('225092', 15074), ('227368', 14897), ('1047', 14863), ('226138', 14808), ('615', 14806), ('720', 14781), ('506', 14777), ('722', 14754), ('450', 14752), ('40', 14726), ('434', 14725), ('227968', 14713), ('218', 14711), ('225231', 14704), ('631', 14688), ('444', 14674), ('585', 14663), ('816', 14653), ('8467', 14520), ('584', 14508), ('225094', 14498), ('224005', 14473), ('8466', 14388), ('225099', 14352), ('223758', 14305), ('733', 14246), ('225313', 14230), ('224085', 14224), ('39', 14205), ('225097', 14112), ('417', 14105), ('619', 14079), ('535', 14078), ('682', 14076), ('614', 14059), ('578', 14043), ('683', 14016), ('227088', 14001), ('131', 13941), ('224651', 13891), ('235', 13891), ('732', 13866), ('657', 13831), ('219', 13782), ('157', 13766), ('225668', 13766), ('8477', 13742), ('238', 13725), ('8393', 13687), ('227375', 13535), ('543', 13511), ('8382', 13445), ('818', 13425), ('228096', 13425), ('225811', 13418), ('200', 13376), ('223780', 13347), ('8388', 13285), ('203', 13236), ('223936', 13217), ('223830', 13211), ('656', 13186), ('225118', 13181), ('784', 13161), ('225106', 13136), ('220235', 13135), ('220224', 13135), ('224828', 13134), ('225698', 13132), ('183', 13082), ('8476', 13061), ('223948', 13016), ('227349', 12936), ('225087', 12850), ('227367', 12804), ('226137', 12711), ('225234', 12612), ('684', 12567), ('226179', 12540), ('225126', 12486), ('225113', 12476), ('225120', 12408), ('1538', 12348), ('769', 12303), ('770', 12257), ('8390', 12201), ('224032', 12188), ('113', 12164), ('223835', 12143), ('8454', 12106), ('221', 11990), ('773', 11965), ('225067', 11940), ('227687', 11891), ('224017', 11824), ('225137', 11812), ('226707', 11811), ('226730', 11811), ('224561', 11720), ('225059', 11720), ('772', 11670), ('1045', 11605), ('225101', 11602), ('225110', 11573), ('224639', 11496), ('220644', 11494), ('220587', 11482), ('284', 11459), ('225122', 11454), ('225690', 11452), ('1043', 11407), ('848', 11385), ('236', 11341), ('225612', 11303), ('1531', 11162), ('225074', 11066), ('225124', 11060), ('225078', 10874), ('224730', 10852), ('225667', 10821), ('300', 10780), ('411', 10776), ('398', 10743), ('224731', 10663), ('392', 10581), ('50', 10401), ('1479', 10353), ('224038', 10340), ('798', 10263), ('799', 10263), ('797', 10263), ('796', 10262), ('224373', 10262), ('800', 10260), ('223849', 10222), ('225641', 10193), ('225640', 10193), ('225643', 10193), ('225639', 10193), ('225642', 10193), ('220339', 10189), ('225634', 10160), ('224687', 10149), ('220734', 10147), ('220293', 10136), ('223873', 10132), ('224697', 10131), ('223876', 10130), ('220292', 10129), ('224685', 10118), ('8402', 10112), ('223848', 10100), ('224695', 10078), ('223874', 10062), ('8428', 10053), ('226180', 10027), ('224689', 10022), ('224865', 10001), ('227471', 9994), ('224692', 9954), ('197', 9945), ('223875', 9936), ('1703', 9913), ('224735', 9904), ('220056', 9895), ('227239', 9887), ('220058', 9877), ('225978', 9873), ('114', 9862), ('224785', 9844), ('224372', 9826), ('224690', 9815), ('225076', 9761), ('224007', 9714), ('220052', 9689), ('326', 9688), ('224738', 9682), ('227429', 9678), ('227456', 9673), ('225131', 9653), ('1517', 9639), ('5813', 9634), ('224259', 9628), ('224786', 9564), ('220050', 9564), ('220051', 9562), ('224289', 9474), ('227292', 9459), ('224291', 9451), ('202', 9427), ('227517', 9362), ('224794', 9356), ('224688', 9350), ('226107', 9349), ('225210', 9342), ('224684', 9319), ('224011', 9275), ('224832', 9224), ('223837', 9216), ('223838', 9201), ('785', 9197), ('224415', 9180), ('1521', 9167), ('226871', 9156), ('226873', 9149), ('8547', 9133), ('817', 9093), ('228100', 9081), ('226586', 9080), ('1698', 9062), ('8492', 9005), ('224701', 8822), ('226169', 8800), ('220632', 8789), ('224686', 8758), ('224370', 8698), ('6208', 8590), ('374', 8577), ('224369', 8577), ('227945', 8518), ('655', 8478), ('70', 8457), ('71', 8457), ('226537', 8456), ('595', 8425), ('224696', 8423), ('227565', 8410), ('227566', 8408), ('783', 8394), ('676', 8393), ('652', 8378), ('651', 8371), ('227464', 8348), ('225188', 8346), ('386', 8309), ('227950', 8301), ('224009', 8299), ('227472', 8274), ('227445', 8273), ('344', 8264), ('223753', 8161), ('227948', 8138), ('356', 8059), ('224848', 8045), ('224758', 8028), ('223924', 8025), ('224759', 8014), ('227951', 8011), ('224762', 8008), ('228236', 8004), ('227959', 7985), ('227947', 7975), ('3446', 7957), ('227952', 7955), ('227957', 7954), ('227946', 7940), ('6206', 7926), ('6207', 7915), ('227954', 7881), ('227961', 7869), ('227958', 7868), ('4180', 7864), ('4184', 7864), ('4171', 7864), ('4185', 7864), ('4181', 7864), ('4169', 7864), ('4183', 7864), ('4186', 7864), ('4175', 7864), ('227956', 7851), ('228099', 7846), ('227953', 7839), ('227960', 7827), ('223923', 7819), ('227949', 7813), ('545', 7763), ('227955', 7759), ('224041', 7728), ('139', 7719), ('1480', 7714), ('8416', 7690), ('775', 7686), ('3603', 7672), ('225280', 7635), ('1397', 7625), ('228306', 7612), ('225070', 7555), ('224042', 7471), ('590', 7469), ('224847', 7466), ('423', 7463), ('224040', 7461), ('596', 7455), ('426', 7448), ('3313', 7398), ('8502', 7397), ('3312', 7388), ('228299', 7346), ('224851', 7332), ('220227', 7212), ('5814', 7208), ('224564', 7183), ('3353', 7150), ('659', 7144), ('224037', 7114), ('228298', 7111), ('8478', 7070), ('224565', 6944), ('795', 6920), ('806', 6907), ('158', 6906), ('3373', 6861), ('228305', 6856), ('362', 6834), ('620', 6833), ('3447', 6817), ('8474', 6752), ('3654', 6738), ('224226', 6734), ('225117', 6666), ('410', 6658), ('225133', 6645), ('8422', 6593), ('227780', 6577), ('492', 6575), ('8548', 6563), ('220074', 6549), ('228013', 6527), ('8448', 6520), ('224417', 6514), ('3685', 6491), ('226534', 6485), ('3412', 6480), ('228014', 6462), ('227988', 6443), ('3761', 6439), ('412', 6384), ('399', 6370), ('116', 6345), ('141', 6338), ('3759', 6337), ('3799', 6334), ('224930', 6329), ('224700', 6322), ('241', 6283), ('3789', 6273), ('393', 6271), ('352', 6218), ('626', 6187), ('224010', 6184), ('4197', 6177), ('679', 6174), ('8394', 6172), ('224944', 6166), ('244', 6148), ('226540', 6134), ('8429', 6115), ('95', 6103), ('90', 6096), ('227293', 6091), ('224281', 6079), ('94', 6066), ('594', 6052), ('96', 6048), ('97', 6048), ('220073', 6030), ('225129', 6013), ('220072', 6013), ('338', 6012), ('122', 6003), ('225135', 6002), ('8373', 5987), ('225091', 5984), ('627', 5963), ('226113', 5959), ('226536', 5924), ('3348', 5922), ('3568', 5881), ('224012', 5870), ('1528', 5857), ('3656', 5855), ('662', 5845), ('731', 5825), ('224850', 5793), ('227468', 5784), ('223754', 5774), ('3834', 5767), ('625', 5763), ('8488', 5756), ('226105', 5751), ('223903', 5737), ('225090', 5725), ('226185', 5715), ('223910', 5692), ('1191', 5682), ('421', 5656), ('430', 5651), ('8485', 5627), ('4200', 5612), ('422', 5605), ('3338', 5603), ('3339', 5603), ('431', 5601), ('226814', 5572), ('227588', 5572), ('8537', 5556), ('3607', 5543), ('228011', 5534), ('3652', 5508), ('228012', 5465), ('224422', 5464), ('224421', 5462), ('446', 5451), ('3694', 5401), ('3291', 5401), ('225813', 5384), ('224937', 5380), ('225175', 5380), ('225086', 5379), ('3293', 5379), ('3754', 5362), ('3780', 5362), ('3768', 5362), ('3771', 5362), ('224105', 5347), ('208', 5341), ('466', 5335), ('648', 5332), ('137', 5327), ('228332', 5327), ('1483', 5311), ('8518', 5307), ('3450', 5307), ('3734', 5304), ('803', 5304), ('3669', 5289), ('3519', 5281), ('3627', 5272), ('3304', 5239), ('8499', 5237), ('3770', 5235), ('3779', 5235), ('3791', 5235), ('3742', 5235), ('224013', 5234), ('3632', 5226), ('3686', 5224), ('3577', 5220), ('8529', 5215), ('3476', 5205), ('3738', 5180), ('228337', 5173), ('225189', 5153), ('130', 5136), ('3408', 5118), ('3340', 5060), ('860', 5059), ('228137', 5041), ('3609', 5034), ('3386', 5034), ('3559', 5033), ('3634', 5032), ('823', 5025), ('8532', 5018), ('225050', 4992), ('516', 4988), ('3616', 4957), ('3655', 4952), ('3520', 4943), ('3335', 4931), ('3723', 4929), ('3572', 4927), ('515', 4922), ('224902', 4921), ('643', 4876), ('3487', 4863), ('858', 4794), ('227756', 4793), ('439', 4768), ('223760', 4761), ('859', 4748), ('227369', 4725), ('705', 4702), ('8437', 4689), ('518', 4667), ('226139', 4666), ('223759', 4638), ('224283', 4621), ('3451', 4617), ('224119', 4612), ('645', 4612), ('8475', 4604), ('517', 4569), ('8535', 4555), ('3341', 4554), ('225206', 4552), ('3582', 4533), ('3580', 4533), ('3581', 4533), ('227366', 4518), ('3513', 4514), ('3385', 4486), ('226136', 4471), ('225237', 4469), ('7915', 4462), ('3333', 4439), ('855', 4434), ('225112', 4428), ('468', 4411), ('225672', 4401), ('225230', 4395), ('3642', 4392), ('220274', 4376), ('519', 4375), ('413', 4373), ('400', 4369), ('3512', 4368), ('521', 4363), ('224740', 4343), ('394', 4321), ('7914', 4313), ('225105', 4306), ('3664', 4286), ('285', 4284), ('5818', 4254), ('242', 4225), ('471', 4221), ('661', 4213), ('76', 4197), ('3615', 4188), ('56', 4157), ('375', 4156), ('3465', 4146), ('320', 4141), ('225638', 4135), ('123', 4114), ('8430', 4101), ('89', 4087), ('345', 4036), ('822', 4029), ('4188', 4022), ('4187', 4021), ('227570', 4008), ('225737', 3998), ('3445', 3996), ('857', 3995), ('58', 3991), ('224043', 3986), ('8521', 3976), ('224632', 3973), ('530', 3972), ('1481', 3970), ('717', 3945), ('387', 3940), ('8369', 3932), ('357', 3929), ('224888', 3899), ('3292', 3878), ('43', 3873), ('47', 3867), ('224391', 3856), ('3303', 3841), ('3565', 3825), ('227668', 3818), ('45', 3814), ('224909', 3811), ('3583', 3808), ('3692', 3804), ('472', 3800), ('473', 3775), ('220581', 3754), ('465', 3726), ('3295', 3717), ('504', 3687), ('227287', 3683), ('3690', 3674), ('721', 3665), ('224972', 3638), ('224923', 3626), ('8417', 3618), ('8371', 3597), ('3735', 3593), ('3563', 3580), ('3294', 3576), ('1391', 3572), ('664', 3571), ('224958', 3560), ('8482', 3554), ('225637', 3543), ('8552', 3537), ('223993', 3529), ('224806', 3528), ('223997', 3521), ('8406', 3516), ('223996', 3513), ('227358', 3511), ('3511', 3495), ('224775', 3490), ('223995', 3488), ('223994', 3482), ('224188', 3481), ('1704', 3480), ('225233', 3468), ('224931', 3467), ('303', 3454), ('227473', 3453), ('224633', 3446), ('363', 3424), ('224631', 3422), ('3765', 3411), ('327', 3408), ('223998', 3396), ('224945', 3385), ('223921', 3379), ('226115', 3378), ('224993', 3365), ('136', 3363), ('8403', 3363), ('388', 3343), ('223872', 3338), ('5911', 3305), ('591', 3295), ('1063', 3290), ('459', 3287), ('3626', 3266), ('8468', 3253), ('225013', 3249), ('121', 3245), ('850', 3242), ('225023', 3239), ('5909', 3196), ('5912', 3194), ('616', 3185), ('5907', 3183), ('8378', 3179), ('353', 3173), ('1401', 3169), ('1390', 3164), ('225004', 3160), ('225028', 3159), ('227801', 3159), ('8365', 3155), ('368', 3153), ('1402', 3151), ('3420', 3147), ('3810', 3118), ('228307', 3080), ('3631', 3061), ('5905', 3056), ('8418', 3054), ('8510', 3043), ('227454', 3028), ('225674', 3024), ('436', 3013), ('227455', 3012), ('224938', 2984), ('730', 2977), ('491', 2974), ('339', 2973), ('224170', 2945), ('629', 2944), ('424', 2920), ('228101', 2891), ('8435', 2883), ('228308', 2877), ('225085', 2874), ('719', 2870), ('225082', 2869), ('138', 2837), ('3384', 2832), ('227759', 2829), ('226473', 2812), ('224562', 2801), ('3803', 2792), ('3747', 2788), ('3792', 2787), ('227810', 2785), ('228098', 2774), ('224715', 2765), ('3732', 2759), ('227781', 2752), ('220061', 2730), ('224169', 2707), ('440', 2682), ('223955', 2680), ('224903', 2678), ('512', 2669), ('224846', 2664), ('380', 2663), ('223956', 2642), ('227700', 2616), ('227241', 2616), ('220066', 2614), ('135', 2613), ('228409', 2610), ('228412', 2609), ('228411', 2608), ('228410', 2607), ('220063', 2606), ('8438', 2605), ('228394', 2604), ('220059', 2604), ('220060', 2603), ('228397', 2602), ('228395', 2596), ('228396', 2593), ('223961', 2592), ('223968', 2586), ('1695', 2586), ('228414', 2586), ('8410', 2586), ('223967', 2585), ('1697', 2580), ('223970', 2580), ('1705', 2566), ('8380', 2565), ('228398', 2563), ('3438', 2563), ('224751', 2561), ('1696', 2561), ('226846', 2556), ('3665', 2552), ('3407', 2548), ('223962', 2542), ('3663', 2522), ('8423', 2521), ('1707', 2520), ('227350', 2519), ('224297', 2517), ('224834', 2506), ('225628', 2486), ('3547', 2470), ('224438', 2466), ('3329', 2466), ('227809', 2466), ('3660', 2465), ('3564', 2464), ('224839', 2461), ('224835', 2461), ('3477', 2458), ('3484', 2454), ('224390', 2452), ('3523', 2448), ('3428', 2445), ('3638', 2440), ('225693', 2438), ('3314', 2437), ('3315', 2436), ('1540', 2431), ('3429', 2429), ('224866', 2427), ('3430', 2425), ('3436', 2423), ('247', 2423), ('576', 2421), ('3628', 2419), ('3745', 2416), ('224101', 2408), ('216', 2397), ('226109', 2396), ('223958', 2394), ('567', 2392), ('8491', 2389), ('228343', 2385), ('228346', 2381), ('8395', 2373), ('228345', 2373), ('228344', 2372), ('3427', 2371), ('250', 2365), ('228393', 2364), ('3483', 2361), ('7151', 2356), ('570', 2341), ('224752', 2324), ('223960', 2311), ('609', 2310), ('3543', 2300), ('1328', 2300), ('551', 2297), ('3598', 2295), ('224753', 2288), ('225018', 2282), ('1330', 2281), ('3495', 2278), ('223679', 2273), ('226062', 2271), ('226063', 2271), ('1329', 2259), ('789', 2258), ('3630', 2253), ('851', 2249), ('224755', 2239), ('588', 2237), ('224754', 2234), ('601', 2231), ('224889', 2223), ('3374', 2220), ('223762', 2219), ('3419', 2209), ('3645', 2204), ('226713', 2200), ('223773', 2191), ('589', 2184), ('4753', 2184), ('602', 2179), ('3336', 2176), ('118', 2159), ('186', 2156), ('207', 2155), ('119', 2153), ('3480', 2136), ('3327', 2133), ('224910', 2125), ('224717', 2113), ('228399', 2110), ('3306', 2109), ('224808', 2091), ('3494', 2079), ('3605', 2071), ('8457', 2063), ('228009', 2052), ('227752', 2042), ('224427', 2041), ('224973', 2028), ('224924', 2026), ('376', 2020), ('228010', 2012), ('224425', 1994), ('224413', 1994), ('3570', 1991), ('224959', 1990), ('564', 1989), ('227585', 1987), ('802', 1985), ('224979', 1982), ('346', 1979), ('224932', 1979), ('129', 1974), ('8484', 1967), ('3576', 1964), ('226889', 1961), ('224777', 1957), ('224424', 1955), ('224426', 1952), ('3328', 1944), ('228297', 1937), ('228015', 1930), ('225722', 1927), ('358', 1923), ('224946', 1915), ('228016', 1915), ('224092', 1902), ('3460', 1898), ('3509', 1897), ('228303', 1888), ('3437', 1885), ('505', 1877), ('579', 1877), ('38', 1876), ('185', 1876), ('228336', 1874), ('558', 1873), ('1706', 1871), ('227539', 1868), ('225176', 1868), ('3503', 1857), ('224006', 1853), ('3422', 1851), ('224837', 1836), ('8407', 1829), ('649', 1829), ('227538', 1824), ('224065', 1824), ('836', 1820), ('227537', 1820), ('3555', 1818), ('223802', 1813), ('224965', 1807), ('224423', 1804), ('3421', 1800), ('3459', 1800), ('224662', 1784), ('224414', 1781), ('852', 1769), ('496', 1767), ('499', 1761), ('498', 1759), ('3551', 1757), ('224067', 1756), ('768', 1749), ('493', 1747), ('224986', 1740), ('3544', 1736), ('3549', 1725), ('3409', 1724), ('223938', 1724), ('224939', 1723), ('224998', 1723), ('3366', 1715), ('1524', 1712), ('225312', 1708), ('628', 1707), ('227663', 1705), ('364', 1694), ('225651', 1689), ('225309', 1680), ('497', 1680), ('224916', 1676), ('228400', 1669), ('573', 1667), ('99', 1665), ('3448', 1663), ('225310', 1660), ('101', 1652), ('8449', 1650), ('227662', 1649), ('224838', 1649), ('224025', 1645), ('100', 1643), ('102', 1643), ('286', 1642), ('692', 1639), ('690', 1636), ('8374', 1630), ('592', 1630), ('227463', 1628), ('199', 1628), ('500', 1626), ('225355', 1625), ('227351', 1623), ('225357', 1622), ('225684', 1621), ('8424', 1611), ('248', 1608), ('8469', 1603), ('691', 1595), ('228401', 1594), ('598', 1594), ('224951', 1594), ('3425', 1583), ('140', 1580), ('513', 1560), ('350', 1555), ('225358', 1555), ('8472', 1552), ('227516', 1550), ('93', 1547), ('225236', 1547), ('224904', 1547), ('3311', 1545), ('369', 1543), ('3525', 1541), ('223810', 1539), ('223806', 1537), ('223805', 1536), ('688', 1536), ('223811', 1535), ('223817', 1530), ('3400', 1528), ('223818', 1521), ('227461', 1520), ('223814', 1520), ('223824', 1519), ('223819', 1519), ('227664', 1519), ('223820', 1519), ('227666', 1516), ('225729', 1515), ('8479', 1511), ('3404', 1506), ('227782', 1504), ('226114', 1500), ('223821', 1499), ('220603', 1497), ('223823', 1495), ('793', 1495), ('227665', 1492), ('228300', 1486), ('3403', 1483), ('25', 1482), ('8517', 1478), ('3401', 1470), ('227667', 1468), ('427', 1462), ('224173', 1459), ('3836', 1457), ('3838', 1457), ('3839', 1455), ('381', 1453), ('3740', 1452), ('3809', 1452), ('561', 1448), ('220624', 1447), ('8436', 1444), ('1527', 1443), ('225209', 1439), ('340', 1434), ('853', 1433), ('3591', 1425), ('4203', 1422), ('4201', 1422), ('4202', 1420), ('4196', 1417), ('4199', 1417), ('224109', 1412), ('224327', 1411), ('419', 1410), ('223772', 1405), ('224328', 1403), ('3569', 1402), ('687', 1400), ('3518', 1399), ('224329', 1397), ('224330', 1395), ('227111', 1387), ('224110', 1382), ('227757', 1376), ('224106', 1375), ('1078', 1374), ('223829', 1371), ('224044', 1367), ('3837', 1366), ('223828', 1366), ('3835', 1366), ('74', 1365), ('225671', 1365), ('8463', 1361), ('856', 1359), ('223825', 1357), ('224890', 1354), ('228334', 1351), ('224332', 1351), ('163', 1349), ('224663', 1348), ('3808', 1341), ('57', 1340), ('224172', 1338), ('8503', 1337), ('224842', 1335), ('227113', 1333), ('225744', 1332), ('3681', 1329), ('227130', 1320), ('5913', 1316), ('223827', 1311), ('220088', 1310), ('224665', 1309), ('224121', 1306), ('449', 1304), ('224833', 1299), ('225052', 1297), ('201', 1293), ('1090', 1287), ('226329', 1279), ('8495', 1279), ('224379', 1266), ('8383', 1263), ('226479', 1261), ('1482', 1258), ('205', 1255), ('8389', 1255), ('224911', 1243), ('223949', 1240), ('8411', 1235), ('3337', 1235), ('507', 1235), ('227117', 1234), ('2000', 1234), ('3423', 1227), ('3566', 1221), ('490', 1219), ('224447', 1217), ('5816', 1216), ('224974', 1215), ('224925', 1208), ('224960', 1201), ('189', 1193), ('1520', 1191), ('3398', 1189), ('26', 1185), ('224418', 1183), ('8370', 1181), ('1421', 1179), ('3466', 1179), ('734', 1177), ('227684', 1174), ('228406', 1174), ('228404', 1173), ('3625', 1172), ('228407', 1172), ('223940', 1171), ('321', 1171), ('8526', 1170), ('228405', 1170), ('1430', 1168), ('1420', 1165), ('3641', 1159), ('1437', 1155), ('1423', 1154), ('8522', 1153), ('1428', 1152), ('1439', 1152), ('1432', 1152), ('3784', 1151), ('1436', 1150), ('134', 1146), ('1431', 1144), ('3785', 1143), ('224933', 1141), ('3736', 1140), ('3556', 1140), ('414', 1134), ('3399', 1131), ('224788', 1131), ('1424', 1130), ('403', 1126), ('226480', 1122), ('5908', 1122), ('3319', 1120), ('3318', 1118), ('224441', 1112), ('395', 1111), ('224980', 1110), ('1', 1109), ('8379', 1107), ('224947', 1105), ('224789', 1103), ('532', 1099), ('195', 1088), ('3538', 1085), ('801', 1085), ('194', 1082), ('838', 1080), ('3592', 1075), ('3351', 1072), ('225323', 1071), ('718', 1063), ('227357', 1060), ('3536', 1058), ('224966', 1053), ('227089', 1051), ('641', 1043), ('555', 1036), ('3317', 1035), ('3316', 1034), ('224563', 1033), ('3322', 1030), ('3323', 1030), ('8433', 1029), ('224829', 1026), ('8504', 1025), ('3321', 1023), ('8507', 1019), ('3320', 1018), ('8387', 1018), ('224940', 1018), ('223945', 1017), ('3405', 1016), ('382', 1014), ('597', 1013), ('603', 1013), ('224830', 1012), ('225225', 1011), ('225192', 1010), ('227352', 1008), ('8434', 1007), ('8506', 1007), ('225739', 1006), ('115', 1004), ('227446', 1003), ('1526', 1001), ('225227', 1001), ('224831', 1001), ('223939', 1000), ('529', 1000), ('8471', 1000), ('686', 998), ('3689', 997), ('3693', 989), ('226118', 986), ('227802', 985), ('223941', 983), ('8460', 981), ('3688', 980), ('223801', 978), ('8473', 975), ('227671', 975), ('3611', 975), ('223944', 973), ('8514', 969), ('8512', 965), ('225228', 963), ('224987', 960), ('227474', 957), ('223946', 951), ('224917', 944), ('8377', 944), ('849', 932), ('227124', 931), ('389', 929), ('224994', 928), ('8404', 927), ('204', 921), ('223926', 920), ('224952', 919), ('226108', 916), ('377', 900), ('224905', 898), ('3530', 897), ('225024', 895), ('586', 894), ('8470', 891), ('3746', 890), ('60', 887), ('1541', 887), ('225014', 884), ('347', 879), ('227783', 872), ('225029', 867), ('225949', 867), ('3346', 867), ('359', 863), ('227751', 862), ('225005', 861), ('804', 859), ('3488', 856), ('3614', 851), ('3595', 850), ('8391', 848), ('1699', 848), ('1433', 848), ('8483', 847), ('8419', 845), ('3617', 842), ('224066', 839), ('253', 836), ('224331', 833), ('3393', 830), ('8487', 827), ('494', 826), ('8493', 821), ('193', 819), ('3728', 813), ('3472', 812), ('1429', 810), ('3737', 808), ('256', 807), ('8396', 804), ('3396', 803), ('8486', 802), ('225', 800), ('55', 797), ('3750', 796), ('59', 796), ('62', 796), ('224', 794), ('3452', 793), ('666', 791), ('223763', 790), ('495', 788), ('153', 785), ('224891', 783), ('224661', 781), ('1426', 776), ('1434', 773), ('365', 770), ('228416', 767), ('224912', 767), ('228415', 761), ('4603', 746), ('1435', 742), ('227133', 741), ('226457', 740), ('226499', 739), ('227678', 738), ('3811', 733), ('227669', 728), ('227680', 727), ('354', 725), ('3684', 723), ('1422', 719), ('224439', 718), ('370', 717), ('224926', 716), ('225724', 716), ('227674', 712), ('1539', 712), ('554', 706), ('48', 701), ('5906', 701), ('44', 699), ('227583', 697), ('227440', 695), ('220650', 694), ('568', 693), ('227753', 687), ('224975', 686), ('224961', 683), ('64', 682), ('227676', 680), ('46', 680), ('225745', 679), ('571', 675), ('227187', 675), ('552', 665), ('224443', 663), ('1411', 661), ('341', 660), ('224844', 658), ('835', 655), ('3683', 654), ('225732', 654), ('227686', 651), ('68', 651), ('225019', 650), ('228229', 649), ('3382', 648), ('224680', 647), ('228234', 647), ('227578', 645), ('224934', 643), ('228231', 643), ('3352', 639), ('224981', 639), ('3467', 639), ('227681', 638), ('227682', 636), ('228230', 635), ('322', 634), ('224410', 633), ('224948', 633), ('227673', 632), ('228232', 631), ('224445', 631), ('487', 628), ('7074', 625), ('442', 625), ('225048', 624), ('508', 621), ('8523', 620), ('227470', 619), ('464', 619), ('8447', 618), ('177', 616), ('225043', 613), ('98', 606), ('404', 604), ('67', 604), ('8450', 601), ('630', 597), ('224090', 597), ('224796', 595), ('224967', 594), ('224941', 592), ('8534', 590), ('225695', 590), ('227444', 589), ('149', 586), ('443', 586), ('8458', 585), ('176', 584), ('463', 584), ('180', 583), ('224797', 579), ('287', 578), ('565', 577), ('441', 576), ('3579', 576), ('224988', 576), ('66', 574), ('148', 573), ('8366', 572), ('3381', 571), ('223847', 570), ('1624', 570), ('152', 566), ('226', 566), ('224918', 565), ('254', 565), ('8412', 560), ('224895', 560), ('8440', 560), ('227784', 558), ('559', 556), ('151', 553), ('224953', 552), ('92', 548), ('224906', 547), ('461', 545), ('179', 542), ('225636', 542), ('8439', 540), ('8425', 537), ('608', 534), ('224146', 531), ('224149', 530), ('224144', 530), ('462', 529), ('224152', 529), ('225976', 529), ('225183', 529), ('224150', 529), ('224151', 529), ('225977', 528), ('224191', 527), ('3757', 527), ('227589', 527), ('225379', 526), ('227577', 526), ('224153', 526), ('223972', 525), ('223973', 523), ('224154', 522), ('220580', 521), ('223971', 520), ('227805', 520), ('224716', 519), ('227290', 518), ('225738', 516), ('671', 516), ('192', 512), ('624', 512), ('611', 511), ('29', 510), ('574', 509), ('79', 509), ('227582', 509), ('227360', 508), ('173', 507), ('665', 506), ('607', 506), ('670', 505), ('227356', 505), ('224999', 504), ('606', 504), ('174', 504), ('224167', 503), ('3417', 500), ('8443', 497), ('3756', 495), ('164', 495), ('146', 495), ('142', 492), ('227125', 490), ('147', 489), ('224114', 487), ('225767', 486), ('227579', 485), ('8516', 485), ('227543', 485), ('224892', 482), ('224643', 480), ('226117', 478), ('3537', 478), ('6701', 476), ('6702', 476), ('124', 476), ('227586', 476), ('672', 474), ('612', 474), ('228335', 473), ('8555', 473), ('226183', 473), ('669', 473), ('225180', 473), ('673', 472), ('809', 472), ('562', 472), ('3370', 471), ('228233', 463), ('224810', 463), ('223925', 458), ('8384', 458), ('854', 457), ('224436', 456), ('224913', 456), ('668', 452), ('3831', 451), ('3830', 451), ('227546', 449), ('3832', 448), ('3829', 448), ('224406', 447), ('227243', 446), ('1811', 446), ('226184', 444), ('224404', 443), ('3777', 442), ('8408', 442), ('224359', 441), ('3775', 441), ('3773', 441), ('3774', 441), ('8500', 438), ('75', 437), ('460', 436), ('224432', 436), ('223800', 434), ('3432', 432), ('3516', 431), ('181', 431), ('8464', 430), ('227365', 428), ('227119', 427), ('228302', 423), ('223931', 421), ('225240', 420), ('224927', 419), ('224368', 419), ('226135', 419), ('220507', 418), ('178', 416), ('3482', 415), ('224804', 413), ('224976', 412), ('224803', 411), ('224366', 411), ('224779', 411), ('224430', 411), ('224434', 410), ('220765', 410), ('224962', 409), ('227242', 409), ('162', 409), ('227462', 407), ('378', 406), ('228296', 404), ('8501', 403), ('227807', 402), ('225347', 402), ('227943', 401), ('227418', 401), ('227580', 399), ('160', 399), ('224428', 397), ('3454', 397), ('348', 396), ('227120', 396), ('223932', 394), ('224935', 393), ('457', 392), ('227962', 390), ('7075', 389), ('5683', 388), ('224949', 388), ('805', 386), ('227439', 385), ('3647', 384), ('360', 383), ('228005', 380), ('225108', 378), ('226112', 375), ('224145', 374), ('3326', 373), ('3679', 370), ('223930', 368), ('3744', 366), ('228004', 365), ('228301', 364), ('3453', 362), ('223768', 360), ('223767', 359), ('224942', 358), ('3667', 356), ('223963', 356), ('227115', 353), ('227547', 353), ('1880', 352), ('227066', 352), ('224968', 351), ('3528', 350), ('224982', 349), ('228006', 348), ('227831', 347), ('3657', 347), ('371', 342), ('104', 342), ('106', 341), ('447', 341), ('3474', 341), ('509', 340), ('105', 340), ('224919', 340), ('3666', 340), ('366', 339), ('697', 337), ('227785', 337), ('107', 336), ('227836', 335), ('228309', 334), ('224907', 334), ('3324', 333), ('3325', 333), ('8375', 333), ('3496', 332), ('3367', 331), ('3822', 330), ('8451', 330), ('224954', 328), ('3817', 328), ('3816', 328), ('8508', 327), ('223797', 323), ('355', 323), ('224989', 323), ('228413', 322), ('227723', 321), ('556', 320), ('224019', 319), ('224845', 319), ('227728', 317), ('3599', 316), ('3310', 312), ('8531', 312), ('225772', 307), ('3819', 306), ('3640', 305), ('8461', 304), ('227835', 303), ('8550', 303), ('188', 302), ('225770', 302), ('225730', 301), ('228310', 299), ('227353', 298), ('3802', 297), ('227727', 297), ('3801', 296), ('693', 296), ('3307', 295), ('225692', 294), ('225217', 294), ('3424', 294), ('225747', 293), ('342', 290), ('224896', 290), ('227963', 290), ('224893', 289), ('226119', 289), ('3646', 289), ('227732', 288), ('227837', 287), ('224705', 286), ('4238', 284), ('3458', 284), ('632', 283), ('228402', 283), ('224411', 280), ('3818', 279), ('227985', 277), ('3', 277), ('224706', 277), ('227717', 277), ('4', 276), ('5', 276), ('224963', 275), ('224709', 274), ('224800', 273), ('2', 273), ('259', 273), ('224419', 272), ('224707', 272), ('227716', 271), ('647', 270), ('227830', 269), ('224914', 269), ('227629', 268), ('224711', 267), ('8413', 267), ('225725', 267), ('262', 266), ('227475', 265), ('415', 265), ('224977', 262), ('227755', 262), ('224712', 262), ('225771', 262), ('401', 261), ('224928', 260), ('8397', 260), ('3439', 259), ('3468', 259), ('8386', 259), ('223966', 258), ('396', 258), ('224713', 257), ('480', 256), ('150', 256), ('323', 255), ('227965', 255), ('3727', 254), ('226130', 254), ('225015', 253), ('63', 253), ('226129', 252), ('224801', 251), ('227363', 251), ('227731', 251), ('224995', 251), ('226133', 250), ('226134', 250), ('577', 248), ('223840', 248), ('8524', 246), ('225025', 245), ('481', 244), ('224311', 243), ('224309', 243), ('224322', 243), ('224652', 243), ('569', 243), ('224654', 243), ('224310', 243), ('8444', 242), ('225723', 241), ('227858', 241), ('227632', 240), ('225341', 238), ('225339', 237), ('225982', 237), ('390', 237), ('224710', 236), ('225986', 236), ('226110', 236), ('227832', 236), ('224069', 235), ('3584', 235), ('3557', 235), ('227730', 234), ('225988', 234), ('484', 234), ('8431', 234), ('227966', 234), ('227355', 234), ('224178', 234), ('572', 233), ('225006', 233), ('225342', 233), ('224936', 232), ('225985', 232), ('227487', 232), ('227630', 232), ('227762', 231), ('383', 230), ('227861', 230), ('1639', 230), ('227834', 230), ('224113', 228), ('225030', 228), ('810', 228), ('224983', 227), ('553', 226), ('225981', 226), ('227631', 226), ('3827', 225), ('225979', 225), ('224950', 225), ('225987', 223), ('225980', 222), ('3540', 222), ('792', 220), ('485', 220), ('224969', 219), ('940', 219), ('8446', 219), ('8505', 218), ('224176', 217), ('225984', 217), ('227627', 216), ('227860', 214), ('3550', 214), ('486', 213), ('8409', 213), ('8420', 213), ('4189', 213), ('227761', 212), ('224367', 212), ('1673', 211), ('228097', 210), ('227628', 209), ('8459', 208), ('227634', 208), ('3502', 208), ('227870', 206), ('3546', 205), ('224943', 205), ('2921', 204), ('227864', 204), ('224990', 203), ('224392', 203), ('227786', 202), ('3457', 202), ('1211', 202), ('227964', 202), ('1650', 201), ('227873', 200), ('225020', 200), ('546', 200), ('224920', 199), ('560', 196), ('224955', 195), ('227348', 195), ('227754', 194), ('3497', 194), ('225740', 192), ('224908', 191), ('227980', 191), ('566', 191), ('227771', 190), ('223942', 189), ('8527', 188), ('227867', 187), ('226815', 187), ('224175', 186), ('523', 182), ('2139', 181), ('227846', 181), ('223771', 181), ('288', 180), ('228419', 179), ('3793', 179), ('225142', 178), ('8455', 178), ('3796', 178), ('224897', 177), ('260', 176), ('213', 176), ('209', 176), ('986', 175), ('227866', 174), ('227872', 173), ('537', 173), ('575', 172), ('224691', 172), ('405', 172), ('224420', 172), ('224894', 172), ('826', 171), ('225331', 171), ('539', 169), ('227359', 169), ('226892', 169), ('224070', 167), ('1596', 167), ('225044', 167), ('103', 167), ('227916', 167), ('8426', 166), ('224646', 166), ('223954', 166), ('4504', 165), ('226094', 165), ('223953', 164), ('808', 163), ('224978', 163), ('133', 163), ('224746', 162), ('223952', 162), ('563', 162), ('224747', 162), ('4225', 161), ('225764', 160), ('3288', 159), ('227919', 159), ('143', 159), ('224856', 159), ('3828', 159), ('8498', 158), ('224964', 158), ('225000', 157), ('227915', 157), ('227845', 157), ('735', 156), ('224915', 155), ('227839', 154), ('223765', 154), ('8465', 153), ('227841', 152), ('227967', 152), ('224929', 151), ('1438', 151), ('1486', 150), ('542', 150), ('224645', 149), ('224984', 148), ('482', 148), ('224064', 148), ('226092', 147), ('5035', 146), ('372', 146), ('8363', 145), ('227840', 145), ('228007', 145), ('227918', 144), ('217', 144), ('3479', 143), ('224676', 143), ('227606', 143), ('228008', 142), ('8362', 142), ('503', 141), ('1340', 141), ('223764', 141), ('483', 141), ('8489', 141), ('224668', 141), ('224671', 140), ('3554', 140), ('224669', 140), ('3345', 139), ('224677', 139), ('224670', 139), ('3402', 139), ('224667', 139), ('224674', 139), ('224673', 138), ('224672', 138), ('4267', 137), ('3485', 137), ('224666', 137), ('1700', 137), ('224675', 137), ('3486', 136), ('224970', 136), ('227612', 136), ('227441', 136), ('225239', 135), ('435', 135), ('227451', 135), ('5492', 135), ('224791', 135), ('65', 134), ('224991', 134), ('226121', 133), ('3383', 133), ('41', 133), ('8511', 133), ('538', 133), ('224921', 133), ('227847', 133), ('224956', 132), ('224792', 132), ('224442', 132), ('227608', 131), ('844', 131), ('8445', 129), ('227812', 129), ('1701', 129), ('3624', 128), ('3578', 128), ('228318', 127), ('78', 127), ('1567', 126), ('224702', 126), ('224456', 126), ('227449', 125), ('223766', 123), ('225182', 123), ('437', 123), ('226096', 123), ('520', 122), ('227725', 121), ('227787', 121), ('225958', 121), ('3573', 120), ('8462', 119), ('228368', 119), ('225387', 117), ('226116', 117), ('227419', 117), ('224375', 117), ('227626', 117), ('702', 115), ('3601', 114), ('224647', 113), ('228375', 113), ('3671', 113), ('227598', 113), ('227923', 112), ('225389', 111), ('379', 111), ('1565', 111), ('227930', 110), ('349', 110), ('224192', 110), ('361', 110), ('224062', 110), ('227922', 109), ('223836', 109), ('227447', 108), ('8414', 108), ('3394', 107), ('1546', 107), ('227670', 106), ('227933', 106), ('1813', 106), ('227905', 106), ('225388', 105), ('228376', 105), ('228369', 104), ('3223', 104), ('227594', 103), ('227127', 103), ('583', 102), ('81', 102), ('557', 101), ('227591', 101), ('227600', 101), ('227926', 101), ('220194', 101), ('227929', 100), ('8494', 99), ('225191', 99), ('227469', 99), ('227848', 98), ('228373', 98), ('227616', 98), ('1537', 98), ('367', 98), ('227925', 98), ('227620', 97), ('265', 97), ('227452', 97), ('228374', 97), ('224985', 96), ('225742', 95), ('268', 95), ('726', 94), ('4370', 93), ('724', 93), ('227604', 93), ('224446', 93), ('8398', 92), ('227815', 92), ('3600', 92), ('351', 92), ('227932', 91), ('8372', 91), ('727', 90), ('224898', 90), ('725', 89), ('1010', 89), ('310', 89), ('846', 89), ('3369', 88), ('308', 88), ('3418', 87), ('4209', 87), ('224855', 87), ('227134', 86), ('4256', 85), ('224992', 85), ('224854', 85), ('1702', 84), ('6051', 84), ('224068', 84), ('228177', 84), ('4568', 84), ('224063', 84), ('343', 83), ('227764', 83), ('227788', 82), ('225750', 82), ('3755', 82), ('224389', 82), ('224704', 82), ('224971', 81), ('728', 81), ('384', 80), ('4372', 80), ('227613', 80), ('3596', 80), ('3471', 80), ('3469', 80), ('224440', 79), ('667', 79), ('228182', 79), ('226504', 79), ('3670', 79), ('227607', 79), ('710', 77), ('1022', 77), ('225989', 77), ('24', 77), ('61', 77), ('225190', 76), ('227609', 76), ('8525', 75), ('741', 75), ('416', 75), ('1382', 75), ('225806', 75), ('228178', 75), ('458', 74), ('729', 73), ('227567', 73), ('228102', 73), ('225728', 73), ('3377', 72), ('8385', 72), ('225990', 72), ('402', 72), ('224957', 72), ('224922', 71), ('225807', 71), ('227726', 71), ('224444', 71), ('224181', 71), ('397', 70), ('227813', 70), ('226125', 70), ('225956', 70), ('3455', 70), ('227599', 70), ('3725', 69), ('227476', 69), ('391', 69), ('225965', 68), ('820', 68), ('225735', 68), ('228372', 68), ('3456', 67), ('3397', 67), ('4340', 67), ('970', 67), ('8519', 67), ('227549', 66), ('224996', 66), ('228377', 66), ('227448', 66), ('228184', 65), ('8421', 65), ('226120', 65), ('227760', 65), ('4194', 65), ('4419', 65), ('3380', 65), ('4326', 65), ('1375', 64), ('1632', 64), ('8442', 64), ('225016', 64), ('228370', 63), ('453', 63), ('8405', 63), ('3372', 63), ('8432', 63), ('227354', 63), ('228175', 63), ('4599', 63), ('501', 63), ('225026', 63), ('225760', 63), ('227364', 63), ('225951', 62), ('225395', 62), ('8520', 62), ('474', 62), ('226140', 62), ('227595', 61), ('842', 61), ('224859', 61), ('225031', 60), ('703', 60), ('91', 60), ('3363', 60), ('406', 60), ('1658', 60), ('3444', 60), ('125', 59), ('8513', 59), ('36', 59), ('3365', 59), ('224899', 58), ('227621', 58), ('3567', 58), ('225007', 58), ('993', 58), ('3362', 57), ('227622', 57), ('4654', 57), ('3504', 57), ('227590', 55), ('289', 55), ('4707', 55), ('227618', 55), ('225021', 55), ('225045', 55), ('653', 55), ('227672', 55), ('3510', 55), ('224814', 54), ('698', 54), ('4585', 54), ('227602', 54), ('227601', 54), ('225743', 54), ('225810', 53), ('266', 53), ('694', 53), ('228180', 53), ('228185', 53), ('225953', 53), ('8427', 53), ('227675', 53), ('227614', 53), ('4279', 52), ('225963', 52), ('227131', 52), ('228179', 52), ('35', 52), ('220120', 52), ('4641', 52), ('3498', 52), ('227679', 52), ('227853', 52), ('228382', 51), ('502', 51), ('227617', 51), ('227624', 50), ('109', 50), ('3766', 50), ('224091', 50), ('227605', 50), ('228176', 49), ('3343', 49), ('227362', 49), ('225371', 49), ('227460', 49), ('225001', 49), ('4867', 49), ('110', 49), ('1578', 49), ('4217', 49), ('111', 49), ('715', 49), ('1466', 48), ('226122', 48), ('8376', 48), ('227653', 48), ('1599', 48), ('711', 48), ('227683', 48), ('224858', 47), ('227881', 47), ('112', 47), ('407', 47), ('1872', 46), ('311', 46), ('713', 46), ('309', 46), ('3658', 46), ('224857', 46), ('4353', 46), ('3463', 46), ('228311', 46), ('3668', 45), ('832', 45), ('224812', 45), ('3724', 45), ('3612', 45), ('228290', 45), ('4595', 45), ('1743', 45), ('831', 45), ('228293', 45), ('4889', 45), ('227568', 44), ('224437', 44), ('4230', 44), ('224433', 43), ('7078', 43), ('228381', 43), ('227789', 43), ('224749', 43), ('1066', 42), ('3651', 42), ('227128', 42), ('228292', 42), ('224431', 42), ('3618', 42), ('227129', 42), ('3522', 42), ('224429', 42), ('227636', 42), ('6381', 42), ('227763', 41), ('996', 41), ('4193', 41), ('3356', 41), ('224781', 41), ('224435', 41), ('226131', 41), ('227677', 41), ('1464', 40), ('227581', 40), ('4412', 40), ('3661', 40), ('4625', 40), ('373', 40), ('534', 40), ('227450', 40), ('228294', 40), ('224900', 40), ('4252', 39), ('228420', 39), ('847', 39), ('3350', 39), ('225398', 39), ('2129', 38), ('227758', 38), ('3606', 38), ('224743', 38), ('228312', 38), ('4539', 38), ('224728', 38), ('1616', 37), ('155', 37), ('227808', 37), ('972', 36), ('1600', 36), ('3786', 36), ('227652', 36), ('654', 36), ('227981', 36), ('8538', 36), ('224061', 36), ('3517', 36), ('1659', 36), ('1121', 36), ('224750', 35), ('4273', 35), ('5017', 35), ('4235', 35), ('227806', 35), ('5914', 35), ('225397', 35), ('4549', 35), ('5919', 35), ('271', 35), ('28', 35), ('1048', 35), ('227775', 35), ('2579', 34), ('274', 34), ('227619', 34), ('1418', 33), ('3672', 33), ('3622', 33), ('4362', 33), ('1566', 33), ('8399', 33), ('4237', 32), ('1336', 32), ('225768', 32), ('227623', 32), ('4241', 32), ('108', 32), ('227982', 31), ('3639', 31), ('227651', 31), ('4556', 31), ('3726', 31), ('4227', 30), ('8415', 30), ('510', 30), ('8452', 30), ('385', 30), ('3524', 30), ('225734', 29), ('4812', 29), ('224166', 29), ('227603', 29), ('226152', 28), ('1738', 28), ('227615', 28), ('2146', 28), ('5048', 28), ('4349', 28), ('4191', 27), ('227648', 27), ('4320', 27), ('4195', 27), ('812', 27), ('4192', 27), ('3376', 27), ('1492', 27), ('4875', 27), ('226144', 26), ('3676', 26), ('227625', 26), ('224452', 26), ('227983', 26), ('1015', 26), ('3388', 26), ('681', 26), ('1551', 26), ('2059', 25), ('4281', 25), ('4383', 25), ('3673', 25), ('3633', 25), ('225952', 25), ('4239', 25), ('225726', 25), ('3637', 25), ('227986', 25), ('227984', 25), ('3249', 25), ('227596', 24), ('3545', 24), ('701', 24), ('4334', 24), ('4511', 24), ('225749', 24), ('1115', 24), ('4622', 24), ('7076', 24), ('968', 24), ('4605', 23), ('1054', 23), ('3392', 23), ('3426', 23), ('3514', 23), ('3532', 23), ('1892', 23), ('224112', 23), ('2976', 22), ('4243', 22), ('1503', 22), ('5727', 22), ('6049', 22), ('224317', 21), ('225032', 21), ('1761', 21), ('4310', 21), ('227477', 21), ('650', 21), ('3414', 21), ('290', 21), ('845', 21), ('1591', 21), ('1653', 21), ('716', 21), ('224315', 21), ('3687', 20), ('3433', 20), ('6282', 20), ('4389', 20), ('224997', 20), ('5726', 20), ('4729', 20), ('2644', 20), ('4534', 20), ('4415', 20), ('4299', 20), ('4739', 20), ('1499', 20), ('4311', 20), ('3475', 20), ('4377', 20), ('227772', 20), ('225027', 20), ('225424', 20), ('1685', 20), ('225017', 20), ('4355', 20), ('225003', 20), ('2072', 19), ('4801', 19), ('223', 19), ('272', 19), ('3296', 19), ('4219', 19), ('3449', 19), ('5032', 19), ('228017', 19), ('227991', 19), ('225422', 19), ('3442', 19), ('4347', 19), ('1910', 19), ('1662', 18), ('4844', 18), ('3297', 18), ('4426', 18), ('3354', 18), ('225759', 18), ('228444', 18), ('4467', 18), ('1510', 18), ('1684', 18), ('708', 18), ('224901', 18), ('3391', 18), ('4810', 18), ('222', 18), ('1060', 18), ('228380', 17), ('3358', 17), ('3347', 17), ('5630', 17), ('2287', 17), ('1746', 17), ('53', 17), ('225194', 17), ('228018', 17), ('4716', 17), ('4278', 17), ('3014', 17), ('225022', 17), ('445', 16), ('3344', 16), ('709', 16), ('408', 16), ('3378', 16), ('228443', 16), ('4480', 16), ('5262', 16), ('1223', 16), ('225748', 16), ('228442', 16), ('6453', 16), ('224457', 16), ('4545', 16), ('3492', 16), ('1487', 16), ('8533', 16), ('226738', 15), ('225002', 15), ('4952', 15), ('4296', 15), ('8481', 15), ('4947', 15), ('638', 15), ('1571', 15), ('3807', 15), ('227990', 15), ('224314', 15), ('4437', 15), ('226748', 15), ('3594', 15), ('4513', 15), ('6451', 15), ('226745', 15), ('429', 15), ('224318', 14), ('225411', 14), ('226773', 14), ('225046', 14), ('226761', 14), ('225959', 14), ('226756', 14), ('1671', 14), ('226778', 14), ('226758', 14), ('226743', 14), ('1965', 14), ('4223', 14), ('226763', 14), ('226766', 14), ('226779', 14), ('225731', 14), ('226767', 14), ('227647', 14), ('3299', 14), ('226777', 14), ('226751', 14), ('4548', 14), ('226774', 14), ('226764', 14), ('226765', 14), ('226739', 14), ('226744', 14), ('226771', 14), ('226755', 14), ('226768', 14), ('226760', 14), ('5045', 14), ('226757', 14), ('1367', 14), ('4648', 14), ('226775', 14), ('4986', 14), ('1101', 14), ('1003', 13), ('4792', 13), ('226749', 13), ('3644', 13), ('3695', 13), ('226776', 13), ('3219', 13), ('1633', 13), ('227649', 13), ('4564', 13), ('5612', 13), ('226170', 13), ('3539', 13), ('4795', 13), ('5012', 13), ('1742', 13), ('5015', 13), ('1513', 13), ('226762', 13), ('4240', 13), ('226780', 13), ('639', 13), ('4813', 13), ('226772', 13), ('4910', 13), ('226753', 13), ('3302', 12), ('4215', 12), ('1621', 12), ('225419', 12), ('226759', 12), ('2022', 12), ('4743', 12), ('2716', 12), ('4911', 12), ('4677', 12), ('175', 12), ('4525', 12), ('226991', 12), ('5020', 12), ('2993', 12), ('613', 12), ('225751', 12), ('4619', 12), ('1568', 12), ('6851', 12), ('4793', 12), ('227642', 12), ('1506', 12), ('4476', 12), ('1404', 12), ('226752', 12), ('6333', 12), ('227989', 12), ('2305', 12), ('1734', 12), ('4208', 12), ('4220', 12), ('1710', 12), ('1637', 12), ('3390', 12), ('4251', 12), ('4228', 12), ('3548', 12), ('226272', 12), ('1233', 12), ('226993', 12), ('712', 12), ('4414', 12), ('1366', 11), ('1119', 11), ('225746', 11), ('3298', 11), ('227650', 11), ('1032', 11), ('225736', 11), ('4905', 11), ('1120', 11), ('1667', 11), ('4918', 11), ('2509', 11), ('4601', 11), ('2194', 11), ('225420', 11), ('1001', 11), ('3593', 11), ('8530', 11), ('4669', 11), ('3562', 11), ('225961', 11), ('1668', 11), ('228447', 11), ('3678', 11), ('228445', 11), ('600', 11), ('3553', 11), ('4407', 11), ('448', 11), ('1654', 11), ('4732', 11), ('4788', 11), ('7921', 11), ('228449', 11), ('4475', 11), ('4466', 11), ('946', 10), ('228195', 10), ('226754', 10), ('6627', 10), ('228198', 10), ('2872', 10), ('4850', 10), ('4538', 10), ('225416', 10), ('225421', 10), ('228199', 10), ('225418', 10), ('1803', 10), ('228186', 10), ('225417', 10), ('8496', 10), ('225423', 10), ('228187', 10), ('228188', 10), ('228193', 10), ('228190', 10), ('4445', 10), ('226769', 10), ('1692', 10), ('5485', 10), ('225741', 10), ('4557', 10), ('7108', 10), ('3788', 10), ('227453', 10), ('5483', 10), ('4750', 10), ('3364', 10), ('6330', 10), ('2029', 10), ('3643', 10), ('228200', 10), ('4948', 10), ('6454', 10), ('3330', 10), ('1891', 10), ('1669', 10), ('228196', 10), ('4388', 10), ('5729', 10), ('228213', 9), ('956', 9), ('228203', 9), ('1348', 9), ('4632', 9), ('1853', 9), ('1407', 9), ('228208', 9), ('5651', 9), ('2161', 9), ('511', 9), ('699', 9), ('228219', 9), ('228214', 9), ('4960', 9), ('1136', 9), ('228222', 9), ('1070', 9), ('228225', 9), ('1514', 9), ('4213', 9), ('228216', 9), ('1898', 9), ('228226', 9), ('4272', 9), ('944', 9), ('4354', 9), ('226747', 9), ('4410', 9), ('228191', 9), ('8453', 9), ('2307', 9), ('4684', 9), ('4249', 9), ('2074', 9), ('695', 9), ('533', 9), ('409', 9), ('5625', 9), ('6375', 9), ('228224', 9), ('3109', 9), ('5756', 9), ('1027', 9), ('220245', 9), ('1313', 9), ('228212', 9), ('4390', 9), ('4888', 9), ('1188', 8), ('6013', 8), ('774', 8), ('228210', 8), ('4436', 8), ('228227', 8), ('1383', 8), ('4706', 8), ('4350', 8), ('3033', 8), ('1666', 8), ('228223', 8), ('7095', 8), ('226737', 8), ('4689', 8), ('4514', 8), ('4560', 8), ('6038', 8), ('1735', 8), ('1395', 8), ('4262', 8), ('1711', 8), ('1342', 8), ('4761', 8), ('1056', 8), ('4623', 8), ('1028', 8), ('2432', 8), ('1394', 8), ('6012', 8), ('5024', 8), ('4956', 8), ('6010', 8), ('941', 8), ('2373', 8), ('5605', 8), ('1229', 8), ('6346', 7), ('1879', 7), ('227007', 7), ('226982', 7), ('226999', 7), ('5663', 7), ('5764', 7), ('227061', 7), ('227006', 7), ('227057', 7), ('228145', 7), ('226996', 7), ('4555', 7), ('226994', 7), ('1690', 7), ('2455', 7), ('227063', 7), ('1689', 7), ('225047', 7), ('227051', 7), ('227005', 7), ('6', 7), ('227052', 7), ('2103', 7), ('1102', 7), ('3521', 7), ('227003', 7), ('220283', 7), ('227004', 7), ('5707', 7), ('227020', 7), ('225410', 7), ('2003', 7), ('5036', 7), ('438', 7), ('3489', 7), ('4524', 7), ('226984', 7), ('227017', 7), ('1691', 7), ('4571', 7), ('227035', 7), ('226750', 7), ('227001', 7), ('227013', 7), ('6344', 7), ('8497', 7), ('3168', 7), ('5556', 7), ('228194', 7), ('1722', 7), ('5706', 7), ('227055', 7), ('1393', 7), ('227024', 7), ('227854', 7), ('227519', 7), ('226995', 7), ('227022', 7), ('2935', 7), ('7454', 7), ('5626', 7), ('1602', 7), ('6556', 7), ('6119', 7), ('226979', 7), ('782', 7), ('3209', 7), ('2789', 7), ('5248', 7), ('4212', 7), ('1858', 7), ('227059', 7), ('227002', 7), ('4420', 7), ('4236', 7), ('3098', 7), ('4271', 7), ('227060', 7), ('227019', 7), ('227015', 7), ('4597', 7), ('227016', 7), ('226990', 7), ('7161', 7), ('227062', 7), ('7896', 7), ('5957', 7), ('4862', 7), ('4540', 7), ('227053', 7), ('6121', 7), ('228192', 7), ('227038', 7), ('987', 7), ('226980', 7), ('2339', 7), ('227000', 7), ('227021', 7), ('2311', 7), ('2778', 6), ('4994', 6), ('6180', 6), ('6395', 6), ('2125', 6), ('4544', 6), ('5461', 6), ('469', 6), ('4649', 6), ('4817', 6), ('4587', 6), ('4590', 6), ('227054', 6), ('227638', 6), ('5106', 6), ('3263', 6), ('2064', 6), ('1663', 6), ('37', 6), ('1996', 6), ('2066', 6), ('5543', 6), ('227050', 6), ('1474', 6), ('4791', 6), ('2823', 6), ('1118', 6), ('4406', 6), ('4617', 6), ('225954', 6), ('1665', 6), ('1108', 6), ('7073', 6), ('3204', 6), ('224455', 6), ('5760', 6), ('1651', 6), ('6379', 6), ('2451', 6), ('3531', 6), ('4970', 6), ('1226', 6), ('3416', 6), ('4783', 6), ('228189', 6), ('4929', 6), ('226998', 6), ('2056', 6), ('1331', 6), ('8536', 6), ('4588', 6), ('2826', 6), ('1570', 6), ('3748', 6), ('227023', 6), ('6396', 6), ('228211', 6), ('6621', 6), ('4855', 6), ('2450', 6), ('4806', 6), ('3036', 6), ('7349', 6), ('228379', 6), ('4914', 6), ('225196', 6), ('6267', 6), ('4797', 6), ('6778', 6), ('4708', 6), ('6230', 6), ('1203', 6), ('227018', 6), ('2699', 6), ('1508', 6), ('225415', 6), ('2355', 6), ('5141', 6), ('2687', 6), ('228451', 6), ('4435', 6), ('977', 6), ('228146', 6), ('1582', 6), ('6312', 6), ('227597', 6), ('6384', 5), ('1117', 5), ('5051', 5), ('1640', 5), ('4342', 5), ('7515', 5), ('1352', 5), ('5394', 5), ('2565', 5), ('1948', 5), ('1594', 5), ('5066', 5), ('1781', 5), ('2466', 5), ('1343', 5), ('5192', 5), ('5523', 5), ('1725', 5), ('1718', 5), ('5469', 5), ('1688', 5), ('4369', 5), ('5153', 5), ('2344', 5), ('1051', 5), ('226987', 5), ('2936', 5), ('2460', 5), ('5353', 5), ('226740', 5), ('1371', 5), ('4282', 5), ('4820', 5), ('1507', 5), ('4701', 5), ('4542', 5), ('2006', 5), ('6719', 5), ('4660', 5), ('5828', 5), ('1062', 5), ('226985', 5), ('4386', 5), ('2937', 5), ('1758', 5), ('6095', 5), ('227010', 5), ('34', 5), ('4902', 5), ('7259', 5), ('5293', 5), ('227644', 5), ('1687', 5), ('7414', 5), ('3050', 5), ('5950', 5), ('1586', 5), ('7431', 5), ('1311', 5), ('228378', 5), ('6178', 5), ('4204', 5), ('531', 5), ('3058', 5), ('225413', 5), ('1491', 5), ('819', 5), ('4607', 5), ('5470', 5), ('4472', 5), ('6963', 5), ('1324', 5), ('4950', 5), ('1870', 5), ('3131', 5), ('5952', 5), ('7745', 5), ('3126', 5), ('227850', 5), ('224660', 5), ('4651', 5), ('4606', 5), ('6201', 5), ('6690', 5), ('794', 5), ('6645', 5), ('5620', 5), ('6299', 5), ('5921', 5), ('227643', 5), ('4449', 5), ('1982', 5), ('7300', 5), ('226746', 5), ('2265', 5), ('6378', 4), ('2119', 4), ('2376', 4), ('2779', 4), ('3001', 4), ('5603', 4), ('5200', 4), ('1822', 4), ('1097', 4), ('2792', 4), ('3309', 4), ('4951', 4), ('5434', 4), ('5431', 4), ('2957', 4), ('1824', 4), ('4966', 4), ('1457', 4), ('1359', 4), ('6864', 4), ('5667', 4), ('1093', 4), ('3210', 4), ('6278', 4), ('5265', 4), ('2492', 4), ('4663', 4), ('5043', 4), ('1122', 4), ('1575', 4), ('227640', 4), ('2397', 4), ('2824', 4), ('7983', 4), ('227036', 4), ('4263', 4), ('5841', 4), ('2123', 4), ('5757', 4), ('1187', 4), ('5123', 4), ('2143', 4), ('3286', 4), ('5340', 4), ('1720', 4), ('4954', 4), ('4218', 4), ('4246', 4), ('4713', 4), ('2831', 4), ('5982', 4), ('7469', 4), ('132', 4), ('5075', 4), ('7856', 4), ('2924', 4), ('8159', 4), ('227855', 4), ('2498', 4), ('2359', 4), ('2201', 4), ('5500', 4), ('1104', 4), ('2203', 4), ('7033', 4), ('1495', 4), ('6975', 4), ('4527', 4), ('4789', 4), ('1904', 4), ('6308', 4), ('224449', 4), ('5281', 4), ('3212', 4), ('7379', 4), ('3211', 4), ('2095', 4), ('3349', 4), ('4385', 4), ('2280', 4), ('5528', 4), ('1581', 4), ('2570', 4), ('6033', 4), ('6537', 4), ('227037', 4), ('4579', 4), ('228204', 4), ('1630', 4), ('5309', 4), ('4478', 4), ('5115', 4), ('4858', 4), ('1580', 4), ('226541', 4), ('8528', 4), ('2127', 4), ('2107', 4), ('1737', 4), ('5754', 4), ('4953', 4), ('4289', 4), ('2815', 4), ('4769', 4), ('6336', 4), ('5455', 4), ('2131', 4), ('5396', 4), ('5675', 4), ('5617', 4), ('6754', 4), ('3122', 4), ('6409', 4), ('3034', 4), ('3082', 4), ('1963', 4), ('5080', 4), ('6960', 4), ('4650', 4), ('4321', 4), ('6631', 3), ('4738', 3), ('228392', 3), ('4462', 3), ('2164', 3), ('6102', 3), ('6177', 3), ('1987', 3), ('6273', 3), ('7602', 3), ('228217', 3), ('4391', 3), ('2386', 3), ('1664', 3), ('4433', 3), ('7319', 3), ('1325', 3), ('220128', 3), ('7226', 3), ('6753', 3), ('5439', 3), ('5606', 3), ('536', 3), ('5641', 3), ('2516', 3), ('1496', 3), ('5769', 3), ('6939', 3), ('4503', 3), ('4941', 3), ('6656', 3), ('4615', 3), ('5199', 3), ('227639', 3), ('4477', 3), ('544', 3), ('4373', 3), ('6081', 3), ('4770', 3), ('2369', 3), ('7574', 3), ('1648', 3), ('5282', 3), ('2929', 3), ('4799', 3), ('5660', 3), ('1595', 3), ('7268', 3), ('6103', 3), ('6686', 3), ('4461', 3), ('1569', 3), ('4292', 3), ('6622', 3), ('6100', 3), ('6213', 3), ('4210', 3), ('3169', 3), ('1682', 3), ('2033', 3), ('6326', 3), ('4375', 3), ('4843', 3), ('1638', 3), ('1410', 3), ('5877', 3), ('2493', 3), ('3051', 3), ('6148', 3), ('2484', 3), ('1380', 3), ('1467', 3), ('226981', 3), ('2544', 3), ('5677', 3), ('4381', 3), ('3160', 3), ('227646', 3), ('5755', 3), ('6663', 3), ('6315', 3), ('4250', 3), ('2739', 3), ('4937', 3), ('6099', 3), ('4723', 3), ('5904', 3), ('5450', 3), ('4898', 3), ('5648', 3), ('5283', 3), ('4900', 3), ('3202', 3), ('7277', 3), ('2641', 3), ('4613', 3), ('1681', 3), ('7550', 3), ('4702', 3), ('226986', 3), ('4532', 3), ('4561', 3), ('5321', 3), ('4816', 3), ('6046', 3), ('2196', 3), ('4790', 3), ('2834', 3), ('1821', 3), ('191', 3), ('2185', 3), ('220125', 3), ('7890', 3), ('2616', 3), ('5213', 3), ('1614', 3), ('2316', 3), ('4676', 3), ('1674', 3), ('2341', 3), ('3114', 3), ('7118', 3), ('1455', 3), ('1193', 3), ('1515', 3), ('2039', 3), ('2382', 3), ('6101', 3), ('6215', 3), ('6261', 3), ('1077', 3), ('3030', 3), ('3265', 3), ('2052', 3), ('3113', 3), ('1679', 3), ('7908', 3), ('5548', 3), ('2062', 3), ('2913', 3), ('5421', 3), ('6536', 3), ('1745', 3), ('5521', 3), ('1615', 3), ('5404', 3), ('4972', 3), ('7599', 3), ('1310', 3), ('2053', 3), ('227459', 3), ('2757', 3), ('6522', 3), ('5694', 3), ('4315', 3), ('3067', 3), ('4371', 3), ('224453', 3), ('4647', 3), ('2730', 3), ('4925', 3), ('1723', 3), ('5113', 3), ('1847', 3), ('1587', 3), ('4298', 3), ('2042', 3), ('1837', 3), ('2002', 3), ('1363', 3), ('1976', 3), ('2226', 3), ('2340', 3), ('6417', 3), ('1655', 3), ('2907', 3), ('2947', 3), ('1133', 3), ('5025', 3), ('227645', 3), ('7585', 3), ('7652', 3), ('3490', 3), ('1222', 3), ('4630', 3), ('4364', 3), ('1676', 3), ('3751', 3), ('6200', 3), ('6073', 3), ('8364', 3), ('5753', 3), ('1675', 3), ('1227', 3), ('3047', 3), ('227458', 3), ('4543', 3), ('6173', 3), ('4887', 3), ('5701', 3), ('2445', 3), ('2669', 3), ('2968', 3), ('4312', 3), ('8011', 3), ('2717', 3), ('4976', 3), ('1000', 3), ('5656', 3), ('7027', 3), ('6782', 3), ('3142', 3), ('5565', 3), ('2150', 3), ('1555', 2), ('1134', 2), ('7587', 2), ('2652', 2), ('2486', 2), ('6071', 2), ('4319', 2), ('6408', 2), ('7792', 2), ('1732', 2), ('2987', 2), ('2020', 2), ('5933', 2), ('1727', 2), ('228164', 2), ('6268', 2), ('4234', 2), ('2454', 2), ('4520', 2), ('8010', 2), ('4719', 2), ('6094', 2), ('6204', 2), ('227008', 2), ('228152', 2), ('2852', 2), ('7031', 2), ('1214', 2), ('6366', 2), ('8194', 2), ('6258', 2), ('2566', 2), ('5478', 2), ('8331', 2), ('6041', 2), ('2469', 2), ('5206', 2), ('4553', 2), ('1844', 2), ('7281', 2), ('1376', 2), ('2745', 2), ('6368', 2), ('6438', 2), ('6891', 2), ('7094', 2), ('1603', 2), ('2854', 2), ('7294', 2), ('1590', 2), ('2973', 2), ('1106', 2), ('5195', 2), ('5244', 2), ('1990', 2), ('2504', 2), ('4254', 2), ('1202', 2), ('6394', 2), ('1613', 2), ('4957', 2), ('6351', 2), ('5823', 2), ('1878', 2), ('6154', 2), ('2643', 2), ('3089', 2), ('5581', 2), ('1809', 2), ('3259', 2), ('7639', 2), ('5541', 2), ('4666', 2), ('1912', 2), ('228174', 2), ('6434', 2), ('942', 2), ('5515', 2), ('8309', 2), ('7751', 2), ('700', 2), ('7869', 2), ('1468', 2), ('4773', 2), ('4856', 2), ('2041', 2), ('7762', 2), ('5716', 2), ('5584', 2), ('228173', 2), ('224816', 2), ('5442', 2), ('2015', 2), ('6147', 2), ('7200', 2), ('2629', 2), ('4459', 2), ('2387', 2), ('1039', 2), ('1618', 2), ('5505', 2), ('7524', 2), ('2809', 2), ('3250', 2), ('4670', 2), ('4696', 2), ('5464', 2), ('4231', 2), ('7840', 2), ('2665', 2), ('4620', 2), ('8021', 2), ('5633', 2), ('5157', 2), ('227428', 2), ('6143', 2), ('1721', 2), ('4636', 2), ('228206', 2), ('6520', 2), ('7063', 2), ('1832', 2), ('5899', 2), ('1029', 2), ('1553', 2), ('6234', 2), ('1611', 2), ('5566', 2), ('5384', 2), ('6028', 2), ('2028', 2), ('4692', 2), ('5674', 2), ('5215', 2), ('6423', 2), ('5661', 2), ('5939', 2), ('6628', 2), ('5067', 2), ('6252', 2), ('7612', 2), ('227773', 2), ('4305', 2), ('5864', 2), ('4365', 2), ('4958', 2), ('1228', 2), ('7453', 2), ('6521', 2), ('6256', 2), ('1694', 2), ('5824', 2), ('1059', 2), ('226988', 2), ('1855', 2), ('2825', 2), ('7471', 2), ('5702', 2), ('7061', 2), ('6916', 2), ('7092', 2), ('4726', 2), ('228162', 2), ('1619', 2), ('6002', 2), ('6045', 2), ('2832', 2), ('3186', 2), ('6489', 2), ('4526', 2), ('1604', 2), ('4871', 2), ('3271', 2), ('2225', 2), ('2236', 2), ('4762', 2), ('5311', 2), ('1216', 2), ('7090', 2), ('6001', 2), ('8070', 2), ('5545', 2), ('7385', 2), ('1103', 2), ('1067', 2), ('6284', 2), ('1110', 2), ('4895', 2), ('7505', 2), ('7692', 2), ('7019', 2), ('5468', 2), ('3139', 2), ('3143', 2), ('7227', 2), ('1230', 2), ('2951', 2), ('1876', 2), ('6586', 2), ('2938', 2), ('2040', 2), ('2368', 2), ('6783', 2), ('1739', 2), ('228172', 2), ('7351', 2), ('5854', 2), ('1817', 2), ('228159', 2), ('5114', 2), ('1678', 2), ('5971', 2), ('5774', 2), ('226742', 2), ('6498', 2), ('2256', 2), ('6074', 2), ('4860', 2), ('6471', 2), ('2058', 2), ('5807', 2), ('228154', 2), ('4490', 2), ('6165', 2), ('2030', 2), ('4852', 2), ('3269', 2), ('3235', 2), ('4505', 2), ('7107', 2), ('1840', 2), ('696', 2), ('5925', 2), ('7286', 2), ('6302', 2), ('6968', 2), ('1554', 2), ('6681', 2), ('5435', 2), ('2567', 2), ('6439', 2), ('6039', 2), ('6957', 2), ('1899', 2), ('1377', 2), ('2132', 2), ('1019', 2), ('8315', 2), ('3274', 2), ('3032', 2), ('4681', 2), ('2109', 2), ('5060', 2), ('1419', 2), ('4735', 2), ('4604', 2), ('6212', 2), ('1848', 2), ('2932', 2), ('2862', 2), ('5166', 2), ('4576', 2), ('1900', 2), ('6288', 2), ('1991', 2), ('6151', 2), ('2788', 2), ('228151', 2), ('1037', 2), ('2971', 2), ('7573', 2), ('5507', 2), ('2946', 2), ('6296', 2), ('1558', 2), ('1094', 2), ('5301', 2), ('7823', 2), ('5999', 2), ('6868', 2), ('6773', 2), ('4744', 2), ('2619', 2), ('5869', 2), ('4944', 2), ('8058', 2), ('228157', 2), ('7029', 2), ('1559', 2), ('4639', 2), ('1724', 2), ('2609', 2), ('2393', 2), ('1560', 2), ('1641', 2), ('3175', 2), ('4840', 2), ('1960', 2), ('1852', 2), ('2400', 2), ('1353', 2), ('5849', 2), ('224659', 2), ('5055', 2), ('1646', 2), ('1327', 2), ('587', 2), ('6197', 2), ('4901', 2), ('7631', 2), ('5063', 2), ('5710', 2), ('5621', 2), ('4523', 2), ('5891', 2), ('2764', 2), ('1501', 2), ('5743', 2), ('5892', 2), ('7114', 2), ('8289', 2), ('3192', 2), ('7232', 2), ('4518', 2), ('5333', 2), ('2027', 2), ('2585', 2), ('2981', 2), ('6018', 2), ('1561', 2), ('7531', 2), ('8197', 2), ('983', 2), ('5835', 2), ('2349', 2), ('6114', 2), ('5901', 2), ('2656', 2), ('2338', 2), ('5292', 2), ('2079', 2), ('6149', 2), ('1463', 2), ('6577', 2), ('1903', 2), ('6852', 2), ('6538', 2), ('1317', 2), ('5669', 2), ('4678', 2), ('3608', 2), ('4936', 2), ('8287', 2), ('7225', 2), ('4297', 2), ('225409', 2), ('2673', 2), ('5557', 2), ('1914', 2), ('5703', 2), ('2877', 2), ('2050', 2), ('8157', 2), ('4679', 2), ('2308', 2), ('6644', 2), ('2091', 2), ('3041', 2), ('1199', 2), ('3052', 2), ('226983', 2), ('5361', 2), ('2588', 2), ('223775', 2), ('6016', 2), ('2094', 2), ('3100', 2), ('7058', 2), ('2166', 2), ('3111', 2), ('2674', 2), ('6774', 2), ('2089', 2), ('228171', 2), ('2063', 2), ('6008', 2), ('6510', 2), ('1612', 2), ('2622', 2), ('4303', 2), ('2080', 2), ('7252', 2), ('5977', 2), ('6150', 2), ('6411', 2), ('2140', 2), ('2101', 2), ('1955', 2), ('8240', 2), ('2401', 2), ('226997', 2), ('5456', 2), ('938', 2), ('7796', 2), ('3031', 2), ('2145', 2), ('7363', 2), ('2118', 2), ('1584', 2), ('228167', 2), ('5582', 2), ('5745', 2), ('5189', 2), ('1728', 2), ('6369', 2), ('4715', 2), ('5962', 2), ('7924', 2), ('5413', 2), ('3245', 2), ('5898', 2), ('6610', 2), ('2563', 2), ('8247', 2), ('228156', 2), ('5889', 2), ('6301', 2), ('4823', 2), ('5953', 2), ('6820', 2), ('228158', 2), ('5086', 2), ('5325', 2), ('7362', 2), ('5682', 2), ('227032', 2), ('1057', 2), ('5943', 2), ('6947', 2), ('4643', 2), ('6280', 2), ('6023', 2), ('4740', 2), ('5931', 2), ('6042', 2), ('2777', 2), ('2105', 2), ('1884', 2), ('8205', 2), ('6632', 2), ('7683', 2), ('228163', 2), ('1405', 2), ('6031', 2), ('3029', 2), ('2783', 2), ('8320', 2), ('6657', 2), ('8301', 2), ('4291', 2), ('228448', 2), ('2925', 2), ('1364', 2), ('228153', 2), ('7697', 2), ('541', 2), ('2755', 2), ('1726', 2), ('7003', 2), ('227056', 2), ('1820', 2), ('2026', 2), ('3132', 1), ('1414', 1), ('4880', 1), ('1647', 1), ('1201', 1), ('1747', 1), ('2649', 1), ('8344', 1), ('8069', 1), ('6937', 1), ('7182', 1), ('6290', 1), ('6179', 1), ('7943', 1), ('2962', 1), ('6908', 1), ('6087', 1), ('5247', 1), ('7835', 1), ('5752', 1), ('2428', 1), ('6766', 1), ('5970', 1), ('3190', 1), ('2767', 1), ('2671', 1), ('5560', 1), ('1715', 1), ('3262', 1), ('2573', 1), ('6982', 1), ('5844', 1), ('7936', 1), ('8138', 1), ('4304', 1), ('7689', 1), ('6922', 1), ('2868', 1), ('2554', 1), ('6300', 1), ('5679', 1), ('6512', 1), ('5733', 1), ('6250', 1), ('1489', 1), ('6484', 1), ('7508', 1), ('7901', 1), ('2304', 1), ('7850', 1), ('7799', 1), ('6928', 1), ('7787', 1), ('3254', 1), ('8072', 1), ('5639', 1), ('7389', 1), ('2974', 1), ('2574', 1), ('7517', 1), ('5658', 1), ('7785', 1), ('8034', 1), ('7940', 1), ('3189', 1), ('2515', 1), ('3270', 1), ('1465', 1), ('8235', 1), ('7847', 1), ('5924', 1), ('5316', 1), ('8259', 1), ('7009', 1), ('5836', 1), ('4874', 1), ('3145', 1), ('1548', 1), ('3108', 1), ('7124', 1), ('7589', 1), ('6467', 1), ('5167', 1), ('6075', 1), ('1888', 1), ('6756', 1), ('2647', 1), ('5289', 1), ('6116', 1), ('5672', 1), ('1326', 1), ('7643', 1), ('8220', 1), ('1883', 1), ('8193', 1), ('2786', 1), ('3199', 1), ('3243', 1), ('2463', 1), ('7532', 1), ('5692', 1), ('7592', 1), ('2632', 1), ('7406', 1), ('3182', 1), ('3240', 1), ('2081', 1), ('5245', 1), ('5159', 1), ('6233', 1), ('6098', 1), ('2433', 1), ('5644', 1), ('5976', 1), ('4724', 1), ('2944', 1), ('1053', 1), ('5811', 1), ('6985', 1), ('2435', 1), ('6088', 1), ('6605', 1), ('8253', 1), ('1058', 1), ('6227', 1), ('1365', 1), ('8273', 1), ('6533', 1), ('7135', 1), ('2552', 1), ('6870', 1), ('6253', 1), ('6187', 1), ('2784', 1), ('7422', 1), ('7911', 1), ('7043', 1), ('1645', 1), ('5964', 1), ('7811', 1), ('5786', 1), ('6072', 1), ('6264', 1), ('2780', 1), ('6687', 1), ('5412', 1), ('1112', 1), ('5715', 1), ('6005', 1), ('6629', 1), ('5979', 1), ('3184', 1), ('3180', 1), ('1111', 1), ('2077', 1), ('7797', 1), ('5119', 1), ('2379', 1), ('6419', 1), ('7280', 1), ('5680', 1), ('7626', 1), ('4737', 1), ('5993', 1), ('2688', 1), ('6620', 1), ('2684', 1), ('5799', 1), ('3248', 1), ('8083', 1), ('5797', 1), ('6225', 1), ('5902', 1), ('2633', 1), ('6026', 1), ('1928', 1), ('1550', 1), ('1362', 1), ('7435', 1), ('7289', 1), ('5765', 1), ('3181', 1), ('2512', 1), ('8080', 1), ('6048', 1), ('2538', 1), ('8137', 1), ('7308', 1), ('6832', 1), ('1907', 1), ('6838', 1), ('6938', 1), ('2314', 1), ('7020', 1), ('6792', 1), ('5559', 1), ('3268', 1), ('6463', 1), ('2833', 1), ('2690', 1), ('5967', 1), ('2803', 1), ('2934', 1), ('6269', 1), ('8199', 1), ('5638', 1), ('5693', 1), ('2036', 1), ('8181', 1), ('5932', 1), ('4458', 1), ('2576', 1), ('1971', 1), ('2670', 1), ('228450', 1), ('1368', 1), ('1925', 1), ('7391', 1), ('7647', 1), ('2356', 1), ('6406', 1), ('6289', 1), ('2336', 1), ('2591', 1), ('4803', 1), ('6066', 1), ('7400', 1), ('1940', 1), ('5636', 1), ('8276', 1), ('5744', 1), ('1220', 1), ('2883', 1), ('7036', 1), ('8339', 1), ('3017', 1), ('6193', 1), ('2511', 1), ('6458', 1), ('6323', 1), ('6090', 1), ('2076', 1), ('6062', 1), ('6052', 1), ('2459', 1), ('5592', 1), ('1417', 1), ('7096', 1), ('4441', 1), ('1321', 1), ('7907', 1), ('6799', 1), ('3110', 1), ('8177', 1), ('2037', 1), ('3018', 1), ('1967', 1), ('6517', 1), ('2416', 1), ('8148', 1), ('6457', 1), ('5837', 1), ('7440', 1), ('5785', 1), ('2481', 1), ('5749', 1), ('8044', 1), ('2070', 1), ('5738', 1), ('6034', 1), ('6828', 1), ('5717', 1), ('5767', 1), ('5590', 1), ('7499', 1), ('7082', 1), ('7421', 1), ('6244', 1), ('1194', 1), ('7292', 1), ('8037', 1), ('6807', 1), ('1509', 1), ('1598', 1), ('7579', 1), ('5728', 1), ('6831', 1), ('6091', 1), ('4683', 1), ('1200', 1), ('2751', 1), ('1225', 1), ('2468', 1), ('7128', 1), ('2517', 1), ('4968', 1), ('1207', 1), ('1964', 1), ('5949', 1), ('6429', 1), ('5098', 1), ('1744', 1), ('1592', 1), ('7675', 1), ('2420', 1), ('7833', 1), ('7211', 1), ('8104', 1), ('6209', 1), ('2866', 1), ('7595', 1), ('6603', 1), ('1210', 1), ('5388', 1), ('5089', 1), ('7084', 1), ('5966', 1), ('5867', 1), ('5083', 1), ('7743', 1), ('2518', 1), ('5804', 1), ('1597', 1), ('5731', 1), ('2597', 1), ('5487', 1), ('6741', 1), ('2116', 1), ('6047', 1), ('2500', 1), ('1933', 1), ('5826', 1), ('2659', 1), ('7458', 1), ('7220', 1), ('8218', 1), ('6546', 1), ('8141', 1), ('2702', 1), ('7838', 1), ('1069', 1), ('1462', 1), ('2733', 1), ('7888', 1), ('1114', 1), ('2136', 1), ('6485', 1), ('5895', 1), ('6064', 1), ('6086', 1), ('2658', 1), ('1838', 1), ('6107', 1), ('4712', 1), ('2743', 1), ('6352', 1), ('6601', 1), ('5652', 1), ('5788', 1), ('6161', 1), ('5712', 1), ('2933', 1), ('1379', 1), ('1918', 1), ('6846', 1), ('4694', 1), ('2137', 1), ('1785', 1), ('7858', 1), ('6092', 1), ('1827', 1), ('1939', 1), ('7221', 1), ('6659', 1), ('6160', 1), ('5709', 1), ('2965', 1), ('4486', 1), ('3331', 1), ('6748', 1), ('7091', 1), ('3197', 1), ('2960', 1), ('5935', 1), ('7812', 1), ('3016', 1), ('6027', 1), ('3000', 1), ('7606', 1), ('2043', 1), ('1857', 1), ('2430', 1), ('2071', 1), ('6854', 1), ('1861', 1), ('6055', 1), ('5714', 1), ('1909', 1), ('4873', 1), ('1731', 1), ('3214', 1), ('2874', 1), ('3127', 1), ('6725', 1), ('7138', 1), ('6219', 1), ('2849', 1), ('8304', 1), ('1113', 1), ('7732', 1), ('2606', 1), ('5929', 1), ('6940', 1), ('5886', 1), ('2014', 1), ('6553', 1), ('1544', 1), ('6541', 1), ('7965', 1), ('2634', 1), ('1493', 1), ('6812', 1), ('2320', 1), ('4578', 1), ('2434', 1), ('5285', 1), ('2794', 1), ('1634', 1), ('8129', 1), ('1683', 1), ('7546', 1), ('2065', 1), ('6399', 1), ('6367', 1), ('6036', 1), ('2018', 1), ('5872', 1), ('1098', 1), ('4727', 1), ('2548', 1), ('3798', 1), ('1635', 1), ('5794', 1), ('2482', 1), ('5843', 1), ('5671', 1), ('7288', 1), ('2734', 1), ('7777', 1), ('7998', 1), ('5858', 1), ('6297', 1), ('6650', 1), ('5784', 1), ('3172', 1), ('5221', 1), ('5473', 1), ('6007', 1), ('7121', 1), ('5678', 1), ('4451', 1), ('6480', 1), ('2865', 1), ('226741', 1), ('1339', 1), ('1190', 1), ('8173', 1), ('5666', 1), ('5874', 1), ('6144', 1), ('3075', 1), ('2876', 1), ('3253', 1), ('6291', 1), ('3008', 1), ('8054', 1), ('6416', 1), ('5866', 1), ('8126', 1), ('7396', 1), ('6449', 1), ('6135', 1), ('6260', 1), ('7841', 1), ('7004', 1), ('1415', 1), ('7170', 1), ('5026', 1), ('2034', 1), ('7969', 1), ('2408', 1), ('7826', 1), ('2069', 1), ('6279', 1), ('2802', 1), ('5486', 1), ('7482', 1), ('2274', 1), ('5577', 1), ('6893', 1), ('3653', 1), ('1934', 1), ('7730', 1), ('2696', 1), ('1819', 1), ('4893', 1), ('6678', 1), ('5649', 1), ('6203', 1), ('2326', 1), ('6338', 1), ('6243', 1), ('6125', 1), ('6618', 1), ('2124', 1), ('2952', 1), ('8321', 1), ('6270', 1), ('5664', 1), ('2361', 1), ('7166', 1), ('7341', 1), ('5768', 1), ('5724', 1), ('6739', 1), ('5780', 1), ('5259', 1), ('8225', 1), ('2521', 1), ('5062', 1), ('1729', 1), ('5659', 1), ('7361', 1), ('8266', 1), ('5790', 1), ('2288', 1), ('2044', 1), ('2958', 1), ('3068', 1), ('8014', 1), ('2668', 1), ('1372', 1), ('2978', 1), ('2605', 1), ('2360', 1), ('1453', 1), ('1346', 1), ('7992', 1), ('4686', 1), ('7774', 1), ('6795', 1), ('7459', 1), ('3048', 1), ('2497', 1), ('2438', 1), ('2004', 1), ('5718', 1), ('8361', 1), ('1458', 1), ('2061', 1), ('1717', 1), ('5862', 1), ('4928', 1), ('7500', 1), ('5721', 1), ('6751', 1), ('5554', 1), ('4946', 1), ('6162', 1), ('5992', 1), ('5879', 1), ('2390', 1), ('4618', 1), ('2646', 1), ('3191', 1), ('1488', 1), ('7699', 1), ('7668', 1), ('5527', 1), ('1416', 1), ('5643', 1), ('2768', 1), ('5798', 1), ('6582', 1), ('4709', 1), ('5846', 1), ('6349', 1), ('6024', 1), ('5946', 1), ('5801', 1), ('7504', 1), ('2421', 1), ('3115', 1), ('6860', 1), ('6819', 1), ('6020', 1), ('1740', 1), ('2741', 1), ('2746', 1), ('7976', 1), ('5937', 1), ('227654', 1), ('7229', 1), ('2556', 1), ('6199', 1), ('6198', 1), ('7594', 1), ('2293', 1), ('3086', 1), ('6414', 1), ('6483', 1), ('5130', 1), ('6216', 1), ('2838', 1), ('2499', 1), ('1408', 1), ('3128', 1), ('1100', 1), ('5948', 1), ('2444', 1), ('6767', 1), ('7568', 1), ('2503', 1), ('224726', 1), ('2505', 1), ('5773', 1), ('4519', 1), ('4922', 1), ('5249', 1), ('5164', 1), ('1741', 1), ('2796', 1), ('196', 1), ('2642', 1), ('5700', 1), ('6053', 1), ('7236', 1), ('5168', 1), ('6342', 1), ('1314', 1), ('6228', 1), ('2592', 1), ('5894', 1), ('6236', 1), ('2310', 1), ('5681', 1), ('5229', 1), ('3140', 1), ('2813', 1), ('5747', 1), ('5234', 1), ('3239', 1), ('6552', 1), ('2285', 1), ('2737', 1), ('6254', 1), ('3081', 1), ('1209', 1), ('6599', 1), ('5039', 1), ('1350', 1), ('8290', 1), ('5893', 1), ('6935', 1), ('2209', 1), ('2502', 1), ('2795', 1), ('7610', 1), ('2283', 1), ('7345', 1), ('2477', 1), ('5708', 1), ('7474', 1), ('6448', 1), ('4446', 1), ('2711', 1), ('2508', 1), ('6398', 1), ('7461', 1), ('6061', 1), ('4285', 1), ('6691', 1), ('3167', 1), ('1034', 1), ('7540', 1), ('2760', 1), ('2268', 1), ('2681', 1), ('3177', 1), ('7622', 1), ('4501', 1), ('5226', 1), ('6015', 1), ('6347', 1), ('2529', 1), ('6142', 1), ('1316', 1), ('7174', 1), ('3264', 1), ('8212', 1), ('2530', 1), ('2581', 1), ('1693', 1), ('2472', 1), ('6872', 1), ('2525', 1), ('1649', 1), ('5462', 1), ('3083', 1), ('2478', 1), ('2879', 1), ('5748', 1), ('5875', 1), ('8314', 1), ('7600', 1), ('7691', 1), ('2488', 1), ('5604', 1), ('4926', 1), ('5022', 1), ('4698', 1), ('3066', 1), ('3063', 1), ('1660', 1), ('3215', 1), ('6067', 1), ('3003', 1), ('2821', 1), ('6214', 1), ('227122', 1), ('5978', 1), ('5699', 1), ('7223', 1), ('1923', 1), ('5655', 1), ('8357', 1), ('5998', 1), ('6920', 1), ('1061', 1), ('5986', 1), ('2583', 1), ('1932', 1), ('2560', 1), ('1577', 1), ('1576', 1), ('1620', 1), ('5697', 1), ('6669', 1), ('2060', 1), ('225656', 1), ('2141', 1), ('8125', 1), ('7709', 1), ('7618', 1), ('6667', 1), ('8115', 1), ('3044', 1), ('8099', 1), ('5956', 1), ('7089', 1), ('5647', 1), ('1409', 1), ('8345', 1), ('4822', 1), ('7570', 1), ('2915', 1), ('7831', 1), ('7023', 1), ('5016', 1), ('2963', 1), ('5386', 1), ('5629', 1), ('5380', 1), ('6470', 1), ('7301', 1), ('2752', 1), ('1204', 1), ('6815', 1), ('5928', 1), ('6655', 1), ('7967', 1), ('6155', 1), ('6974', 1), ('8330', 1), ('3077', 1), ('5711', 1), ('2443', 1), ('2635', 1), ('1095', 1), ('5040', 1), ('2943', 1), ('223059', 1), ('6758', 1), ('1354', 1), ('5593', 1), ('7235', 1), ('1217', 1), ('2736', 1), ('6647', 1), ('3059', 1), ('5988', 1), ('2553', 1), ('2418', 1), ('5220', 1), ('2483', 1), ('6223', 1), ('2099', 1), ('6126', 1), ('7760', 1), ('1677', 1), ('8169', 1), ('4214', 1), ('7809', 1), ('1969', 1), ('7614', 1), ('6115', 1), ('5860', 1), ('7194', 1), ('6359', 1), ('5676', 1), ('5585', 1), ('2489', 1), ('2986', 1), ('7251', 1), ('5720', 1), ('5883', 1), ('2358', 1), ('5995', 1), ('1938', 1), ('5771', 1), ('6461', 1), ('1856', 1), ('6221', 1), ('6266', 1), ('2790', 1), ('6609', 1), ('5155', 1), ('2740', 1), ('6871', 1), ('6019', 1), ('8113', 1), ('8033', 1), ('3046', 1), ('7065', 1), ('7146', 1), ('5884', 1), ('6332', 1), ('2804', 1), ('964', 1), ('6324', 1), ('225657', 1), ('5719', 1), ('3233', 1), ('1670', 1), ('8346', 1), ('1962', 1), ('7126', 1), ('3121', 1), ('7955', 1), ('5787', 1), ('2456', 1), ('6251', 1), ('2110', 1), ('7687', 1), ('6065', 1), ('6848', 1), ('7204', 1), ('6076', 1), ('3194', 1), ('8299', 1), ('8192', 1), ('5887', 1), ('6927', 1), ('2808', 1), ('5261', 1), ('5000', 1), ('2422', 1), ('5077', 1), ('5564', 1), ('6952', 1), ('2419', 1), ('7607', 1), ('7520', 1), ('6738', 1), ('1096', 1), ('5068', 1), ('2470', 1), ('5320', 1), ('5395', 1), ('5847', 1), ('1470', 1), ('1338', 1), ('5845', 1), ('1906', 1), ('7822', 1), ('2294', 1), ('5356', 1), ('6509', 1), ('1631', 1), ('6924', 1), ('5088', 1), ('7892', 1), ('5779', 1), ('6310', 1), ('7968', 1), ('2057', 1), ('5980', 1), ('1224', 1), ('2188', 1), ('5741', 1), ('2908', 1), ('2405', 1), ('2903', 1), ('1968', 1), ('6271', 1), ('6895', 1), ('6063', 1), ('6317', 1), ('2520', 1), ('6117', 1), ('6889', 1), ('7383', 1), ('6422', 1), ('5635', 1), ('2706', 1), ('2819', 1), ('2836', 1), ('2319', 1), ('6109', 1), ('3217', 1), ('6181', 1), ('5930', 1), ('5806', 1), ('3043', 1), ('3094', 1), ('8060', 1), ('4955', 1), ('2889', 1), ('5832', 1), ('5637', 1), ('7920', 1), ('2126', 1), ('5778', 1), ('8000', 1), ('6217', 1), ('1657', 1), ('1361', 1), ('5775', 1), ('7773', 1), ('6636', 1), ('5645', 1), ('4244', 1), ('5996', 1), ('6111', 1), ('1107', 1), ('7425', 1), ('4566', 1), ('1644', 1), ('2413', 1), ('6930', 1), ('8101', 1), ('5696', 1), ('1448', 1), ('2380', 1), ('1626', 1), ('2772', 1), ('1447', 1), ('5951', 1), ('7375', 1), ('6274', 1), ('5502', 1), ('5850', 1), ('5852', 1), ('1552', 1), ('3002', 1), ('7688', 1), ('8257', 1), ('6082', 1), ('3084', 1), ('6307', 1), ('6157', 1), ('3020', 1), ('5257', 1), ('1378', 1), ('5776', 1), ('3106', 1), ('2524', 1), ('6764', 1), ('2337', 1), ('6720', 1), ('7254', 1), ('4977', 1), ('6183', 1), ('2806', 1), ('1387', 1), ('8313', 1), ('6146', 1), ('1011', 1), ('6186', 1), ('2882', 1), ('3176', 1), ('1874', 1), ('6826', 1), ('5730', 1), ('3148', 1), ('7571', 1), ('5997', 1), ('1935', 1), ('4720', 1), ('6437', 1), ('6190', 1), ('6132', 1), ('5994', 1), ('7903', 1), ('6784', 1), ('7276', 1), ('2770', 1), ('8152', 1), ('5596', 1), ('7287', 1), ('1605', 1), ('6030', 1), ('7816', 1), ('3107', 1), ('4805', 1), ('5897', 1), ('5789', 1), ('5791', 1), ('2449', 1), ('2637', 1), ('7625', 1), ('1863', 1), ('7015', 1), ('6057', 1), ('5863', 1), ('2224', 1), ('3220', 1), ('5927', 1), ('3056', 1), ('1358', 1), ('2959', 1), ('6926', 1), ('1500', 1), ('1232', 1), ('6079', 1), ('3087', 1), ('2424', 1), ('7409', 1), ('7000', 1), ('2618', 1), ('2842', 1), ('1215', 1), ('6842', 1), ('2732', 1), ('6131', 1), ('5722', 1), ('2569', 1), ('1748', 1), ('7242', 1), ('228181', 1), ('3258', 1), ('6861', 1), ('1924', 1), ('7825', 1), ('1386', 1), ('5870', 1), ('6292', 1), ('3060', 1), ('7884', 1), ('7025', 1), ('3005', 1), ('2966', 1), ('7022', 1), ('2754', 1), ('7973', 1), ('3158', 1), ('6430', 1), ('1023', 1), ('3236', 1), ('6245', 1), ('6845', 1), ('6156', 1), ('5926', 1), ('6433', 1), ('5761', 1), ('1498', 1), ('4784', 1), ('6167', 1), ('7325', 1), ('1998', 1), ('2955', 1), ('1826', 1), ('7547', 1), ('7470', 1), ('7757', 1), ('6275', 1), ('7671', 1), ('7837', 1), ('5632', 1), ('5740', 1), ('5739', 1), ('2296', 1), ('1656', 1), ('6306', 1), ('7542', 1), ('8103', 1), ('7112', 1), ('8100', 1), ('6562', 1), ('2705', 1), ('4680', 1), ('7394', 1), ('1469', 1), ('5725', 1), ('5991', 1), ('5853', 1), ('5392', 1), ('7961', 1), ('7093', 1), ('6934', 1), ('6921', 1), ('7213', 1), ('2949', 1), ('5640', 1), ('1556', 1), ('2748', 1), ('6006', 1), ('7767', 1), ('6104', 1), ('2005', 1), ('5695', 1), ('3088', 1), ('8001', 1), ('2474', 1), ('7582', 1), ('6593', 1), ('6025', 1), ('7222', 1), ('3010', 1), ('2555', 1), ('5004', 1), ('2248', 1), ('6078', 1), ('2090', 1), ('1980', 1), ('6513', 1), ('224363', 1), ('2694', 1), ('2972', 1), ('2704', 1), ('1835', 1), ('8120', 1), ('6205', 1), ('7241', 1), ('2130', 1), ('3283', 1), ('7861', 1), ('7909', 1), ('2691', 1), ('6277', 1), ('1936', 1), ('4736', 1), ('2543', 1), ('7746', 1), ('2901', 1), ('2765', 1), ('6184', 1), ('3257', 1), ('8190', 1), ('4562', 1), ('8140', 1), ('8268', 1), ('2301', 1), ('5609', 1), ('2366', 1), ('5214', 1), ('4721', 1), ('5662', 1), ('7407', 1), ('1490', 1), ('8109', 1), ('1627', 1), ('8509', 1), ('1369', 1), ('3179', 1), ('1512', 1), ('1545', 1), ('2773', 1), ('6535', 1), ('2135', 1), ('2551', 1), ('6353', 1), ('2582', 1), ('1946', 1), ('3125', 1), ('6202', 1), ('6192', 1), ('5650', 1), ('1929', 1), ('6239', 1), ('8149', 1), ('5876', 1), ('5646', 1), ('2510', 1), ('7680', 1), ('5947', 1), ('5742', 1), ('8298', 1), ('5781', 1), ('1042', 1), ('8265', 1), ('4990', 1), ('7667', 1), ('7380', 1), ('7615', 1), ('6123', 1), ('6166', 1), ('5162', 1), ('6630', 1), ('6029', 1), ('7355', 1), ('7694', 1), ('6232', 1), ('1791', 1), ('2281', 1), ('1454', 1), ('5642', 1), ('6281', 1), ('2467', 1), ('2412', 1), ('6128', 1), ('2875', 1), ('1589', 1), ('7808', 1), ('5186', 1), ('6885', 1), ('5258', 1), ('7133', 1), ('5880', 1), ('6424', 1), ('1208', 1), ('7060', 1), ('5855', 1), ('7439', 1), ('1456', 1), ('6093', 1), ('1608', 1), ('6740', 1), ('1212', 1), ('6785', 1), ('3090', 1), ('6912', 1), ('5133', 1), ('3281', 1), ('2394', 1), ('2628', 1), ('6640', 1), ('1315', 1), ('1609', 1), ('7803', 1), ('5750', 1), ('7364', 1), ('2660', 1), ('1036', 1), ('1334', 1), ('8139', 1), ('5513', 1), ('1189', 1), ('6943', 1), ('5071', 1), ('7862', 1), ('7234', 1), ('5751', 1), ('7041', 1), ('6263', 1), ('7765', 1), ('1585', 1), ('3246', 1), ('1471', 1), ('1713', 1), ('6249', 1), ('5410', 1), ('5987', 1), ('5903', 1), ('1931', 1), ('3206', 1), ('6283', 1), ('5713', 1), ('5808', 1), ('4661', 1), ('3134', 1), ('5890', 1), ('7790', 1), ('6153', 1), ('2547', 1), ('7953', 1), ('2273', 1), ('5205', 1), ('6653', 1), ('2198', 1), ('3208', 1), ('1719', 1), ('2370', 1), ('2321', 1), ('5212', 1), ('6486', 1), ('1485', 1), ('1583', 1), ('3105', 1), ('3064', 1), ('7488', 1), ('6133', 1), ('5501', 1), ('2461', 1), ('3037', 1), ('7535', 1), ('7885', 1), ('2697', 1), ('2638', 1), ('7948', 1), ('7424', 1), ('7026', 1), ('6750', 1), ('7642', 1), ('5273', 1), ('5096', 1), ('4484', 1), ('5822', 1), ('3188', 1), ('7649', 1), ('2519', 1), ('5812', 1), ('7253', 1), ('2600', 1), ('7303', 1), ('7551', 1), ('8027', 1), ('1890', 1), ('4497', 1), ('5613', 1), ('1205', 1), ('5628', 1), ('8353', 1), ('1398', 1), ('6084', 1), ('7871', 1), ('4842', 1), ('1636', 1), ('5374', 1), ('2985', 1), ('6189', 1), ('3119', 1), ('4502', 1), ('2774', 1), ('3174', 1), ('2869', 1), ('6339', 1), ('8028', 1), ('5631', 1), ('3015', 1), ('1975', 1), ('1579', 1), ('4872', 1), ('7293', 1), ('1714', 1), ('1041', 1), ('3183', 1), ('4322', 1), ('6262', 1), ('7611', 1), ('2473', 1), ('2378', 1), ('8272', 1), ('6257', 1), ('6220', 1), ('1610', 1), ('5579', 1), ('1459', 1), ('6835', 1), ('7601', 1), ('1716', 1), ('5965', 1), ('4646', 1), ('6050', 1), ('2919', 1), ('5984', 1), ('6035', 1), ('6113', 1), ('4363', 1), ('3256', 1), ('2577', 1), ('1221', 1), ('7853', 1), ('1851', 1), ('7875', 1), ('2898', 1), ('6817', 1), ('7544', 1), ('7356', 1), ('5783', 1), ('2402', 1), ('8035', 1), ('7778', 1), ('7815', 1), ('6579', 1), ('2855', 1), ('1323', 1), ('8258', 1), ('2964', 1), ('7443', 1), ('7062', 1), ('2289', 1), ('8262', 1), ('3334', 1), ('7486', 1), ('1652', 1), ('1406', 1), ('6134', 1), ('1642', 1), ('1055', 1), ('4417', 1), ('5800', 1), ('2744', 1), ('1413', 1), ('8208', 1), ('5562', 1), ('5654', 1), ('6112', 1), ('6469', 1), ('8067', 1), ('2374', 1), ('7645', 1), ('6248', 1), ('5260', 1), ('5145', 1), ('5453', 1), ('2969', 1), ('4457', 1), ('6276', 1), ('2025', 1), ('6507', 1), ('6410', 1), ('6164', 1), ('2086', 1), ('6137', 1), ('6898', 1), ('5263', 1), ('6525', 1), ('1198', 1), ('8059', 1), ('6637', 1), ('7565', 1), ('2984', 1), ('1730', 1), ('6641', 1), ('7845', 1), ('6237', 1), ('7120', 1), ('2664', 1), ('6043', 1), ('7423', 1), ('7485', 1), ('6482', 1), ('8042', 1), ('8071', 1), ('2590', 1), ('6420', 1), ('2655', 1), ('5922', 1), ('6265', 1), ('1942', 1), ('5885', 1), ('6542', 1), ('1862', 1), ('1050', 1), ('1312', 1), ('5871', 1), ('5576', 1), ('7882', 1), ('4894', 1), ('5704', 1), ('6054', 1), ('1860', 1), ('5958', 1), ('7655', 1), ('2990', 1), ('6578', 1), ('4483', 1), ('3102', 1), ('1341', 1), ('7516', 1), ('4821', 1), ('2395', 1), ('2651', 1), ('5944', 1), ('1839', 1), ('1869', 1), ('7814', 1), ('8307', 1), ('6587', 1), ('2714', 1), ('3078', 1), ('6584', 1), ('7717', 1), ('1052', 1), ('3776', 1), ('6612', 1), ('5792', 1), ('2731', 1), ('4551', 1), ('7887', 1), ('7988', 1), ('2527', 1), ('5983', 1), ('4833', 1), ('2762', 1), ('5401', 1), ('4400', 1), ('7771', 1), ('5732', 1), ('2406', 1), ('6145', 1), ('8170', 1), ('1505', 1), ('6931', 1), ('3218', 1), ('1381', 1), ('1452', 1), ('3277', 1), ('8204', 1), ('5839', 1), ('2775', 1), ('2045', 1), ('6672', 1), ('5723', 1), ('2476', 1), ('3120', 1), ('2989', 1), ('7654', 1), ('1941', 1), ('3072', 1), ('3285', 1), ('6793', 1), ('5128', 1), ('6596', 1), ('7672', 1), ('6070', 1), ('2626', 1), ('3200', 1), ('5057', 1), ('1930', 1), ('5563', 1), ('7243', 1), ('2098', 1), ('1460', 1), ('7018', 1), ('7052', 1), ('5934', 1), ('3201', 1), ('4268', 1), ('3042', 1), ('7339', 1), ('5698', 1), ('2535', 1), ('1412', 1), ('5848', 1), ('2983', 1), ('5346', 1), ('1672', 1), ('1607', 1), ('5003', 1), ('5793', 1), ('2800', 1), ('6110', 1), ('2372', 1), ('6285', 1), ('7449', 1), ('6293', 1), ('2078', 1), ('5705', 1), ('2114', 1), ('7802', 1), ('2858', 1), ('7731', 1), ('3226', 1), ('1123', 1), ('6305', 1), ('7338', 1), ('2863', 1), ('6032', 1), ('6011', 1), ('4685', 1), ('2988', 1), ('6932', 1), ('6246', 1), ('1865', 1), ('8360', 1), ('5391', 1), ('3118', 1), ('1917', 1), ('6444', 1), ('1628', 1), ('5954', 1), ('4264', 1), ('6415', 1), ('6503', 1), ('2747', 1), ('7620', 1), ('5961', 1), ('6303', 1), ('7085', 1), ('6021', 1), ('5969', 1), ('5218', 1), ('7928', 1), ('6830', 1), ('5968', 1), ('6540', 1), ('2910', 1), ('3070', 1), ('5973', 1), ('2092', 1), ('2462', 1), ('1736', 1), ('5280', 1), ('5777', 1), ('8146', 1), ('2021', 1), ('2049', 1), ('5960', 1), ('5795', 1), ('6919', 1), ('2396', 1), ('227655', 1), ('6443', 1), ('1927', 1), ('6130', 1), ('6948', 1), ('6607', 1), ('1768', 1), ('5974', 1), ('1926', 1), ('5503', 1), ('1984', 1), ('1829', 1), ('1871', 1), ('6862', 1), ('2902', 1), ('1335', 1), ('7193', 1), ('2479', 1), ('1920', 1), ('1945', 1), ('1864', 1), ('5772', 1), ('6224', 1), ('7332', 1), ('3079', 1), ('5940', 1), ('2672', 1), ('7185', 1), ('2870', 1), ('5829', 1), ('7210', 1), ('7958', 1), ('3195', 1), ('7337', 1), ('1231', 1), ('1124', 1), ('4849', 1), ('3095', 1), ('6235', 1), ('7748', 1), ('2918', 1), ('8093', 1), ('7464', 1), ('6185', 1), ('7141', 1), ('6313', 1), ('1497', 1), ('7902', 1), ('5110', 1), ('6172', 1), ('5810', 1), ('1547', 1), ('6970', 1), ('6875', 1), ('5955', 1), ('6083', 1), ('7032', 1), ('7747', 1), ('7854', 1), ('8147', 1), ('5859', 1), ('1384', 1), ('1562', 1), ('1206', 1), ('7260', 1), ('2679', 1), ('6428', 1), ('4693', 1), ('2290', 1), ('6573', 1), ('2639', 1), ('6859', 1), ('8317', 1), ('6682', 1), ('4444', 1), ('7002', 1), ('3216', 1), ('3013', 1), ('3049', 1), ('3213', 1), ('7051', 1), ('2046', 1), ('2106', 1), ('6294', 1), ('6481', 1), ('2861', 1), ('5942', 1), ('2945', 1), ('3074', 1), ('4969', 1), ('6978', 1), ('7258', 1), ('6528', 1), ('3137', 1), ('7954', 1), ('8279', 1), ('8186', 1), ('5204', 1), ('5959', 1), ('8074', 1), ('6106', 1), ('6896', 1), ('1038', 1), ('8209', 1), ('6182', 1), ('5809', 1), ('7925', 1), ('6108', 1), ('5945', 1), ('2948', 1), ('6211', 1), ('6096', 1), ('2367', 1), ('8133', 1), ('6022', 1), ('6762', 1), ('1472', 1), ('2798', 1), ('1197', 1), ('2807', 1), ('2429', 1), ('2860', 1), ('7460', 1), ('5936', 1), ('1686', 1), ('2610', 1), ('5861', 1), ('5975', 1), ('8084', 1), ('2100', 1), ('2195', 1), ('4674', 1), ('5923', 1), ('3101', 1), ('2776', 1), ('7402', 1), ('2347', 1), ('6322', 1), ('8270', 1), ('5595', 1), ('6749', 1), ('6487', 1), ('6124', 1), ('7528', 1), ('1385', 1), ('5759', 1), ('2284', 1), ('2797', 1), ('6009', 1), ('4705', 1), ('1557', 1), ('6060', 1), ('1949', 1), ('3011', 1), ('7116', 1), ('2330', 1), ('8134', 1), ('6304', 1), ('2173', 1), ('5857', 1), ('7832', 1), ('7179', 1), ('2998', 1), ('5916', 1), ('5833', 1), ('7070', 1), ('6037', 1), ('6635', 1), ('2275', 1), ('7086', 1), ('6259', 1), ('7209', 1), ('4430', 1), ('1908', 1), ('8107', 1), ('5805', 1), ('1099', 1), ('3097', 1), ('4565', 1), ('2850', 1), ('1332', 1), ('4919', 1), ('1572', 1), ('7722', 1), ('6097', 1), ('7910', 1), ('5634', 1), ('7720', 1), ('8128', 1), ('8053', 1), ('6105', 1), ('2093', 1), ('5600', 1), ('6843', 1), ('5194', 1), ('3260', 1), ('2661', 1), ('6017', 1), ('6255', 1), ('5152', 1), ('1549', 1), ('1370', 1), ('5763', 1), ('6806', 1), ('2546', 1), ('1816', 1), ('2920', 1), ('5387', 1), ('5665', 1), ('7044', 1), ('2507', 1), ('8285', 1), ('2715', 1), ('8026', 1), ('6969', 1), ('4870', 1), ('1944', 1), ('8200', 1), ('2695', 1), ('6515', 1), ('5575', 1), ('7328', 1), ('3112', 1), ('7372', 1), ('2631', 1), ('6688', 1), ('1450', 1), ('1449', 1), ('2967', 1), ('7021', 1), ('2012', 1), ('7045', 1), ('7663', 1), ('2953', 1), ('2398', 1), ('3091', 1), ('6044', 1), ('7798', 1), ('7354', 1), ('5868', 1), ('6188', 1), ('1219', 1), ('8342', 1), ('6085', 1), ('5782', 1), ('1842', 1), ('2568', 1), ('7352', 1), ('1451', 1), ('1373', 1), ('8179', 1), ('6350', 1), ('2700', 1), ('7772', 1), ('3019', 1), ('1919', 1), ('2133', 1), ('1771', 1), ('3241', 1), ('6272', 1), ('4652', 1), ('1887', 1), ('2698', 1), ('8031', 1), ('5963', 1), ('4428', 1), ('6319', 1), ('5588', 1), ('3147', 1), ('227776', 1), ('6402', 1), ('1896', 1), ('2534', 1), ('6363', 1), ('5042', 1), ('7541', 1), ('4865', 1), ('2589', 1), ('3069', 1), ('6226', 1), ('1388', 1), ('4695', 1), ('3359', 1), ('6590', 1), ('2229', 1), ('5343', 1), ('1502', 1), ('2666', 1), ('8078', 1), ('8206', 1), ('1922', 1), ('6196', 1), ('7272', 1), ('6311', 1), ('6191', 1), ('2950', 1), ('6120', 1), ('1818', 1), ('2750', 1), ('2437', 1), ('3244', 1), ('6981', 1), ('1845', 1), ('1680', 1), ('6729', 1), ('4496', 1), ('3207', 1), ('5900', 1), ('2822', 1), ('2956', 1), ('6334', 1), ('4807', 1), ('7919', 1), ('5842', 1), ('3178', 1), ('8025', 1), ('2334', 1), ('7269', 1), ('6604', 1), ('4247', 1), ('1661', 1), ('1195', 1), ('6671', 1), ('7403', 1), ('2663', 1), ('7966', 1), ('7648', 1), ('420', 1), ('3238', 1), ('2514', 1), ('7581', 1), ('6616', 1), ('5758', 1), ('2657', 1), ('1360', 1), ('7462', 1), ('1192', 1), ('2377', 1), ('1849', 1), ('7158', 1), ('4755', 1), ('6174', 1), ('2820', 1), ('2309', 1), ('2909', 1), ('1218', 1), ('4645', 1), ('6364', 1), ('7359', 1), ('5834', 1), ('6238', 1), ('7263', 1), ('7081', 1), ('981', 1), ('1617', 1), ('7949', 1), ('1886', 1), ('6231', 1), ('1601', 1), ('7176', 1), ('4508', 1), ('5802', 1), ('1196', 1), ('4448', 1), ('7123', 1), ('5938', 1), ('5873', 1), ('2604', 1), ('2829', 1), ('1494', 1), ('1035', 1), ('8019', 1), ('5831', 1), ('1643', 1), ('2464', 1), ('4915', 1), ('6222', 1), ('5441', 1), ('7111', 1), ('5856', 1), ('2667', 1), ('5896', 1), ('6763', 1), ('3138', 1), ('7597', 1), ('6639', 1), ('4824', 1), ('7246', 1), ('3222', 1), ('4374', 1), ('6794', 1), ('7608', 1), ('6944', 1), ('6000', 1), ('8183', 1), ('4286', 1), ('2487', 1), ('7737', 1), ('5941', 1), ('3136', 1), ('5825', 1), ('3009', 1), ('2404', 1), ('6168', 1), ('6069', 1), ('7638', 1), ('7132', 1), ('1165', 1), ('6127', 1), ('4266', 1), ('6391', 1), ('2880', 1), ('6752', 1), ('6240', 1), ('2013', 1), ('8310', 1), ('5766', 1), ('1504', 1), ('2756', 1), ('6316', 1), ('2593', 1), ('6014', 1), ('3228', 1), ('6175', 1), ('6689', 1), ('7318', 1), ('4672', 1), ('2313', 1), ('5668', 1), ('4638', 1), ('3004', 1), ('6670', 1), ('5981', 1), ('1937', 1), ('2940', 1), ('2922', 1), ('5049', 1), ('2685', 1), ('1040', 1), ('1588', 1), ('1322', 1), ('7119', 1), ('2423', 1), ('8233', 1), ('6651', 1), ('2561', 1), ('1213', 1), ('2562', 1), ('5989', 1), ('3135', 1), ('2686', 1), ('6171', 1), ('7985', 1), ('3061', 1), ('4248', 1), ('6933', 1), ('5920', 1), ('7951', 1), ('1812', 1), ('6945', 1), ('2856', 1), ('7982', 1), ('5827', 1), ('7262', 1), ('5558', 1), ('6841', 1), ('227039', 1), ('2353', 1), ('4487', 1), ('6737', 1), ('1978', 1), ('8061', 1), ('1475', 1), ('2362', 1), ('7646', 1), ('2351', 1), ('7219', 1), ('5821', 1), ('8230', 1), ('6337', 1), ('6643', 1), ('6768', 1), ('3161', 1), ('2692', 1), ('7650', 1), ('6906', 1), ('2480', 1), ('7397', 1), ('7327', 1), ('6056', 1), ('7779', 1), ('6058', 1), ('5770', 1), ('7353', 1), ('7947', 1), ('7780', 1), ('1049', 1), ('6247', 1), ('5838', 1), ('5803', 1), ('5610', 1), ('6407', 1), ('6298', 1), ('6287', 1), ('2992', 1), ('7534', 1), ('228446', 1), ('7934', 1), ('2112', 1), ('5762', 1), ('6129', 1), ('5865', 1), ('6790', 1), ('8048', 1), ('1966', 1), ('6118', 1), ('5210', 1), ('6964', 1), ('7493', 1), ('7632', 1), ('2542', 1), ('2522', 1), ('2363', 1), ('5347', 1), ('6286', 1), ('1981', 1), ('1374', 1), ('6210', 1), ('4360', 1), ('3242', 1), ('2693', 1), ('2761', 1), ('1606', 1), ('8305', 1), ('2572', 1), ('6170', 1), ('6163', 1), ('6987', 1), ('6465', 1), ('2019', 1), ('1389', 1), ('3045', 1), ('6585', 1), ('6309', 1), ('5329', 1), ('7088', 1), ('5561', 1), ('3124', 1), ('1333', 1), ('1999', 1), ('6003', 1), ('6680', 1), ('8178', 1), ('224450', 1), ('7214', 1), ('2300', 1), ('5099', 1), ('6068', 1), ('2452', 1), ('5796', 1), ('7818', 1), ('4198', 1), ('7245', 1), ('5142', 1), ('8087', 1), ('1116', 1), ('4722', 1), ('2640', 1), ('7981', 1), ('1543', 1), ('1478', 1), ('6466', 1), ('5587', 1), ('2627', 1), ('7477', 1), ('6169', 1), ('2769', 1), ('6810', 1), ('3071', 1), ('6967', 1), ('6122', 1), ('2961', 1), ('6873', 1), ('4718', 1), ('2409', 1), ('3028', 1), ('6158', 1), ('2848', 1)]\n",
      "chart finished\n"
     ]
    }
   ],
   "source": [
    "# inputevent histogram\n",
    "sql = 'select sum(count) from (\\\n",
    "select count(distinct hadm_id) as count from mimiciii.inputevents_mv where itemid {0} and hadm_id in (select * from admission_ids) \\\n",
    "union all select count(distinct hadm_id) as count from mimiciii.inputevents_cv where itemid {0} and hadm_id in (select * from admission_ids) \\\n",
    ") t'\n",
    "getNumberOfAdmissionThatUseStatId(sql, itemids['input'], admission_ids_txt,\n",
    "                                  f'{res_dir}/inputevent_numberOfAdmissionThatUseItemid.npy')\n",
    "\n",
    "print('input finished')\n",
    "\n",
    "# outputevent histogram\n",
    "sql = 'select count(distinct hadm_id) from mimiciii.outputevents where itemid {0} AND hadm_id in (select * from admission_ids)'\n",
    "getNumberOfAdmissionThatUseStatId(sql, itemids['output'], admission_ids_txt,\n",
    "                                  f'{res_dir}/outputevent_numberOfAdmissionThatUseItemid.npy')\n",
    "\n",
    "print('output finished')\n",
    "\n",
    "# chartevent\n",
    "sql = 'select count(distinct hadm_id) from mimiciii.chartevents where itemid {0} AND hadm_id in (select * from admission_ids)'\n",
    "getNumberOfAdmissionThatUseStatId(sql, itemids['chart'], admission_ids_txt,\n",
    "                                  f'{res_dir}/chartevent_numberOfAdmissionThatUseItemid.npy')\n",
    "\n",
    "print('chart finished')"
   ]
  },
  {
   "cell_type": "code",
   "execution_count": 8,
   "metadata": {},
   "outputs": [
    {
     "name": "stdout",
     "output_type": "stream",
     "text": [
      "3216\n"
     ]
    },
    {
     "data": {
      "text/plain": [
       "Text(0, 0.5, 'number of admissions using this feature')"
      ]
     },
     "execution_count": 8,
     "metadata": {},
     "output_type": "execute_result"
    },
    {
     "data": {
      "image/png": "[encoded data removed]",
      "text/plain": [
       "<Figure size 720x360 with 1 Axes>"
      ]
     },
     "metadata": {
      "needs_background": "light"
     },
     "output_type": "display_data"
    }
   ],
   "source": [
    "histo = np.load(f'{res_dir}/inputevent_numberOfAdmissionThatUseItemid.npy', allow_pickle=True).tolist()\n",
    "print(len(histo))\n",
    "plt.figure(figsize=(10,5))\n",
    "plt.bar([i for i in range(len(histo))],[int(r[1]) for r in histo])\n",
    "plt.title('Number of Admission That Use Itemid: inputevent')\n",
    "plt.xlabel('the rank of feature, ordered by number of admissions using this feature desc')\n",
    "plt.ylabel('number of admissions using this feature')"
   ]
  },
  {
   "cell_type": "code",
   "execution_count": 9,
   "metadata": {},
   "outputs": [
    {
     "name": "stdout",
     "output_type": "stream",
     "text": [
      "1155\n"
     ]
    },
    {
     "data": {
      "text/plain": [
       "Text(0, 0.5, 'number of admissions using this feature')"
      ]
     },
     "execution_count": 9,
     "metadata": {},
     "output_type": "execute_result"
    },
    {
     "data": {
      "image/png": "[encoded data removed]",
      "text/plain": [
       "<Figure size 720x360 with 1 Axes>"
      ]
     },
     "metadata": {
      "needs_background": "light"
     },
     "output_type": "display_data"
    }
   ],
   "source": [
    "histo = np.load(f'{res_dir}/outputevent_numberOfAdmissionThatUseItemid.npy', allow_pickle=True).tolist()\n",
    "print(len(histo))\n",
    "plt.figure(figsize=(10,5))\n",
    "plt.bar([i for i in range(len(histo))],[int(r[1]) for r in histo])\n",
    "plt.title('Number of Admission That Use Itemid: outputevent')\n",
    "plt.xlabel('the rank of feature, ordered by number of admissions using this feature desc')\n",
    "plt.ylabel('number of admissions using this feature')"
   ]
  },
  {
   "cell_type": "code",
   "execution_count": 10,
   "metadata": {},
   "outputs": [
    {
     "name": "stdout",
     "output_type": "stream",
     "text": [
      "6463\n"
     ]
    },
    {
     "data": {
      "text/plain": [
       "Text(0, 0.5, 'number of admissions using this feature')"
      ]
     },
     "execution_count": 10,
     "metadata": {},
     "output_type": "execute_result"
    },
    {
     "data": {
      "image/png": "[encoded data removed]",
      "text/plain": [
       "<Figure size 720x360 with 1 Axes>"
      ]
     },
     "metadata": {
      "needs_background": "light"
     },
     "output_type": "display_data"
    }
   ],
   "source": [
    "histo = np.load(f'{res_dir}/chartevent_numberOfAdmissionThatUseItemid.npy', allow_pickle=True).tolist()\n",
    "print(len(histo))\n",
    "plt.figure(figsize=(10,5))\n",
    "plt.bar([i for i in range(len(histo))],[int(r[1]) for r in histo])\n",
    "plt.title('Number of Admission That Use Itemid: chartevent')\n",
    "plt.xlabel('the rank of feature, ordered by number of admissions using this feature desc')\n",
    "plt.ylabel('number of admissions using this feature')"
   ]
  }
 ],
 "metadata": {
  "kernelspec": {
   "display_name": "Python 3",
   "language": "python",
   "name": "python3"
  },
  "language_info": {
   "codemirror_mode": {
    "name": "ipython",
    "version": 3
   },
   "file_extension": ".py",
   "mimetype": "text/x-python",
   "name": "python",
   "nbconvert_exporter": "python",
   "pygments_lexer": "ipython3",
   "version": "3.8.5"
  }
 },
 "nbformat": 4,
 "nbformat_minor": 1
}
