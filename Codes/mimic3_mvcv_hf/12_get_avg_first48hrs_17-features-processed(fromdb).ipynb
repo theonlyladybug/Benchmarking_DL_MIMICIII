{
 "cells": [
  {
   "cell_type": "code",
   "execution_count": 1,
   "metadata": {
    "collapsed": true
   },
   "outputs": [],
   "source": [
    "from __future__ import print_function\n",
    "\n",
    "import psycopg2\n",
    "import datetime\n",
    "import sys\n",
    "from operator import itemgetter, attrgetter, methodcaller\n",
    "import numpy as np\n",
    "import itertools\n",
    "import os.path\n",
    "import matplotlib.pyplot as plt\n",
    "import math\n",
    "from multiprocessing import Pool, cpu_count\n",
    "import re\n",
    "import traceback\n",
    "import shutil\n",
    "from collections import OrderedDict\n",
    "\n",
    "from utils import getConnection\n",
    "from utils import parseUnitsMap\n",
    "from utils import parseNum\n",
    "from utils import sparsify\n",
    "\n",
    "# %matplotlib inline"
   ]
  },
  {
   "cell_type": "code",
   "execution_count": 2,
   "metadata": {
    "collapsed": true
   },
   "outputs": [],
   "source": [
    "# HRS = 24\n",
    "HRS = 48\n",
    "TARGETDIR = '/media/data/mimic/hf_admdata_17f/'\n",
    "HRDIR = os.path.join(TARGETDIR, '%dhrs' % HRS)\n",
    "RESDIR = os.path.join(HRDIR, 'non_series')\n",
    "SERIALDIR = os.path.join(HRDIR, 'series')\n",
    "\n",
    "if not os.path.exists(RESDIR):\n",
    "    os.makedirs(RESDIR)"
   ]
  },
  {
   "cell_type": "code",
   "execution_count": 3,
   "metadata": {},
   "outputs": [
    {
     "name": "stdout",
     "output_type": "stream",
     "text": [
      "31912\n"
     ]
    }
   ],
   "source": [
    "data_all = np.load(os.path.join(HRDIR, 'DB_merged_%dhrs.npy' % HRS), allow_pickle=True).tolist()\n",
    "valid_aids = [t[0][-1] for t in data_all]\n",
    "print(len(valid_aids))\n",
    "print(valid_aids)\n",
    "\n",
    "admtype_map = {\n",
    "    'scheduledsurgical': 1,\n",
    "    'unscheduledsurgical': 2,\n",
    "    'medical': 0\n",
    "}\n",
    "\n",
    "def fetch_aid(aid):\n",
    "    conn = getConnection()\n",
    "    cur = conn.cursor()\n",
    "    sql = 'select * from mimiciii.mengcz_17features_first{0}h where hadm_id={1}'.format(HRS, aid)\n",
    "    cur.execute(sql)\n",
    "    res = cur.fetchone()\n",
    "    if res is None:\n",
    "        return None\n",
    "    res = list(res)[5:]\n",
    "    if res[-4] is None:\n",
    "        res[-4] = 0\n",
    "    if res[-3] is None:\n",
    "        res[-3] = 0\n",
    "    if res[-2] is None:\n",
    "        res[-2] = 0\n",
    "    res[-1] = admtype_map[res[-1].lower()]\n",
    "    return res\n",
    "\n",
    "p = Pool(16)\n",
    "ress = p.map(fetch_aid, valid_aids)\n",
    "p.close()\n",
    "p.join()\n",
    "\n",
    "assert len(ress) == len(valid_aids)\n",
    "assert len([1 for x in ress if x is None]) == 0\n",
    "\n",
    "INPUTFILEPATH = os.path.join(RESDIR, 'input.csv')\n",
    "with open(INPUTFILEPATH, 'w') as f:\n",
    "    for res in ress:\n",
    "        f.write(','.join(list(map(lambda x: str(x) if x is not None else '', res))) + '\\n')"
   ]
  },
  {
   "cell_type": "code",
   "execution_count": 4,
   "metadata": {},
   "outputs": [
    {
     "data": {
      "text/plain": [
       "31912"
      ]
     },
     "execution_count": 4,
     "metadata": {},
     "output_type": "execute_result"
    }
   ],
   "source": [
    "len(ress)"
   ]
  },
  {
   "cell_type": "code",
   "execution_count": 4,
   "metadata": {
    "collapsed": true
   },
   "outputs": [],
   "source": [
    "# labels\n",
    "adm_labels_all = np.load(os.path.join(HRDIR, 'ADM_LABELS_%dhrs.npy' % HRS), allow_pickle=True)\n",
    "with open(os.path.join(RESDIR, 'output.csv'), 'w') as f:\n",
    "    for res in adm_labels_all:\n",
    "        f.write(','.join(list(map(str, res))) + '\\n')"
   ]
  },
  {
   "cell_type": "code",
   "execution_count": 5,
   "metadata": {
    "collapsed": true
   },
   "outputs": [],
   "source": [
    "sapsii_scores = np.load(os.path.join(RESDIR, 'sapsii.npz'), allow_pickle=True)['sapsii']\n",
    "sapsii_subscores = sapsii_scores[:, 5:].astype(np.float64)\n",
    "sapsii_subscores[np.isnan(sapsii_subscores)] = 0\n",
    "np.savetxt(os.path.join(RESDIR, 'input_sapsiisubscores.csv'), sapsii_subscores, delimiter=',')"
   ]
  },
  {
   "cell_type": "code",
   "execution_count": 6,
   "metadata": {
    "collapsed": true
   },
   "outputs": [],
   "source": [
    "sql = 'select distinct hadm_id from mimiciii.icustays where dbsource = \\'metavision\\' '\n",
    "sql += 'UNION select distinct hadm_id from mimiciii.transfers where dbsource = \\'metavision\\''\n",
    "conn = getConnection()\n",
    "cur = conn.cursor()\n",
    "cur.execute(sql)\n",
    "res = cur.fetchall()\n",
    "\n",
    "admission_ids = []\n",
    "for r in res:\n",
    "    admission_ids.append(r[0]) \n",
    "mv_admset = set(admission_ids)\n",
    "mv_flag = np.array([valid_aid in mv_admset for valid_aid in valid_aids])\n",
    "np.save(os.path.join(RESDIR, 'mv_flag.npy'), mv_flag)\n",
    "\n",
    "# input mimicii\n",
    "inputarray = np.genfromtxt(os.path.join(RESDIR, 'input.csv'), delimiter=',')[mv_flag]\n",
    "# output mimicii\n",
    "outputlabels = np.genfromtxt(os.path.join(RESDIR, 'output.csv'), delimiter=',')[mv_flag].astype(int)\n",
    "# save!\n",
    "np.savetxt(os.path.join(RESDIR, 'input_mv.csv'), inputarray, delimiter=',')\n",
    "np.savetxt(os.path.join(RESDIR, 'output_mv.csv'), outputlabels, delimiter=',')\n",
    "\n",
    "input_trans = np.genfromtxt(os.path.join(RESDIR, 'input_sapsiisubscores.csv'), delimiter=',')[mv_flag]\n",
    "np.savetxt(os.path.join(RESDIR, 'input_sapsiisubscores_mv.csv'), input_trans, delimiter=',')\n",
    "\n",
    "# input mimicii\n",
    "inputarray = np.genfromtxt(os.path.join(RESDIR, 'input.csv'), delimiter=',')[~mv_flag]\n",
    "# output mimicii\n",
    "outputlabels = np.genfromtxt(os.path.join(RESDIR, 'output.csv'), delimiter=',')[~mv_flag].astype(int)\n",
    "# save!\n",
    "np.savetxt(os.path.join(RESDIR, 'input_cv.csv'), inputarray, delimiter=',')\n",
    "np.savetxt(os.path.join(RESDIR, 'output_cv.csv'), outputlabels, delimiter=',')\n",
    "\n",
    "input_trans = np.genfromtxt(os.path.join(RESDIR, 'input_sapsiisubscores.csv'), delimiter=',')[~mv_flag]\n",
    "np.savetxt(os.path.join(RESDIR, 'input_sapsiisubscores_cv.csv'), input_trans, delimiter=',')"
   ]
  },
  {
   "cell_type": "code",
   "execution_count": 7,
   "metadata": {
    "collapsed": true
   },
   "outputs": [],
   "source": [
    "# FOLDSPATH = '../../Data/admdata_17f/24hrs/series/'\n",
    "# FOLDSOUTPATH = '../../Data/admdata_17f/24hrs/non_series/folds'\n",
    "def gen_file_for_r(FOLDSPATH, FOLDSOUTPATH, RESDIR, inputfilename, outputfilename):\n",
    "    if not os.path.exists(FOLDSOUTPATH):\n",
    "        os.makedirs(FOLDSOUTPATH)\n",
    "    inputarray = np.genfromtxt(os.path.join(RESDIR, inputfilename), delimiter=',')\n",
    "    outputarray = np.genfromtxt(os.path.join(RESDIR, outputfilename), delimiter=',')\n",
    "    for t in range(len(adm_labels_all[0])):\n",
    "        folds = np.load(os.path.join(FOLDSPATH, '5-folds.npz'), allow_pickle=True)['folds_ep_mor'][t][0]\n",
    "        for fi, f in enumerate(folds):\n",
    "            train, valid, test = f[0], f[1], f[2]\n",
    "            train = np.concatenate((train, valid))\n",
    "            Xtrain = inputarray[train, :]\n",
    "            train_mean = np.nanmean(Xtrain, axis=0)\n",
    "            train_std = np.nanstd(Xtrain, axis=0)\n",
    "            newinput = np.copy(inputarray)\n",
    "            for l in range(newinput.shape[0]):\n",
    "                newinput[l,:] = (newinput[l,:] - train_mean) / train_std\n",
    "            newinput[np.isinf(newinput)] = 0\n",
    "            newinput[np.isnan(newinput)] = 0\n",
    "            np.savetxt(os.path.join(FOLDSOUTPATH, 'input_train_%d_%d.csv' % (fi, t)), newinput[train], delimiter=',')\n",
    "            np.savetxt(os.path.join(FOLDSOUTPATH, 'output_train_%d_%d.csv' % (fi, t)), outputarray[train], delimiter=',')\n",
    "            np.savetxt(os.path.join(FOLDSOUTPATH, 'input_test_%d_%d.csv' % (fi, t)), newinput[test], delimiter=',')\n",
    "            np.savetxt(os.path.join(FOLDSOUTPATH, 'output_test_%d_%d.csv' % (fi, t)), outputarray[test], delimiter=',')\n",
    "            print(os.path.join(FOLDSOUTPATH, 'input_%d_%d.csv' % (fi, t)))"
   ]
  },
  {
   "cell_type": "code",
   "execution_count": 8,
   "metadata": {
    "scrolled": true
   },
   "outputs": [
    {
     "name": "stdout",
     "output_type": "stream",
     "text": [
      "../../Data/admdata_17f/48hrs/non_series/folds/input_0_0.csv\n",
      "../../Data/admdata_17f/48hrs/non_series/folds/input_1_0.csv\n",
      "../../Data/admdata_17f/48hrs/non_series/folds/input_2_0.csv\n",
      "../../Data/admdata_17f/48hrs/non_series/folds/input_3_0.csv\n",
      "../../Data/admdata_17f/48hrs/non_series/folds/input_4_0.csv\n",
      "../../Data/admdata_17f/48hrs/non_series/folds/input_0_1.csv\n",
      "../../Data/admdata_17f/48hrs/non_series/folds/input_1_1.csv\n",
      "../../Data/admdata_17f/48hrs/non_series/folds/input_2_1.csv\n",
      "../../Data/admdata_17f/48hrs/non_series/folds/input_3_1.csv\n",
      "../../Data/admdata_17f/48hrs/non_series/folds/input_4_1.csv\n",
      "../../Data/admdata_17f/48hrs/non_series/folds/input_0_2.csv\n",
      "../../Data/admdata_17f/48hrs/non_series/folds/input_1_2.csv\n",
      "../../Data/admdata_17f/48hrs/non_series/folds/input_2_2.csv\n",
      "../../Data/admdata_17f/48hrs/non_series/folds/input_3_2.csv\n",
      "../../Data/admdata_17f/48hrs/non_series/folds/input_4_2.csv\n",
      "../../Data/admdata_17f/48hrs/non_series/folds/input_0_3.csv\n",
      "../../Data/admdata_17f/48hrs/non_series/folds/input_1_3.csv\n",
      "../../Data/admdata_17f/48hrs/non_series/folds/input_2_3.csv\n",
      "../../Data/admdata_17f/48hrs/non_series/folds/input_3_3.csv\n",
      "../../Data/admdata_17f/48hrs/non_series/folds/input_4_3.csv\n",
      "../../Data/admdata_17f/48hrs/non_series/folds/input_0_4.csv\n",
      "../../Data/admdata_17f/48hrs/non_series/folds/input_1_4.csv\n",
      "../../Data/admdata_17f/48hrs/non_series/folds/input_2_4.csv\n",
      "../../Data/admdata_17f/48hrs/non_series/folds/input_3_4.csv\n",
      "../../Data/admdata_17f/48hrs/non_series/folds/input_4_4.csv\n",
      "../../Data/admdata_17f/48hrs/non_series/folds/input_0_5.csv\n",
      "../../Data/admdata_17f/48hrs/non_series/folds/input_1_5.csv\n",
      "../../Data/admdata_17f/48hrs/non_series/folds/input_2_5.csv\n",
      "../../Data/admdata_17f/48hrs/non_series/folds/input_3_5.csv\n",
      "../../Data/admdata_17f/48hrs/non_series/folds/input_4_5.csv\n",
      "../../Data/admdata_17f/48hrs/non_series/folds_sapsiiscores/input_0_0.csv\n",
      "../../Data/admdata_17f/48hrs/non_series/folds_sapsiiscores/input_1_0.csv\n",
      "../../Data/admdata_17f/48hrs/non_series/folds_sapsiiscores/input_2_0.csv\n",
      "../../Data/admdata_17f/48hrs/non_series/folds_sapsiiscores/input_3_0.csv\n",
      "../../Data/admdata_17f/48hrs/non_series/folds_sapsiiscores/input_4_0.csv\n",
      "../../Data/admdata_17f/48hrs/non_series/folds_sapsiiscores/input_0_1.csv\n",
      "../../Data/admdata_17f/48hrs/non_series/folds_sapsiiscores/input_1_1.csv\n",
      "../../Data/admdata_17f/48hrs/non_series/folds_sapsiiscores/input_2_1.csv\n",
      "../../Data/admdata_17f/48hrs/non_series/folds_sapsiiscores/input_3_1.csv\n",
      "../../Data/admdata_17f/48hrs/non_series/folds_sapsiiscores/input_4_1.csv\n",
      "../../Data/admdata_17f/48hrs/non_series/folds_sapsiiscores/input_0_2.csv\n",
      "../../Data/admdata_17f/48hrs/non_series/folds_sapsiiscores/input_1_2.csv\n",
      "../../Data/admdata_17f/48hrs/non_series/folds_sapsiiscores/input_2_2.csv\n",
      "../../Data/admdata_17f/48hrs/non_series/folds_sapsiiscores/input_3_2.csv\n"
     ]
    },
    {
     "name": "stderr",
     "output_type": "stream",
     "text": [
      "/[HOMEDIR]/.pyenv/versions/anaconda3-4.4.0/lib/python3.6/site-packages/ipykernel_launcher.py:18: RuntimeWarning: invalid value encountered in true_divide\n",
      "/[HOMEDIR]/.pyenv/versions/anaconda3-4.4.0/lib/python3.6/site-packages/ipykernel_launcher.py:18: RuntimeWarning: divide by zero encountered in true_divide\n"
     ]
    },
    {
     "name": "stdout",
     "output_type": "stream",
     "text": [
      "../../Data/admdata_17f/48hrs/non_series/folds_sapsiiscores/input_4_2.csv\n",
      "../../Data/admdata_17f/48hrs/non_series/folds_sapsiiscores/input_0_3.csv\n",
      "../../Data/admdata_17f/48hrs/non_series/folds_sapsiiscores/input_1_3.csv\n",
      "../../Data/admdata_17f/48hrs/non_series/folds_sapsiiscores/input_2_3.csv\n",
      "../../Data/admdata_17f/48hrs/non_series/folds_sapsiiscores/input_3_3.csv\n",
      "../../Data/admdata_17f/48hrs/non_series/folds_sapsiiscores/input_4_3.csv\n",
      "../../Data/admdata_17f/48hrs/non_series/folds_sapsiiscores/input_0_4.csv\n",
      "../../Data/admdata_17f/48hrs/non_series/folds_sapsiiscores/input_1_4.csv\n",
      "../../Data/admdata_17f/48hrs/non_series/folds_sapsiiscores/input_2_4.csv\n",
      "../../Data/admdata_17f/48hrs/non_series/folds_sapsiiscores/input_3_4.csv\n",
      "../../Data/admdata_17f/48hrs/non_series/folds_sapsiiscores/input_4_4.csv\n",
      "../../Data/admdata_17f/48hrs/non_series/folds_sapsiiscores/input_0_5.csv\n",
      "../../Data/admdata_17f/48hrs/non_series/folds_sapsiiscores/input_1_5.csv\n",
      "../../Data/admdata_17f/48hrs/non_series/folds_sapsiiscores/input_2_5.csv\n",
      "../../Data/admdata_17f/48hrs/non_series/folds_sapsiiscores/input_3_5.csv\n",
      "../../Data/admdata_17f/48hrs/non_series/folds_sapsiiscores/input_4_5.csv\n"
     ]
    }
   ],
   "source": [
    "# for 17 features on mimiciii\n",
    "gen_file_for_r(\n",
    "    SERIALDIR,\n",
    "    os.path.join(RESDIR, 'folds'),\n",
    "    RESDIR,\n",
    "    'input.csv',\n",
    "    'output.csv'\n",
    ")\n",
    "\n",
    "# for subscores on mimiciii\n",
    "gen_file_for_r(\n",
    "    SERIALDIR,\n",
    "    os.path.join(RESDIR, 'folds_sapsiiscores'),\n",
    "    RESDIR,\n",
    "    'input_sapsiisubscores.csv',\n",
    "    'output.csv'\n",
    ")"
   ]
  },
  {
   "cell_type": "code",
   "execution_count": 9,
   "metadata": {
    "scrolled": true
   },
   "outputs": [
    {
     "name": "stdout",
     "output_type": "stream",
     "text": [
      "../../Data/admdata_17f/48hrs/non_series/folds/cv/input_0_0.csv\n",
      "../../Data/admdata_17f/48hrs/non_series/folds/cv/input_1_0.csv\n",
      "../../Data/admdata_17f/48hrs/non_series/folds/cv/input_2_0.csv\n",
      "../../Data/admdata_17f/48hrs/non_series/folds/cv/input_3_0.csv\n",
      "../../Data/admdata_17f/48hrs/non_series/folds/cv/input_4_0.csv\n",
      "../../Data/admdata_17f/48hrs/non_series/folds/cv/input_0_1.csv\n",
      "../../Data/admdata_17f/48hrs/non_series/folds/cv/input_1_1.csv\n",
      "../../Data/admdata_17f/48hrs/non_series/folds/cv/input_2_1.csv\n",
      "../../Data/admdata_17f/48hrs/non_series/folds/cv/input_3_1.csv\n",
      "../../Data/admdata_17f/48hrs/non_series/folds/cv/input_4_1.csv\n",
      "../../Data/admdata_17f/48hrs/non_series/folds/cv/input_0_2.csv\n",
      "../../Data/admdata_17f/48hrs/non_series/folds/cv/input_1_2.csv\n",
      "../../Data/admdata_17f/48hrs/non_series/folds/cv/input_2_2.csv\n",
      "../../Data/admdata_17f/48hrs/non_series/folds/cv/input_3_2.csv\n",
      "../../Data/admdata_17f/48hrs/non_series/folds/cv/input_4_2.csv\n",
      "../../Data/admdata_17f/48hrs/non_series/folds/cv/input_0_3.csv\n",
      "../../Data/admdata_17f/48hrs/non_series/folds/cv/input_1_3.csv\n",
      "../../Data/admdata_17f/48hrs/non_series/folds/cv/input_2_3.csv\n",
      "../../Data/admdata_17f/48hrs/non_series/folds/cv/input_3_3.csv\n",
      "../../Data/admdata_17f/48hrs/non_series/folds/cv/input_4_3.csv\n",
      "../../Data/admdata_17f/48hrs/non_series/folds/cv/input_0_4.csv\n",
      "../../Data/admdata_17f/48hrs/non_series/folds/cv/input_1_4.csv\n",
      "../../Data/admdata_17f/48hrs/non_series/folds/cv/input_2_4.csv\n",
      "../../Data/admdata_17f/48hrs/non_series/folds/cv/input_3_4.csv\n",
      "../../Data/admdata_17f/48hrs/non_series/folds/cv/input_4_4.csv\n",
      "../../Data/admdata_17f/48hrs/non_series/folds/cv/input_0_5.csv\n",
      "../../Data/admdata_17f/48hrs/non_series/folds/cv/input_1_5.csv\n",
      "../../Data/admdata_17f/48hrs/non_series/folds/cv/input_2_5.csv\n",
      "../../Data/admdata_17f/48hrs/non_series/folds/cv/input_3_5.csv\n",
      "../../Data/admdata_17f/48hrs/non_series/folds/cv/input_4_5.csv\n",
      "../../Data/admdata_17f/48hrs/non_series/folds_sapsiiscores/cv/input_0_0.csv\n",
      "../../Data/admdata_17f/48hrs/non_series/folds_sapsiiscores/cv/input_1_0.csv\n",
      "../../Data/admdata_17f/48hrs/non_series/folds_sapsiiscores/cv/input_2_0.csv\n"
     ]
    },
    {
     "name": "stderr",
     "output_type": "stream",
     "text": [
      "/[HOMEDIR]/.pyenv/versions/anaconda3-4.4.0/lib/python3.6/site-packages/ipykernel_launcher.py:18: RuntimeWarning: invalid value encountered in true_divide\n",
      "/[HOMEDIR]/.pyenv/versions/anaconda3-4.4.0/lib/python3.6/site-packages/ipykernel_launcher.py:18: RuntimeWarning: divide by zero encountered in true_divide\n"
     ]
    },
    {
     "name": "stdout",
     "output_type": "stream",
     "text": [
      "../../Data/admdata_17f/48hrs/non_series/folds_sapsiiscores/cv/input_3_0.csv\n",
      "../../Data/admdata_17f/48hrs/non_series/folds_sapsiiscores/cv/input_4_0.csv\n",
      "../../Data/admdata_17f/48hrs/non_series/folds_sapsiiscores/cv/input_0_1.csv\n",
      "../../Data/admdata_17f/48hrs/non_series/folds_sapsiiscores/cv/input_1_1.csv\n",
      "../../Data/admdata_17f/48hrs/non_series/folds_sapsiiscores/cv/input_2_1.csv\n",
      "../../Data/admdata_17f/48hrs/non_series/folds_sapsiiscores/cv/input_3_1.csv\n",
      "../../Data/admdata_17f/48hrs/non_series/folds_sapsiiscores/cv/input_4_1.csv\n",
      "../../Data/admdata_17f/48hrs/non_series/folds_sapsiiscores/cv/input_0_2.csv\n",
      "../../Data/admdata_17f/48hrs/non_series/folds_sapsiiscores/cv/input_1_2.csv\n",
      "../../Data/admdata_17f/48hrs/non_series/folds_sapsiiscores/cv/input_2_2.csv\n",
      "../../Data/admdata_17f/48hrs/non_series/folds_sapsiiscores/cv/input_3_2.csv\n",
      "../../Data/admdata_17f/48hrs/non_series/folds_sapsiiscores/cv/input_4_2.csv\n",
      "../../Data/admdata_17f/48hrs/non_series/folds_sapsiiscores/cv/input_0_3.csv\n",
      "../../Data/admdata_17f/48hrs/non_series/folds_sapsiiscores/cv/input_1_3.csv\n",
      "../../Data/admdata_17f/48hrs/non_series/folds_sapsiiscores/cv/input_2_3.csv\n",
      "../../Data/admdata_17f/48hrs/non_series/folds_sapsiiscores/cv/input_3_3.csv\n",
      "../../Data/admdata_17f/48hrs/non_series/folds_sapsiiscores/cv/input_4_3.csv\n",
      "../../Data/admdata_17f/48hrs/non_series/folds_sapsiiscores/cv/input_0_4.csv\n",
      "../../Data/admdata_17f/48hrs/non_series/folds_sapsiiscores/cv/input_1_4.csv\n",
      "../../Data/admdata_17f/48hrs/non_series/folds_sapsiiscores/cv/input_2_4.csv\n",
      "../../Data/admdata_17f/48hrs/non_series/folds_sapsiiscores/cv/input_3_4.csv\n",
      "../../Data/admdata_17f/48hrs/non_series/folds_sapsiiscores/cv/input_4_4.csv\n",
      "../../Data/admdata_17f/48hrs/non_series/folds_sapsiiscores/cv/input_0_5.csv\n",
      "../../Data/admdata_17f/48hrs/non_series/folds_sapsiiscores/cv/input_1_5.csv\n",
      "../../Data/admdata_17f/48hrs/non_series/folds_sapsiiscores/cv/input_2_5.csv\n",
      "../../Data/admdata_17f/48hrs/non_series/folds_sapsiiscores/cv/input_3_5.csv\n",
      "../../Data/admdata_17f/48hrs/non_series/folds_sapsiiscores/cv/input_4_5.csv\n"
     ]
    }
   ],
   "source": [
    "# for 17 features on mimicii\n",
    "gen_file_for_r(\n",
    "    os.path.join(SERIALDIR, 'cv'),\n",
    "    os.path.join(RESDIR, 'folds', 'cv'),\n",
    "    RESDIR,\n",
    "    'input_cv.csv',\n",
    "    'output_cv.csv'\n",
    ")\n",
    "\n",
    "# for subscores on mimicii\n",
    "gen_file_for_r(\n",
    "    os.path.join(SERIALDIR, 'cv'),\n",
    "    os.path.join(RESDIR, 'folds_sapsiiscores', 'cv'),\n",
    "    RESDIR,\n",
    "    'input_sapsiisubscores_cv.csv',\n",
    "    'output_cv.csv'\n",
    ")"
   ]
  }
 ],
 "metadata": {
  "kernelspec": {
   "display_name": "Python 3",
   "language": "python",
   "name": "python3"
  },
  "language_info": {
   "codemirror_mode": {
    "name": "ipython",
    "version": 3
   },
   "file_extension": ".py",
   "mimetype": "text/x-python",
   "name": "python",
   "nbconvert_exporter": "python",
   "pygments_lexer": "ipython3",
   "version": "3.8.5"
  }
 },
 "nbformat": 4,
 "nbformat_minor": 2
}
