{
 "cells": [
  {
   "cell_type": "markdown",
   "metadata": {},
   "source": [
    "# Valid Dataset\n",
    "\n",
    "Here we only keep admissions which are the first admissions of some patients and are of patients >= 15 years old."
   ]
  },
  {
   "cell_type": "code",
   "execution_count": 1,
   "metadata": {},
   "outputs": [],
   "source": [
    "from __future__ import print_function\n",
    "\n",
    "import psycopg2\n",
    "import datetime\n",
    "import sys\n",
    "from operator import itemgetter, attrgetter, methodcaller\n",
    "import numpy as np\n",
    "import itertools\n",
    "import os.path\n",
    "import matplotlib.pyplot as plt\n",
    "import math\n",
    "from multiprocessing import Pool, cpu_count\n",
    "import re\n",
    "import traceback\n",
    "import shutil\n",
    "\n",
    "from utils import getConnection\n",
    "from utils import parseUnitsMap\n",
    "from utils import parseNum\n",
    "from utils import sparsify\n",
    "\n",
    "%matplotlib inline"
   ]
  },
  {
   "cell_type": "code",
   "execution_count": 2,
   "metadata": {},
   "outputs": [],
   "source": [
    "res_dir = '/media/data/mimic/res'"
   ]
  },
  {
   "cell_type": "code",
   "execution_count": 8,
   "metadata": {},
   "outputs": [
    {
     "name": "stdout",
     "output_type": "stream",
     "text": [
      "46520\n",
      "58576 [125195, 121731, 107612, 130785, 182359, 185381, 132654, 120303, 142716, 102298]\n",
      "46520\n",
      "46230 [121731, 107612, 130785, 182359, 185381, 132654, 142716, 102298, 134562, 145214]\n"
     ]
    }
   ],
   "source": [
    "_adm_first = np.load(f'{res_dir}/admission_first_ids.npy', allow_pickle=True).tolist()\n",
    "admission_first_ids_list = _adm_first['admission_ids']\n",
    "print(len(admission_first_ids_list))\n",
    "\n",
    "admission_ids = [re.match(r'adm\\-(\\d+)\\.npy', x) for x in os.listdir('/media/data/mimic/admdata/')]\n",
    "admission_ids = [int(x.group(1)) for x in admission_ids if x is not None]\n",
    "print(len(admission_ids), admission_ids[:10])\n",
    "\n",
    "admission_first_ids_set = set(admission_first_ids_list)\n",
    "print(len(admission_first_ids_set))\n",
    "admission_first_ids = [x for x in admission_ids if x in admission_first_ids_set]\n",
    "print(len(admission_first_ids), admission_first_ids[:10])"
   ]
  },
  {
   "cell_type": "code",
   "execution_count": 19,
   "metadata": {},
   "outputs": [
    {
     "data": {
      "text/plain": [
       "True"
      ]
     },
     "execution_count": 19,
     "metadata": {},
     "output_type": "execute_result"
    }
   ],
   "source": [
    "170719 in admission_first_ids"
   ]
  },
  {
   "cell_type": "code",
   "execution_count": 20,
   "metadata": {},
   "outputs": [],
   "source": [
    "TARGETDIR = '/media/data/mimic/admdata_valid'\n",
    "if not os.path.exists(TARGETDIR):\n",
    "    os.makedirs(TARGETDIR)"
   ]
  },
  {
   "cell_type": "markdown",
   "metadata": {},
   "source": [
    "## Store valid data\n",
    "\n",
    "We store all datafiles belonging to valid admission ids in a specific folder (../../Data/admdata_valid)"
   ]
  },
  {
   "cell_type": "code",
   "execution_count": 22,
   "metadata": {},
   "outputs": [],
   "source": [
    "def copy_valid_admissions(aid):\n",
    "    if aid in admission_first_ids_set:\n",
    "        res = np.load(os.path.join('/media/data/mimic/admdata', 'adm-%.6d.npy' % aid), allow_pickle=_pickle=True).tolist()\n",
    "        general = res['general']\n",
    "        age = general[2]\n",
    "        if age >= 15 * 365.25:\n",
    "            np.save(os.path.join(TARGETDIR, 'adm-%.6d.npy' % aid), res)\n",
    "        \n",
    "p = Pool()\n",
    "p.map(copy_valid_admissions, admission_ids)\n",
    "p.close()\n",
    "p.join()"
   ]
  }
 ],
 "metadata": {
  "kernelspec": {
   "display_name": "Python 3",
   "language": "python",
   "name": "python3"
  },
  "language_info": {
   "codemirror_mode": {
    "name": "ipython",
    "version": 3
   },
   "file_extension": ".py",
   "mimetype": "text/x-python",
   "name": "python",
   "nbconvert_exporter": "python",
   "pygments_lexer": "ipython3",
   "version": "3.8.5"
  }
 },
 "nbformat": 4,
 "nbformat_minor": 2
}
